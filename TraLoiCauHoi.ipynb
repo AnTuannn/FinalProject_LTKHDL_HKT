{
 "cells": [
  {
   "cell_type": "markdown",
   "id": "5684775c-56cd-4343-a152-2a3ba07820a0",
   "metadata": {},
   "source": [
    "# PHÂN TÍCH DỮ LIỆU, ĐẶT VÀ TRẢ LỜI CÂU HỎI"
   ]
  },
  {
   "cell_type": "markdown",
   "id": "63922685-7ae5-45ab-8419-300a521b57f1",
   "metadata": {},
   "source": [
    "## 1. Import thư viện cần thiết"
   ]
  },
  {
   "cell_type": "code",
   "execution_count": 1,
   "id": "ab8da561-a6f6-4f19-b196-c2f5a5bee7e2",
   "metadata": {},
   "outputs": [],
   "source": [
    "import numpy as np\n",
    "import pandas as pd\n",
    "import matplotlib.pyplot as plt"
   ]
  },
  {
   "cell_type": "markdown",
   "id": "c17f7921-bd07-4e87-a5f7-a47513b4557a",
   "metadata": {},
   "source": [
    "## 2. Đọc dữ liệu từ file csv"
   ]
  },
  {
   "cell_type": "code",
   "execution_count": 2,
   "id": "27d01dd5-383f-4fdb-a439-b834c9efa79e",
   "metadata": {},
   "outputs": [],
   "source": [
    "anime23_df = pd.read_csv('anime23_preprocessing.csv')"
   ]
  },
  {
   "cell_type": "code",
   "execution_count": 3,
   "id": "a149cb3f-c826-4f82-82e2-567d55e401a6",
   "metadata": {},
   "outputs": [
    {
     "data": {
      "text/html": [
       "<div>\n",
       "<style scoped>\n",
       "    .dataframe tbody tr th:only-of-type {\n",
       "        vertical-align: middle;\n",
       "    }\n",
       "\n",
       "    .dataframe tbody tr th {\n",
       "        vertical-align: top;\n",
       "    }\n",
       "\n",
       "    .dataframe thead th {\n",
       "        text-align: right;\n",
       "    }\n",
       "</style>\n",
       "<table border=\"1\" class=\"dataframe\">\n",
       "  <thead>\n",
       "    <tr style=\"text-align: right;\">\n",
       "      <th></th>\n",
       "      <th>anime_id</th>\n",
       "      <th>Name</th>\n",
       "      <th>Score</th>\n",
       "      <th>Genres</th>\n",
       "      <th>Type</th>\n",
       "      <th>Episodes</th>\n",
       "      <th>Status</th>\n",
       "      <th>Producers</th>\n",
       "      <th>Studios</th>\n",
       "      <th>Source</th>\n",
       "      <th>Rating</th>\n",
       "      <th>Rank</th>\n",
       "      <th>Popularity</th>\n",
       "      <th>Favorites</th>\n",
       "      <th>Scored By</th>\n",
       "      <th>Members</th>\n",
       "    </tr>\n",
       "  </thead>\n",
       "  <tbody>\n",
       "    <tr>\n",
       "      <th>0</th>\n",
       "      <td>1</td>\n",
       "      <td>Cowboy Bebop</td>\n",
       "      <td>8.75</td>\n",
       "      <td>Action, Award Winning, Sci-Fi</td>\n",
       "      <td>TV</td>\n",
       "      <td>26.0</td>\n",
       "      <td>Finished Airing</td>\n",
       "      <td>Bandai Visual</td>\n",
       "      <td>Sunrise</td>\n",
       "      <td>Original</td>\n",
       "      <td>R - 17+ (violence &amp; profanity)</td>\n",
       "      <td>41.0</td>\n",
       "      <td>43</td>\n",
       "      <td>78525</td>\n",
       "      <td>914193.0</td>\n",
       "      <td>1771505</td>\n",
       "    </tr>\n",
       "    <tr>\n",
       "      <th>1</th>\n",
       "      <td>5</td>\n",
       "      <td>Cowboy Bebop: Tengoku no Tobira</td>\n",
       "      <td>8.38</td>\n",
       "      <td>Action, Sci-Fi</td>\n",
       "      <td>Movie</td>\n",
       "      <td>1.0</td>\n",
       "      <td>Finished Airing</td>\n",
       "      <td>Sunrise, Bandai Visual</td>\n",
       "      <td>Bones</td>\n",
       "      <td>Original</td>\n",
       "      <td>R - 17+ (violence &amp; profanity)</td>\n",
       "      <td>189.0</td>\n",
       "      <td>602</td>\n",
       "      <td>1448</td>\n",
       "      <td>206248.0</td>\n",
       "      <td>360978</td>\n",
       "    </tr>\n",
       "    <tr>\n",
       "      <th>2</th>\n",
       "      <td>6</td>\n",
       "      <td>Trigun</td>\n",
       "      <td>8.22</td>\n",
       "      <td>Action, Adventure, Sci-Fi</td>\n",
       "      <td>TV</td>\n",
       "      <td>26.0</td>\n",
       "      <td>Finished Airing</td>\n",
       "      <td>Victor Entertainment</td>\n",
       "      <td>Madhouse</td>\n",
       "      <td>Manga</td>\n",
       "      <td>PG-13 - Teens 13 or older</td>\n",
       "      <td>328.0</td>\n",
       "      <td>246</td>\n",
       "      <td>15035</td>\n",
       "      <td>356739.0</td>\n",
       "      <td>727252</td>\n",
       "    </tr>\n",
       "    <tr>\n",
       "      <th>3</th>\n",
       "      <td>7</td>\n",
       "      <td>Witch Hunter Robin</td>\n",
       "      <td>7.25</td>\n",
       "      <td>Action, Drama, Mystery, Supernatural</td>\n",
       "      <td>TV</td>\n",
       "      <td>26.0</td>\n",
       "      <td>Finished Airing</td>\n",
       "      <td>Bandai Visual, Dentsu, Victor Entertainment, T...</td>\n",
       "      <td>Sunrise</td>\n",
       "      <td>Original</td>\n",
       "      <td>PG-13 - Teens 13 or older</td>\n",
       "      <td>2764.0</td>\n",
       "      <td>1795</td>\n",
       "      <td>613</td>\n",
       "      <td>42829.0</td>\n",
       "      <td>111931</td>\n",
       "    </tr>\n",
       "    <tr>\n",
       "      <th>4</th>\n",
       "      <td>8</td>\n",
       "      <td>Bouken Ou Beet</td>\n",
       "      <td>6.94</td>\n",
       "      <td>Adventure, Fantasy, Supernatural</td>\n",
       "      <td>TV</td>\n",
       "      <td>52.0</td>\n",
       "      <td>Finished Airing</td>\n",
       "      <td>TV Tokyo, Dentsu</td>\n",
       "      <td>Toei Animation</td>\n",
       "      <td>Manga</td>\n",
       "      <td>PG - Children</td>\n",
       "      <td>4240.0</td>\n",
       "      <td>5126</td>\n",
       "      <td>14</td>\n",
       "      <td>6413.0</td>\n",
       "      <td>15001</td>\n",
       "    </tr>\n",
       "  </tbody>\n",
       "</table>\n",
       "</div>"
      ],
      "text/plain": [
       "   anime_id                             Name  Score  \\\n",
       "0         1                     Cowboy Bebop   8.75   \n",
       "1         5  Cowboy Bebop: Tengoku no Tobira   8.38   \n",
       "2         6                           Trigun   8.22   \n",
       "3         7               Witch Hunter Robin   7.25   \n",
       "4         8                   Bouken Ou Beet   6.94   \n",
       "\n",
       "                                 Genres   Type  Episodes           Status  \\\n",
       "0         Action, Award Winning, Sci-Fi     TV      26.0  Finished Airing   \n",
       "1                        Action, Sci-Fi  Movie       1.0  Finished Airing   \n",
       "2             Action, Adventure, Sci-Fi     TV      26.0  Finished Airing   \n",
       "3  Action, Drama, Mystery, Supernatural     TV      26.0  Finished Airing   \n",
       "4      Adventure, Fantasy, Supernatural     TV      52.0  Finished Airing   \n",
       "\n",
       "                                           Producers         Studios  \\\n",
       "0                                      Bandai Visual         Sunrise   \n",
       "1                             Sunrise, Bandai Visual           Bones   \n",
       "2                               Victor Entertainment        Madhouse   \n",
       "3  Bandai Visual, Dentsu, Victor Entertainment, T...         Sunrise   \n",
       "4                                   TV Tokyo, Dentsu  Toei Animation   \n",
       "\n",
       "     Source                          Rating    Rank  Popularity  Favorites  \\\n",
       "0  Original  R - 17+ (violence & profanity)    41.0          43      78525   \n",
       "1  Original  R - 17+ (violence & profanity)   189.0         602       1448   \n",
       "2     Manga       PG-13 - Teens 13 or older   328.0         246      15035   \n",
       "3  Original       PG-13 - Teens 13 or older  2764.0        1795        613   \n",
       "4     Manga                   PG - Children  4240.0        5126         14   \n",
       "\n",
       "   Scored By  Members  \n",
       "0   914193.0  1771505  \n",
       "1   206248.0   360978  \n",
       "2   356739.0   727252  \n",
       "3    42829.0   111931  \n",
       "4     6413.0    15001  "
      ]
     },
     "execution_count": 3,
     "metadata": {},
     "output_type": "execute_result"
    }
   ],
   "source": [
    "anime23_df.head()"
   ]
  },
  {
   "cell_type": "markdown",
   "id": "b69a0172-6444-4366-8b65-6708d6ca873b",
   "metadata": {},
   "source": [
    "## 3. Đặt câu hỏi"
   ]
  },
  {
   "cell_type": "markdown",
   "id": "8b03d390-5cdb-45bd-9ae5-6effbeb339ac",
   "metadata": {},
   "source": [
    "#### Đặc điểm chung của các anime nổi tiếng là gì?"
   ]
  },
  {
   "cell_type": "markdown",
   "id": "0d330caf-76a3-442c-8258-c939c2b22489",
   "metadata": {},
   "source": [
    "Việc tìm ra được điểm chung của các anime nổi tiếng hiện tại có thể giúp:\n",
    "- Về phía nhà sản xuất, các công ty mua bản quyền phim để chiếu trên nền tảng của mình:\n",
    "    - Giúp nhà sản xuất nhận ra được những đặc điểm chung của các phim nổi tiếng từ đó có thể tìm kiếm hay sản xuất dựa trên các đặc điểm đó, để có thể dễ dàng thu hút được lượng người xem lớn.\n",
    "    - Giúp các nền tảng mua bản quyền phim để chiếu có các tiêu chí cụ thể để lựa chọn anime mới, có tiềm năng đưa về nền tảng nhầm đạt được doanh thu, doanh số cao.\n",
    "    - Giúp phát hiện ra xu hướng, thị hiếu của khán giả hiện giờ, ngoài ra cũng có thể tìm ra được những điểm riêng đặc biệt mà có thể phát triển sau này.\n",
    "    - Có thể giúp phát hiện các nhà sản xuất  chưa nổi tiếng có thể có thêm một số thông tin lý do tại sao anime mình ít lượt theo dõi, từ đó có thể cải thiện hơn về chất lượng sao này dựa trên những thông tin nhận được\n",
    "- Về phía người xem anime:\n",
    "    - Giúp biết được các loại phim nổi tiếng sẽ có những đặc điểm gì từ đó cũng có thể lựa chọn ra những phim mới để theo dõi.\n",
    "    "
   ]
  },
  {
   "cell_type": "markdown",
   "id": "7de94fd8-ffc7-41c0-ae57-cc705249c6c8",
   "metadata": {},
   "source": [
    "## 4. Trả lời câu hỏi"
   ]
  },
  {
   "cell_type": "markdown",
   "id": "0485a774-fb5b-4fd7-a354-c12ef6382ea1",
   "metadata": {},
   "source": [
    "#### Để trả lời câu hỏi này đầu tiên em sẽ lấy 2500 anime có xếp hạng `Popularity` cao nhất. Em lấy 25000 vì bộ dữ liệu mình có gần 25000 anime nên em lấy 1/10 số anime top đầu để đánh giá."
   ]
  },
  {
   "cell_type": "markdown",
   "id": "8a9c8034-2f7c-4c3a-bf5a-8369a037e0a2",
   "metadata": {},
   "source": [
    "Đầu tiên xếp các anime theo thứ tự Popularity"
   ]
  },
  {
   "cell_type": "code",
   "execution_count": 4,
   "id": "42dc96c4-7b1e-4c28-be47-a7c8658b6e79",
   "metadata": {},
   "outputs": [
    {
     "data": {
      "text/html": [
       "<div>\n",
       "<style scoped>\n",
       "    .dataframe tbody tr th:only-of-type {\n",
       "        vertical-align: middle;\n",
       "    }\n",
       "\n",
       "    .dataframe tbody tr th {\n",
       "        vertical-align: top;\n",
       "    }\n",
       "\n",
       "    .dataframe thead th {\n",
       "        text-align: right;\n",
       "    }\n",
       "</style>\n",
       "<table border=\"1\" class=\"dataframe\">\n",
       "  <thead>\n",
       "    <tr style=\"text-align: right;\">\n",
       "      <th></th>\n",
       "      <th>anime_id</th>\n",
       "      <th>Name</th>\n",
       "      <th>Score</th>\n",
       "      <th>Genres</th>\n",
       "      <th>Type</th>\n",
       "      <th>Episodes</th>\n",
       "      <th>Status</th>\n",
       "      <th>Producers</th>\n",
       "      <th>Studios</th>\n",
       "      <th>Source</th>\n",
       "      <th>Rating</th>\n",
       "      <th>Rank</th>\n",
       "      <th>Popularity</th>\n",
       "      <th>Favorites</th>\n",
       "      <th>Scored By</th>\n",
       "      <th>Members</th>\n",
       "    </tr>\n",
       "  </thead>\n",
       "  <tbody>\n",
       "    <tr>\n",
       "      <th>24904</th>\n",
       "      <td>55735</td>\n",
       "      <td>Shijuuku Nichi</td>\n",
       "      <td>NaN</td>\n",
       "      <td>UNKNOWN</td>\n",
       "      <td>Music</td>\n",
       "      <td>1.0</td>\n",
       "      <td>Finished Airing</td>\n",
       "      <td>UNKNOWN</td>\n",
       "      <td>UNKNOWN</td>\n",
       "      <td>Original</td>\n",
       "      <td>PG-13 - Teens 13 or older</td>\n",
       "      <td>0.0</td>\n",
       "      <td>0</td>\n",
       "      <td>0</td>\n",
       "      <td>NaN</td>\n",
       "      <td>0</td>\n",
       "    </tr>\n",
       "    <tr>\n",
       "      <th>24498</th>\n",
       "      <td>55227</td>\n",
       "      <td>Night Flower</td>\n",
       "      <td>NaN</td>\n",
       "      <td>Boys Love</td>\n",
       "      <td>Music</td>\n",
       "      <td>1.0</td>\n",
       "      <td>Finished Airing</td>\n",
       "      <td>UNKNOWN</td>\n",
       "      <td>UNKNOWN</td>\n",
       "      <td>Other</td>\n",
       "      <td>UNKNOWN</td>\n",
       "      <td>0.0</td>\n",
       "      <td>0</td>\n",
       "      <td>0</td>\n",
       "      <td>NaN</td>\n",
       "      <td>0</td>\n",
       "    </tr>\n",
       "    <tr>\n",
       "      <th>24494</th>\n",
       "      <td>55218</td>\n",
       "      <td>The Little Name</td>\n",
       "      <td>NaN</td>\n",
       "      <td>UNKNOWN</td>\n",
       "      <td>Music</td>\n",
       "      <td>1.0</td>\n",
       "      <td>Finished Airing</td>\n",
       "      <td>UNKNOWN</td>\n",
       "      <td>UNKNOWN</td>\n",
       "      <td>Unknown</td>\n",
       "      <td>G - All Ages</td>\n",
       "      <td>0.0</td>\n",
       "      <td>0</td>\n",
       "      <td>0</td>\n",
       "      <td>NaN</td>\n",
       "      <td>0</td>\n",
       "    </tr>\n",
       "    <tr>\n",
       "      <th>24468</th>\n",
       "      <td>55178</td>\n",
       "      <td>Ridin' (IMLAY Remix)</td>\n",
       "      <td>NaN</td>\n",
       "      <td>UNKNOWN</td>\n",
       "      <td>Music</td>\n",
       "      <td>1.0</td>\n",
       "      <td>Finished Airing</td>\n",
       "      <td>UNKNOWN</td>\n",
       "      <td>UNKNOWN</td>\n",
       "      <td>Original</td>\n",
       "      <td>G - All Ages</td>\n",
       "      <td>0.0</td>\n",
       "      <td>0</td>\n",
       "      <td>0</td>\n",
       "      <td>NaN</td>\n",
       "      <td>0</td>\n",
       "    </tr>\n",
       "    <tr>\n",
       "      <th>24464</th>\n",
       "      <td>55174</td>\n",
       "      <td>Bad Boy (Slom Remix)</td>\n",
       "      <td>NaN</td>\n",
       "      <td>UNKNOWN</td>\n",
       "      <td>Music</td>\n",
       "      <td>1.0</td>\n",
       "      <td>Finished Airing</td>\n",
       "      <td>UNKNOWN</td>\n",
       "      <td>UNKNOWN</td>\n",
       "      <td>Original</td>\n",
       "      <td>G - All Ages</td>\n",
       "      <td>0.0</td>\n",
       "      <td>0</td>\n",
       "      <td>0</td>\n",
       "      <td>NaN</td>\n",
       "      <td>0</td>\n",
       "    </tr>\n",
       "  </tbody>\n",
       "</table>\n",
       "</div>"
      ],
      "text/plain": [
       "       anime_id                  Name  Score     Genres   Type  Episodes  \\\n",
       "24904     55735        Shijuuku Nichi    NaN    UNKNOWN  Music       1.0   \n",
       "24498     55227          Night Flower    NaN  Boys Love  Music       1.0   \n",
       "24494     55218       The Little Name    NaN    UNKNOWN  Music       1.0   \n",
       "24468     55178  Ridin' (IMLAY Remix)    NaN    UNKNOWN  Music       1.0   \n",
       "24464     55174  Bad Boy (Slom Remix)    NaN    UNKNOWN  Music       1.0   \n",
       "\n",
       "                Status Producers  Studios    Source  \\\n",
       "24904  Finished Airing   UNKNOWN  UNKNOWN  Original   \n",
       "24498  Finished Airing   UNKNOWN  UNKNOWN     Other   \n",
       "24494  Finished Airing   UNKNOWN  UNKNOWN   Unknown   \n",
       "24468  Finished Airing   UNKNOWN  UNKNOWN  Original   \n",
       "24464  Finished Airing   UNKNOWN  UNKNOWN  Original   \n",
       "\n",
       "                          Rating  Rank  Popularity  Favorites  Scored By  \\\n",
       "24904  PG-13 - Teens 13 or older   0.0           0          0        NaN   \n",
       "24498                    UNKNOWN   0.0           0          0        NaN   \n",
       "24494               G - All Ages   0.0           0          0        NaN   \n",
       "24468               G - All Ages   0.0           0          0        NaN   \n",
       "24464               G - All Ages   0.0           0          0        NaN   \n",
       "\n",
       "       Members  \n",
       "24904        0  \n",
       "24498        0  \n",
       "24494        0  \n",
       "24468        0  \n",
       "24464        0  "
      ]
     },
     "execution_count": 4,
     "metadata": {},
     "output_type": "execute_result"
    }
   ],
   "source": [
    "df_sorted_pop_asc = anime23_df.sort_values(by='Popularity', ascending=True)\n",
    "df_sorted_pop_asc.head()"
   ]
  },
  {
   "cell_type": "markdown",
   "id": "77060d44-3830-483f-a9fe-aaea5e74763a",
   "metadata": {},
   "source": [
    "Ở đây ta thấy các cột `Popularity` có giá trị 0 là do cột chưa được đánh giá độ phổ biến do có quá ít thông tin về anime do đó ta phải loại bỏ những cột này."
   ]
  },
  {
   "cell_type": "code",
   "execution_count": 7,
   "id": "9dd524fd-5bf2-4e9f-a18e-0d7990f118bb",
   "metadata": {},
   "outputs": [
    {
     "data": {
      "text/html": [
       "<div>\n",
       "<style scoped>\n",
       "    .dataframe tbody tr th:only-of-type {\n",
       "        vertical-align: middle;\n",
       "    }\n",
       "\n",
       "    .dataframe tbody tr th {\n",
       "        vertical-align: top;\n",
       "    }\n",
       "\n",
       "    .dataframe thead th {\n",
       "        text-align: right;\n",
       "    }\n",
       "</style>\n",
       "<table border=\"1\" class=\"dataframe\">\n",
       "  <thead>\n",
       "    <tr style=\"text-align: right;\">\n",
       "      <th></th>\n",
       "      <th>anime_id</th>\n",
       "      <th>Name</th>\n",
       "      <th>Score</th>\n",
       "      <th>Genres</th>\n",
       "      <th>Type</th>\n",
       "      <th>Episodes</th>\n",
       "      <th>Status</th>\n",
       "      <th>Producers</th>\n",
       "      <th>Studios</th>\n",
       "      <th>Source</th>\n",
       "      <th>Rating</th>\n",
       "      <th>Rank</th>\n",
       "      <th>Popularity</th>\n",
       "      <th>Favorites</th>\n",
       "      <th>Scored By</th>\n",
       "      <th>Members</th>\n",
       "    </tr>\n",
       "  </thead>\n",
       "  <tbody>\n",
       "    <tr>\n",
       "      <th>7428</th>\n",
       "      <td>16498</td>\n",
       "      <td>Shingeki no Kyojin</td>\n",
       "      <td>8.54</td>\n",
       "      <td>Action, Award Winning, Drama, Suspense</td>\n",
       "      <td>TV</td>\n",
       "      <td>25.0</td>\n",
       "      <td>Finished Airing</td>\n",
       "      <td>Production I.G, Dentsu, Mainichi Broadcasting ...</td>\n",
       "      <td>Wit Studio</td>\n",
       "      <td>Manga</td>\n",
       "      <td>R - 17+ (violence &amp; profanity)</td>\n",
       "      <td>107.0</td>\n",
       "      <td>1</td>\n",
       "      <td>163844</td>\n",
       "      <td>2660903.0</td>\n",
       "      <td>3744541</td>\n",
       "    </tr>\n",
       "    <tr>\n",
       "      <th>1393</th>\n",
       "      <td>1535</td>\n",
       "      <td>Death Note</td>\n",
       "      <td>8.62</td>\n",
       "      <td>Supernatural, Suspense</td>\n",
       "      <td>TV</td>\n",
       "      <td>37.0</td>\n",
       "      <td>Finished Airing</td>\n",
       "      <td>VAP, Konami, Ashi Productions, Nippon Televisi...</td>\n",
       "      <td>Madhouse</td>\n",
       "      <td>Manga</td>\n",
       "      <td>R - 17+ (violence &amp; profanity)</td>\n",
       "      <td>74.0</td>\n",
       "      <td>2</td>\n",
       "      <td>167586</td>\n",
       "      <td>2619479.0</td>\n",
       "      <td>3713315</td>\n",
       "    </tr>\n",
       "    <tr>\n",
       "      <th>3961</th>\n",
       "      <td>5114</td>\n",
       "      <td>Fullmetal Alchemist: Brotherhood</td>\n",
       "      <td>9.10</td>\n",
       "      <td>Action, Adventure, Drama, Fantasy</td>\n",
       "      <td>TV</td>\n",
       "      <td>64.0</td>\n",
       "      <td>Finished Airing</td>\n",
       "      <td>Aniplex, Square Enix, Mainichi Broadcasting Sy...</td>\n",
       "      <td>Bones</td>\n",
       "      <td>Manga</td>\n",
       "      <td>R - 17+ (violence &amp; profanity)</td>\n",
       "      <td>1.0</td>\n",
       "      <td>3</td>\n",
       "      <td>217606</td>\n",
       "      <td>2020030.0</td>\n",
       "      <td>3176556</td>\n",
       "    </tr>\n",
       "    <tr>\n",
       "      <th>10408</th>\n",
       "      <td>30276</td>\n",
       "      <td>One Punch Man</td>\n",
       "      <td>8.50</td>\n",
       "      <td>Action, Comedy</td>\n",
       "      <td>TV</td>\n",
       "      <td>12.0</td>\n",
       "      <td>Finished Airing</td>\n",
       "      <td>TV Tokyo, Bandai Visual, Lantis, Asatsu DK, Ba...</td>\n",
       "      <td>Madhouse</td>\n",
       "      <td>Web manga</td>\n",
       "      <td>R - 17+ (violence &amp; profanity)</td>\n",
       "      <td>127.0</td>\n",
       "      <td>4</td>\n",
       "      <td>62408</td>\n",
       "      <td>2131099.0</td>\n",
       "      <td>3058666</td>\n",
       "    </tr>\n",
       "    <tr>\n",
       "      <th>6596</th>\n",
       "      <td>11757</td>\n",
       "      <td>Sword Art Online</td>\n",
       "      <td>7.20</td>\n",
       "      <td>Action, Adventure, Fantasy, Romance</td>\n",
       "      <td>TV</td>\n",
       "      <td>25.0</td>\n",
       "      <td>Finished Airing</td>\n",
       "      <td>Aniplex, Genco, DAX Production, ASCII Media Wo...</td>\n",
       "      <td>A-1 Pictures</td>\n",
       "      <td>Light novel</td>\n",
       "      <td>PG-13 - Teens 13 or older</td>\n",
       "      <td>3055.0</td>\n",
       "      <td>5</td>\n",
       "      <td>67014</td>\n",
       "      <td>2072240.0</td>\n",
       "      <td>2951821</td>\n",
       "    </tr>\n",
       "  </tbody>\n",
       "</table>\n",
       "</div>"
      ],
      "text/plain": [
       "       anime_id                              Name  Score  \\\n",
       "7428      16498                Shingeki no Kyojin   8.54   \n",
       "1393       1535                        Death Note   8.62   \n",
       "3961       5114  Fullmetal Alchemist: Brotherhood   9.10   \n",
       "10408     30276                     One Punch Man   8.50   \n",
       "6596      11757                  Sword Art Online   7.20   \n",
       "\n",
       "                                       Genres Type  Episodes           Status  \\\n",
       "7428   Action, Award Winning, Drama, Suspense   TV      25.0  Finished Airing   \n",
       "1393                   Supernatural, Suspense   TV      37.0  Finished Airing   \n",
       "3961        Action, Adventure, Drama, Fantasy   TV      64.0  Finished Airing   \n",
       "10408                          Action, Comedy   TV      12.0  Finished Airing   \n",
       "6596      Action, Adventure, Fantasy, Romance   TV      25.0  Finished Airing   \n",
       "\n",
       "                                               Producers       Studios  \\\n",
       "7428   Production I.G, Dentsu, Mainichi Broadcasting ...    Wit Studio   \n",
       "1393   VAP, Konami, Ashi Productions, Nippon Televisi...      Madhouse   \n",
       "3961   Aniplex, Square Enix, Mainichi Broadcasting Sy...         Bones   \n",
       "10408  TV Tokyo, Bandai Visual, Lantis, Asatsu DK, Ba...      Madhouse   \n",
       "6596   Aniplex, Genco, DAX Production, ASCII Media Wo...  A-1 Pictures   \n",
       "\n",
       "            Source                          Rating    Rank  Popularity  \\\n",
       "7428         Manga  R - 17+ (violence & profanity)   107.0           1   \n",
       "1393         Manga  R - 17+ (violence & profanity)    74.0           2   \n",
       "3961         Manga  R - 17+ (violence & profanity)     1.0           3   \n",
       "10408    Web manga  R - 17+ (violence & profanity)   127.0           4   \n",
       "6596   Light novel       PG-13 - Teens 13 or older  3055.0           5   \n",
       "\n",
       "       Favorites  Scored By  Members  \n",
       "7428      163844  2660903.0  3744541  \n",
       "1393      167586  2619479.0  3713315  \n",
       "3961      217606  2020030.0  3176556  \n",
       "10408      62408  2131099.0  3058666  \n",
       "6596       67014  2072240.0  2951821  "
      ]
     },
     "execution_count": 7,
     "metadata": {},
     "output_type": "execute_result"
    }
   ],
   "source": [
    "df_sorted_pop_asc = df_sorted_pop_asc[df_sorted_pop_asc['Popularity'] != 0]\n",
    "df_sorted_pop_asc.head()"
   ]
  },
  {
   "cell_type": "markdown",
   "id": "8fe341ca-00a0-4ff0-a16b-8834fa93b638",
   "metadata": {},
   "source": [
    "Tiếp theo ta lấy 2500 anime có độ phổ biến top đầu vào dataframe `top_pop_anime23_df`"
   ]
  },
  {
   "cell_type": "code",
   "execution_count": 8,
   "id": "4878a637-1cb4-4d5b-b17f-2f60c6dcae75",
   "metadata": {},
   "outputs": [
    {
     "data": {
      "text/plain": [
       "(2500, 16)"
      ]
     },
     "execution_count": 8,
     "metadata": {},
     "output_type": "execute_result"
    }
   ],
   "source": [
    "top_pop_anime23_df = df_sorted_pop_asc.iloc[:2500,:]\n",
    "top_pop_anime23_df.shape"
   ]
  },
  {
   "cell_type": "markdown",
   "id": "085195ea-f949-4da7-b2c6-78c2c0d8fc06",
   "metadata": {},
   "source": [
    "Kiểm tra thử xem giá trị `Popularity` tối thiểu và tối đa xem đã đúng chưa (1-2500)"
   ]
  },
  {
   "cell_type": "code",
   "execution_count": 12,
   "id": "f40a46ee-9187-4ff2-88ac-b6c0c4ec136c",
   "metadata": {},
   "outputs": [
    {
     "name": "stdout",
     "output_type": "stream",
     "text": [
      "Giá trị tối thiểu:  1\n",
      "Giá trị tối đa:  2500\n"
     ]
    }
   ],
   "source": [
    "print(f'Giá trị tối thiểu: ', top_pop_anime23_df['Popularity'].min())\n",
    "print(f'Giá trị tối đa: ', top_pop_anime23_df['Popularity'].max())"
   ]
  },
  {
   "cell_type": "markdown",
   "id": "95cdff27-1048-46a7-8eb6-db53228de95c",
   "metadata": {},
   "source": [
    "Có vẻ dataframe ta rút trích thông tin đã tốt, ta có thể tiếp tục xử lý."
   ]
  },
  {
   "cell_type": "markdown",
   "id": "30c8c99f-217b-4352-8f44-e26660c4821e",
   "metadata": {},
   "source": [
    "#### Sau khi đã lấy được 2500 anime có độ phổ biến cao nhất, ta thử kiểm tra các giá trị bị thiếu của dataframe vừa lấy được để kiểm tra xem có cột nào có nhiều giá trị bị thiếu không nhằm mục đích lựa chọn cho khảo sát"
   ]
  },
  {
   "cell_type": "markdown",
   "id": "cdba2270-5240-4c76-b7a4-1741a0048075",
   "metadata": {},
   "source": [
    "Ta sẽ kiểm tra các cột Genres, Type, Episodes, Source, Rating vì đây là các thông tin của anime mà ta có thể tìm điểm chung"
   ]
  },
  {
   "cell_type": "code",
   "execution_count": 19,
   "id": "04c175c5-41f8-4da3-8c37-6a1a2194dac7",
   "metadata": {},
   "outputs": [
    {
     "name": "stdout",
     "output_type": "stream",
     "text": [
      "Phần trăm giá trị còn thiếu của cột 'Genres' là 19.79%\n",
      "Phần trăm giá trị còn thiếu của cột 'Type' là 0.30%\n",
      "Phần trăm giá trị còn thiếu của cột 'Episodes' là 2.45%\n",
      "Phần trăm giá trị còn thiếu của cột 'Source' là 0.00%\n",
      "Phần trăm giá trị còn thiếu của cột 'Rating' là 2.69%\n"
     ]
    }
   ],
   "source": [
    "survey_columns = ['Genres', 'Type', 'Episodes', 'Source', 'Rating']\n",
    "for col in survey_columns:\n",
    "    if col != 'Episodes':\n",
    "        percentage_missing = (anime23_df[col] == 'UNKNOWN').mean() * 100\n",
    "    else:\n",
    "        percentage_missing = anime23_df[col].isna().mean() * 100\n",
    "    print(f'Phần trăm giá trị còn thiếu của cột \\'{col}\\' là {percentage_missing:.2f}%')"
   ]
  },
  {
   "cell_type": "markdown",
   "id": "c38a56d0-ac65-4dd5-b46c-320a2b706f82",
   "metadata": {},
   "source": [
    "Hầu hết phần trăm các giá trị bị thiếu đều không quá lớn chỉ có cột Genres là giá trị bị mất khá nhiều gần 20% nhưng nó vẫn có thể chấp nhận được. Tuy nhiên việc khảo sát giá trị ỏ cột này có thể giảm phần trăm giá trị có thể tin cậy so với các cột còn lại."
   ]
  },
  {
   "cell_type": "markdown",
   "id": "cd30ca83-eded-4c3e-be7b-151328a62229",
   "metadata": {},
   "source": [
    "#### Sau khi đã hoàn tất việc lấy 2500 anime có độ phổ biến cao nhất và đảm bảo các giá trị ở các cột này không quá lớn cho việc khảo sát, tiếp theo chúng ta sẽ tìm điểm chung của những anime này thông qua các khảo sát về:\n",
    "- Thể loại của phim (Genres)\n",
    "- Hình thức chiếu (Type)\n",
    "- Số tập (Episodes)\n",
    "- Nguồn (Source)\n",
    "- Giới hạn độ tuổi (Rating)"
   ]
  },
  {
   "cell_type": "code",
   "execution_count": 25,
   "id": "b47b5942-e547-4573-b85f-26678f398b2c",
   "metadata": {},
   "outputs": [],
   "source": [
    "def split_and_melt(column):\n",
    "    df_split = column.str.split(', ', expand=True).melt().drop('variable', axis=1)\n",
    "    return df_split['value']\n",
    "long_df = top_pop_anime23_df[['Genres']].agg(split_and_melt)\n",
    "genres_distribution = long_df.agg(lambda column: pd.Series(column).value_counts().to_dict())\n",
    "\n",
    "genres_distribution = genres_distribution['Genres']"
   ]
  },
  {
   "cell_type": "code",
   "execution_count": 49,
   "id": "ddf3c132-fd95-4824-9c50-f4e711dcfa63",
   "metadata": {},
   "outputs": [
    {
     "data": {
      "image/png": "[encoded data removed]",
      "text/plain": [
       "<Figure size 640x480 with 1 Axes>"
      ]
     },
     "metadata": {},
     "output_type": "display_data"
    }
   ],
   "source": [
    "# Vẽ biểu đồ cột\n",
    "plt.bar(genres_distribution.keys(), genres_distribution.values(), color='yellow')\n",
    "plt.xticks(rotation=45, ha='right')\n",
    "# Thêm tiêu đề và nhãn cho trục\n",
    "plt.title('Biểu đồ cột đơn giản')\n",
    "plt.xlabel('Danh mục')\n",
    "plt.ylabel('Giá trị')\n",
    "\n",
    "# Hiển thị biểu đồ\n",
    "plt.show()"
   ]
  },
  {
   "cell_type": "code",
   "execution_count": 21,
   "id": "6588beed-5f4a-42b5-989c-33b08e0ff5db",
   "metadata": {},
   "outputs": [
    {
     "data": {
      "text/html": [
       "<div>\n",
       "<style scoped>\n",
       "    .dataframe tbody tr th:only-of-type {\n",
       "        vertical-align: middle;\n",
       "    }\n",
       "\n",
       "    .dataframe tbody tr th {\n",
       "        vertical-align: top;\n",
       "    }\n",
       "\n",
       "    .dataframe thead th {\n",
       "        text-align: right;\n",
       "    }\n",
       "</style>\n",
       "<table border=\"1\" class=\"dataframe\">\n",
       "  <thead>\n",
       "    <tr style=\"text-align: right;\">\n",
       "      <th></th>\n",
       "      <th>Type</th>\n",
       "      <th>Source</th>\n",
       "      <th>Rating</th>\n",
       "    </tr>\n",
       "  </thead>\n",
       "  <tbody>\n",
       "    <tr>\n",
       "      <th>num_diff_vals</th>\n",
       "      <td>7</td>\n",
       "      <td>15</td>\n",
       "      <td>7</td>\n",
       "    </tr>\n",
       "    <tr>\n",
       "      <th>distribution</th>\n",
       "      <td>{'TV': 1764, 'Movie': 341, 'OVA': 181, 'Specia...</td>\n",
       "      <td>{'Manga': 1111, 'Light novel': 487, 'Original'...</td>\n",
       "      <td>{'PG-13 - Teens 13 or older': 1632, 'R - 17+ (...</td>\n",
       "    </tr>\n",
       "  </tbody>\n",
       "</table>\n",
       "</div>"
      ],
      "text/plain": [
       "                                                            Type  \\\n",
       "num_diff_vals                                                  7   \n",
       "distribution   {'TV': 1764, 'Movie': 341, 'OVA': 181, 'Specia...   \n",
       "\n",
       "                                                          Source  \\\n",
       "num_diff_vals                                                 15   \n",
       "distribution   {'Manga': 1111, 'Light novel': 487, 'Original'...   \n",
       "\n",
       "                                                          Rating  \n",
       "num_diff_vals                                                  7  \n",
       "distribution   {'PG-13 - Teens 13 or older': 1632, 'R - 17+ (...  "
      ]
     },
     "execution_count": 21,
     "metadata": {},
     "output_type": "execute_result"
    }
   ],
   "source": [
    "single_columns = ['Type', 'Source', 'Rating']\n",
    "single_cate_profile = pd.DataFrame(index=[\"num_diff_vals\", \"distribution\"])\n",
    "num_diff_vals = top_pop_anime23_df[single_columns].nunique()\n",
    "distribution = top_pop_anime23_df[single_columns].agg(lambda column: pd.Series(column).value_counts().to_dict())\n",
    "single_cate_profile[single_columns] = [num_diff_vals, distribution]\n",
    "\n",
    "single_cate_profile"
   ]
  },
  {
   "cell_type": "code",
   "execution_count": 35,
   "id": "b48b6402-3253-4455-b38a-473d56970793",
   "metadata": {},
   "outputs": [
    {
     "name": "stdout",
     "output_type": "stream",
     "text": [
      "{'TV': 1764, 'Movie': 341, 'OVA': 181, 'Special': 124, 'ONA': 86, 'Music': 3, 'UNKNOWN': 1}\n",
      "{'Manga': 1111, 'Light novel': 487, 'Original': 378, 'Visual novel': 113, 'Web manga': 107, 'Game': 97, 'Novel': 72, '4-koma manga': 67, 'Other': 37, 'Mixed media': 11, 'Music': 6, 'Card game': 6, 'Web novel': 4, 'Book': 3, 'Picture book': 1}\n",
      "{'PG-13 - Teens 13 or older': 1632, 'R - 17+ (violence & profanity)': 547, 'R+ - Mild Nudity': 222, 'PG - Children': 48, 'G - All Ages': 43, 'Rx - Hentai': 5, 'UNKNOWN': 3}\n",
      "{'Action': 1056, 'Comedy': 953, 'Fantasy': 832, 'Romance': 654, 'Drama': 583, 'Adventure': 507, 'Sci-Fi': 415, 'Supernatural': 399, 'Ecchi': 267, 'Mystery': 254, 'Slice of Life': 155, 'Award Winning': 106, 'Horror': 103, 'Sports': 100, 'Suspense': 92, 'Girls Love': 32, 'Gourmet': 28, 'Boys Love': 27, 'Avant Garde': 19, 'UNKNOWN': 9, 'Erotica': 6, 'Hentai': 5}\n"
     ]
    }
   ],
   "source": [
    "type_distribution = single_cate_profile.iloc[1,0]\n",
    "source_distribution = single_cate_profile.iloc[1,1]\n",
    "rating_distribution = single_cate_profile.iloc[1,2]\n",
    "print(type_distribution)\n",
    "print(source_distribution)\n",
    "print(rating_distribution)\n",
    "print(genres_distribution)"
   ]
  },
  {
   "cell_type": "markdown",
   "id": "28e50d28-5b71-4379-8ec6-6f60015e5f92",
   "metadata": {},
   "source": [
    "Đầu tiên với thể loại phim ta sẽ xem các thể loại nào"
   ]
  },
  {
   "cell_type": "code",
   "execution_count": 36,
   "id": "7f1013aa-4216-49e0-8d4f-16d13412a9e6",
   "metadata": {},
   "outputs": [
    {
     "data": {
      "image/png": "[encoded data removed]",
      "text/plain": [
       "<Figure size 640x480 with 1 Axes>"
      ]
     },
     "metadata": {},
     "output_type": "display_data"
    }
   ],
   "source": [
    "# Vẽ biểu đồ cột\n",
    "plt.bar(type_distribution.keys(), type_distribution.values(), color='skyblue')\n",
    "plt.xticks(rotation=45, ha='right')\n",
    "# Thêm tiêu đề và nhãn cho trục\n",
    "plt.title('Biểu đồ cột đơn giản')\n",
    "plt.xlabel('Danh mục')\n",
    "plt.ylabel('Giá trị')\n",
    "\n",
    "# Hiển thị biểu đồ\n",
    "plt.show()"
   ]
  },
  {
   "cell_type": "code",
   "execution_count": 47,
   "id": "6756190e-10c8-44de-b408-fd08251b947a",
   "metadata": {},
   "outputs": [
    {
     "data": {
      "image/png": "[encoded data removed]",
      "text/plain": [
       "<Figure size 640x480 with 1 Axes>"
      ]
     },
     "metadata": {},
     "output_type": "display_data"
    }
   ],
   "source": [
    "# Vẽ biểu đồ cột\n",
    "plt.bar(source_distribution.keys(), source_distribution.values(), color='red')\n",
    "plt.xticks(rotation=45, ha='right')\n",
    "# Thêm tiêu đề và nhãn cho trục\n",
    "plt.title('Biểu đồ cột đơn giản')\n",
    "plt.xlabel('Danh mục')\n",
    "plt.ylabel('Giá trị')\n",
    "\n",
    "# Hiển thị biểu đồ\n",
    "plt.show()"
   ]
  },
  {
   "cell_type": "code",
   "execution_count": 48,
   "id": "b8188a20-8759-4f09-82c9-9c6b5ccda25d",
   "metadata": {},
   "outputs": [
    {
     "data": {
      "image/png": "[encoded data removed]",
      "text/plain": [
       "<Figure size 640x480 with 1 Axes>"
      ]
     },
     "metadata": {},
     "output_type": "display_data"
    }
   ],
   "source": [
    "# Vẽ biểu đồ cột\n",
    "plt.bar(rating_distribution.keys(), rating_distribution.values(), color='green')\n",
    "plt.xticks(rotation=45, ha='right')\n",
    "# Thêm tiêu đề và nhãn cho trục\n",
    "plt.title('Biểu đồ cột đơn giản')\n",
    "plt.xlabel('Danh mục')\n",
    "plt.ylabel('Giá trị')\n",
    "\n",
    "# Hiển thị biểu đồ\n",
    "plt.show()"
   ]
  },
  {
   "cell_type": "code",
   "execution_count": 46,
   "id": "315cb95c-f278-4cc8-a6e7-23f6f134db9a",
   "metadata": {},
   "outputs": [
    {
     "data": {
      "text/plain": [
       "{1.0: 11532,\n",
       " 12.0: 1919,\n",
       " 2.0: 1528,\n",
       " 26.0: 1201,\n",
       " 13.0: 984,\n",
       " 52.0: 812,\n",
       " 3.0: 712,\n",
       " 4.0: 553,\n",
       " 6.0: 416,\n",
       " 10.0: 343,\n",
       " 24.0: 332,\n",
       " 25.0: 235,\n",
       " 5.0: 220,\n",
       " 20.0: 201,\n",
       " 50.0: 179,\n",
       " 8.0: 169,\n",
       " 11.0: 159,\n",
       " 51.0: 128,\n",
       " 7.0: 127,\n",
       " 30.0: 120,\n",
       " 40.0: 120,\n",
       " 16.0: 116,\n",
       " 39.0: 105,\n",
       " 104.0: 91,\n",
       " 15.0: 89,\n",
       " 60.0: 85,\n",
       " 9.0: 83,\n",
       " 100.0: 71,\n",
       " 14.0: 66,\n",
       " 22.0: 66,\n",
       " 48.0: 62,\n",
       " 18.0: 54,\n",
       " 23.0: 52,\n",
       " 36.0: 45,\n",
       " 32.0: 41,\n",
       " 38.0: 41,\n",
       " 21.0: 40,\n",
       " 49.0: 40,\n",
       " 42.0: 38,\n",
       " 78.0: 37,\n",
       " 47.0: 33,\n",
       " 80.0: 29,\n",
       " 27.0: 29,\n",
       " 46.0: 27,\n",
       " 17.0: 26,\n",
       " 45.0: 26,\n",
       " 34.0: 25,\n",
       " 28.0: 24,\n",
       " 33.0: 22,\n",
       " 54.0: 22,\n",
       " 43.0: 22,\n",
       " 35.0: 21,\n",
       " 37.0: 21,\n",
       " 75.0: 20,\n",
       " 64.0: 20,\n",
       " 365.0: 19,\n",
       " 65.0: 18,\n",
       " 53.0: 18,\n",
       " 200.0: 17,\n",
       " 108.0: 17,\n",
       " 156.0: 16,\n",
       " 130.0: 16,\n",
       " 29.0: 15,\n",
       " 44.0: 15,\n",
       " 56.0: 15,\n",
       " 19.0: 14,\n",
       " 70.0: 14,\n",
       " 72.0: 14,\n",
       " 31.0: 13,\n",
       " 41.0: 13,\n",
       " 58.0: 11,\n",
       " 63.0: 11,\n",
       " 120.0: 11,\n",
       " 61.0: 11,\n",
       " 59.0: 10,\n",
       " 77.0: 10,\n",
       " 150.0: 10,\n",
       " 84.0: 9,\n",
       " 96.0: 9,\n",
       " 208.0: 8,\n",
       " 300.0: 8,\n",
       " 102.0: 8,\n",
       " 103.0: 8,\n",
       " 500.0: 7,\n",
       " 73.0: 7,\n",
       " 90.0: 7,\n",
       " 55.0: 7,\n",
       " 97.0: 7,\n",
       " 68.0: 6,\n",
       " 74.0: 6,\n",
       " 67.0: 6,\n",
       " 101.0: 6,\n",
       " 110.0: 5,\n",
       " 98.0: 5,\n",
       " 260.0: 5,\n",
       " 99.0: 5,\n",
       " 160.0: 5,\n",
       " 109.0: 5,\n",
       " 240.0: 5,\n",
       " 115.0: 5,\n",
       " 140.0: 5,\n",
       " 94.0: 4,\n",
       " 62.0: 4,\n",
       " 170.0: 4,\n",
       " 88.0: 4,\n",
       " 112.0: 4,\n",
       " 76.0: 4,\n",
       " 95.0: 4,\n",
       " 144.0: 4,\n",
       " 180.0: 4,\n",
       " 105.0: 4,\n",
       " 118.0: 4,\n",
       " 85.0: 4,\n",
       " 114.0: 4,\n",
       " 86.0: 4,\n",
       " 57.0: 4,\n",
       " 83.0: 4,\n",
       " 69.0: 3,\n",
       " 182.0: 3,\n",
       " 119.0: 3,\n",
       " 312.0: 3,\n",
       " 82.0: 3,\n",
       " 124.0: 3,\n",
       " 148.0: 3,\n",
       " 127.0: 3,\n",
       " 92.0: 3,\n",
       " 132.0: 3,\n",
       " 93.0: 3,\n",
       " 237.0: 3,\n",
       " 164.0: 3,\n",
       " 87.0: 2,\n",
       " 143.0: 2,\n",
       " 305.0: 2,\n",
       " 145.0: 2,\n",
       " 151.0: 2,\n",
       " 178.0: 2,\n",
       " 154.0: 2,\n",
       " 366.0: 2,\n",
       " 91.0: 2,\n",
       " 296.0: 2,\n",
       " 195.0: 2,\n",
       " 230.0: 2,\n",
       " 89.0: 2,\n",
       " 136.0: 2,\n",
       " 400.0: 2,\n",
       " 142.0: 2,\n",
       " 117.0: 2,\n",
       " 122.0: 2,\n",
       " 81.0: 2,\n",
       " 243.0: 2,\n",
       " 79.0: 2,\n",
       " 380.0: 2,\n",
       " 66.0: 2,\n",
       " 161.0: 2,\n",
       " 210.0: 2,\n",
       " 153.0: 2,\n",
       " 250.0: 2,\n",
       " 71.0: 2,\n",
       " 125.0: 2,\n",
       " 624.0: 1,\n",
       " 320.0: 1,\n",
       " 384.0: 1,\n",
       " 340.0: 1,\n",
       " 212.0: 1,\n",
       " 309.0: 1,\n",
       " 432.0: 1,\n",
       " 418.0: 1,\n",
       " 293.0: 1,\n",
       " 135.0: 1,\n",
       " 234.0: 1,\n",
       " 155.0: 1,\n",
       " 800.0: 1,\n",
       " 247.0: 1,\n",
       " 245.0: 1,\n",
       " 302.0: 1,\n",
       " 390.0: 1,\n",
       " 196.0: 1,\n",
       " 217.0: 1,\n",
       " 177.0: 1,\n",
       " 284.0: 1,\n",
       " 360.0: 1,\n",
       " 267.0: 1,\n",
       " 299.0: 1,\n",
       " 325.0: 1,\n",
       " 1000.0: 1,\n",
       " 420.0: 1,\n",
       " 1664.0: 1,\n",
       " 138.0: 1,\n",
       " 121.0: 1,\n",
       " 146.0: 1,\n",
       " 367.0: 1,\n",
       " 152.0: 1,\n",
       " 294.0: 1,\n",
       " 356.0: 1,\n",
       " 364.0: 1,\n",
       " 499.0: 1,\n",
       " 116.0: 1,\n",
       " 229.0: 1,\n",
       " 258.0: 1,\n",
       " 744.0: 1,\n",
       " 1306.0: 1,\n",
       " 175.0: 1,\n",
       " 331.0: 1,\n",
       " 1471.0: 1,\n",
       " 215.0: 1,\n",
       " 225.0: 1,\n",
       " 694.0: 1,\n",
       " 163.0: 1,\n",
       " 373.0: 1,\n",
       " 167.0: 1,\n",
       " 137.0: 1,\n",
       " 330.0: 1,\n",
       " 193.0: 1,\n",
       " 224.0: 1,\n",
       " 358.0: 1,\n",
       " 276.0: 1,\n",
       " 1787.0: 1,\n",
       " 128.0: 1,\n",
       " 291.0: 1,\n",
       " 201.0: 1,\n",
       " 172.0: 1,\n",
       " 203.0: 1,\n",
       " 191.0: 1,\n",
       " 192.0: 1,\n",
       " 510.0: 1,\n",
       " 1428.0: 1,\n",
       " 726.0: 1,\n",
       " 162.0: 1,\n",
       " 475.0: 1,\n",
       " 530.0: 1,\n",
       " 139.0: 1,\n",
       " 131.0: 1,\n",
       " 1565.0: 1,\n",
       " 1274.0: 1,\n",
       " 199.0: 1,\n",
       " 773.0: 1,\n",
       " 283.0: 1,\n",
       " 220.0: 1,\n",
       " 214.0: 1,\n",
       " 3057.0: 1,\n",
       " 227.0: 1,\n",
       " 263.0: 1,\n",
       " 431.0: 1,\n",
       " 398.0: 1,\n",
       " 113.0: 1,\n",
       " 1818.0: 1,\n",
       " 526.0: 1,\n",
       " 425.0: 1,\n",
       " 1006.0: 1,\n",
       " 147.0: 1,\n",
       " 126.0: 1}"
      ]
     },
     "execution_count": 46,
     "metadata": {},
     "output_type": "execute_result"
    }
   ],
   "source": [
    "episodes = anime23_df['Episodes']\n",
    "episodes.value_counts().to_dict()"
   ]
  },
  {
   "cell_type": "markdown",
   "id": "5ec499d4-b6b5-43b8-b7fb-73142f9741a0",
   "metadata": {},
   "source": [
    "# PHẢN ÁNH"
   ]
  },
  {
   "cell_type": "markdown",
   "id": "af1dd77a-4e13-440f-bacb-5fae688a3b0a",
   "metadata": {},
   "source": [
    "## 1. Bạn đã gặp những khó khăn gì?"
   ]
  },
  {
   "cell_type": "markdown",
   "id": "50f365e2-a012-4bfb-820b-7c5f7d529a04",
   "metadata": {},
   "source": [
    "### Hân"
   ]
  },
  {
   "cell_type": "code",
   "execution_count": null,
   "id": "c5c3f388-10b7-4040-9131-be02b9389616",
   "metadata": {},
   "outputs": [],
   "source": []
  },
  {
   "cell_type": "markdown",
   "id": "d95ce0ac-9835-4124-ad75-217667180294",
   "metadata": {},
   "source": [
    "### Khuê"
   ]
  },
  {
   "cell_type": "code",
   "execution_count": null,
   "id": "9bf4ff7b-13ce-4578-8661-46405913afa5",
   "metadata": {},
   "outputs": [],
   "source": []
  },
  {
   "cell_type": "markdown",
   "id": "63b53ab6-40dd-45e3-8025-e3301ba92cea",
   "metadata": {},
   "source": [
    "### Tuấn"
   ]
  },
  {
   "cell_type": "code",
   "execution_count": null,
   "id": "3d3f429e-d5d7-4e89-a575-a58ee0f79360",
   "metadata": {},
   "outputs": [],
   "source": []
  },
  {
   "cell_type": "markdown",
   "id": "d40d5e2a-7c78-49a2-aaec-7e0d6e7b510d",
   "metadata": {},
   "source": [
    "## 2. Bạn đã học được những gì"
   ]
  },
  {
   "cell_type": "markdown",
   "id": "cfa2218c-765f-4450-9e45-7f5877dd9310",
   "metadata": {},
   "source": [
    "### Hân"
   ]
  },
  {
   "cell_type": "code",
   "execution_count": null,
   "id": "dcf5ec3b-336a-4695-ad57-7fecda9a2fe5",
   "metadata": {},
   "outputs": [],
   "source": []
  },
  {
   "cell_type": "markdown",
   "id": "d802b7bf-e2b0-4a38-8344-0228b5f80fa9",
   "metadata": {},
   "source": [
    "### Khuê"
   ]
  },
  {
   "cell_type": "code",
   "execution_count": null,
   "id": "e5663e37-6c14-43cc-b53c-701794133bf4",
   "metadata": {},
   "outputs": [],
   "source": []
  },
  {
   "cell_type": "markdown",
   "id": "f305f128-ecac-4e63-b846-0dc251cf4b69",
   "metadata": {},
   "source": [
    "### Tuấn"
   ]
  },
  {
   "cell_type": "code",
   "execution_count": null,
   "id": "efecf501-8317-4a24-ad5c-8b41bf311780",
   "metadata": {},
   "outputs": [],
   "source": []
  },
  {
   "cell_type": "markdown",
   "id": "6aff92ff-9214-4f43-b84b-c0f37abbd151",
   "metadata": {},
   "source": [
    "## 3. Nếu có nhiều thời gian hơn bạn sẽ làm gì?"
   ]
  },
  {
   "cell_type": "code",
   "execution_count": null,
   "id": "369735a8-d4e2-4286-b526-60cbe2903790",
   "metadata": {},
   "outputs": [],
   "source": []
  }
 ],
 "metadata": {
  "kernelspec": {
   "display_name": "Python 3 (ipykernel)",
   "language": "python",
   "name": "python3"
  },
  "language_info": {
   "codemirror_mode": {
    "name": "ipython",
    "version": 3
   },
   "file_extension": ".py",
   "mimetype": "text/x-python",
   "name": "python",
   "nbconvert_exporter": "python",
   "pygments_lexer": "ipython3",
   "version": "3.10.8"
  }
 },
 "nbformat": 4,
 "nbformat_minor": 5
}
