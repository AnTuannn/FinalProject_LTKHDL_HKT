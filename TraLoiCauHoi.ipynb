{
 "cells": [
  {
   "cell_type": "markdown",
   "id": "5684775c-56cd-4343-a152-2a3ba07820a0",
   "metadata": {},
   "source": [
    "# PHÂN TÍCH DỮ LIỆU, ĐẶT VÀ TRẢ LỜI CÂU HỎI"
   ]
  },
  {
   "cell_type": "markdown",
   "id": "63922685-7ae5-45ab-8419-300a521b57f1",
   "metadata": {},
   "source": [
    "## 1. Import thư viện cần thiết"
   ]
  },
  {
   "cell_type": "code",
   "execution_count": 1,
   "id": "ab8da561-a6f6-4f19-b196-c2f5a5bee7e2",
   "metadata": {},
   "outputs": [],
   "source": [
    "import numpy as np\n",
    "import pandas as pd\n",
    "import matplotlib.pyplot as plt"
   ]
  },
  {
   "cell_type": "markdown",
   "id": "c17f7921-bd07-4e87-a5f7-a47513b4557a",
   "metadata": {},
   "source": [
    "## 2. Đọc dữ liệu từ file csv"
   ]
  },
  {
   "cell_type": "code",
   "execution_count": null,
   "id": "27d01dd5-383f-4fdb-a439-b834c9efa79e",
   "metadata": {},
   "outputs": [],
   "source": []
  },
  {
   "cell_type": "markdown",
   "id": "b69a0172-6444-4366-8b65-6708d6ca873b",
   "metadata": {},
   "source": [
    "## 3. Đặt câu hỏi"
   ]
  },
  {
   "cell_type": "code",
   "execution_count": null,
   "id": "e852bcd1-85a6-4963-922b-d2db49c9b927",
   "metadata": {},
   "outputs": [],
   "source": []
  },
  {
   "cell_type": "markdown",
   "id": "7de94fd8-ffc7-41c0-ae57-cc705249c6c8",
   "metadata": {},
   "source": [
    "## 4. Trả lời câu hỏi"
   ]
  },
  {
   "cell_type": "code",
   "execution_count": null,
   "id": "b6be301a-a321-4708-a30e-621f3fe3d175",
   "metadata": {},
   "outputs": [],
   "source": []
  }
 ],
 "metadata": {
  "kernelspec": {
   "display_name": "Python 3 (ipykernel)",
   "language": "python",
   "name": "python3"
  },
  "language_info": {
   "codemirror_mode": {
    "name": "ipython",
    "version": 3
   },
   "file_extension": ".py",
   "mimetype": "text/x-python",
   "name": "python",
   "nbconvert_exporter": "python",
   "pygments_lexer": "ipython3",
   "version": "3.10.8"
  }
 },
 "nbformat": 4,
 "nbformat_minor": 5
}
