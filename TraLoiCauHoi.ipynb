{
 "cells": [
  {
   "cell_type": "markdown",
   "id": "5684775c-56cd-4343-a152-2a3ba07820a0",
   "metadata": {},
   "source": [
    "# PHÂN TÍCH DỮ LIỆU, ĐẶT VÀ TRẢ LỜI CÂU HỎI"
   ]
  },
  {
   "cell_type": "markdown",
   "id": "63922685-7ae5-45ab-8419-300a521b57f1",
   "metadata": {},
   "source": [
    "## 1. Import thư viện cần thiết"
   ]
  },
  {
   "cell_type": "code",
   "execution_count": 1,
   "id": "ab8da561-a6f6-4f19-b196-c2f5a5bee7e2",
   "metadata": {},
   "outputs": [],
   "source": [
    "import numpy as np\n",
    "import pandas as pd\n",
    "import matplotlib.pyplot as plt"
   ]
  },
  {
   "cell_type": "markdown",
   "id": "c17f7921-bd07-4e87-a5f7-a47513b4557a",
   "metadata": {},
   "source": [
    "## 2. Đọc dữ liệu từ file csv"
   ]
  },
  {
   "cell_type": "code",
   "execution_count": null,
   "id": "27d01dd5-383f-4fdb-a439-b834c9efa79e",
   "metadata": {},
   "outputs": [],
   "source": []
  },
  {
   "cell_type": "markdown",
   "id": "b69a0172-6444-4366-8b65-6708d6ca873b",
   "metadata": {},
   "source": [
    "## 3. Đặt câu hỏi"
   ]
  },
  {
   "cell_type": "code",
   "execution_count": null,
   "id": "e852bcd1-85a6-4963-922b-d2db49c9b927",
   "metadata": {},
   "outputs": [],
   "source": []
  },
  {
   "cell_type": "markdown",
   "id": "7de94fd8-ffc7-41c0-ae57-cc705249c6c8",
   "metadata": {},
   "source": [
    "## 4. Trả lời câu hỏi"
   ]
  },
  {
   "cell_type": "code",
   "execution_count": null,
   "id": "b6be301a-a321-4708-a30e-621f3fe3d175",
   "metadata": {},
   "outputs": [],
   "source": []
  },
  {
   "cell_type": "markdown",
   "id": "5ec499d4-b6b5-43b8-b7fb-73142f9741a0",
   "metadata": {},
   "source": [
    "# PHẢN ÁNH"
   ]
  },
  {
   "cell_type": "markdown",
   "id": "af1dd77a-4e13-440f-bacb-5fae688a3b0a",
   "metadata": {},
   "source": [
    "## 1. Bạn đã gặp những khó khăn gì?"
   ]
  },
  {
   "cell_type": "markdown",
   "id": "50f365e2-a012-4bfb-820b-7c5f7d529a04",
   "metadata": {},
   "source": [
    "### Hân"
   ]
  },
  {
   "cell_type": "code",
   "execution_count": null,
   "id": "c5c3f388-10b7-4040-9131-be02b9389616",
   "metadata": {},
   "outputs": [],
   "source": []
  },
  {
   "cell_type": "markdown",
   "id": "d95ce0ac-9835-4124-ad75-217667180294",
   "metadata": {},
   "source": [
    "### Khuê"
   ]
  },
  {
   "cell_type": "code",
   "execution_count": null,
   "id": "9bf4ff7b-13ce-4578-8661-46405913afa5",
   "metadata": {},
   "outputs": [],
   "source": []
  },
  {
   "cell_type": "markdown",
   "id": "63b53ab6-40dd-45e3-8025-e3301ba92cea",
   "metadata": {},
   "source": [
    "### Tuấn"
   ]
  },
  {
   "cell_type": "code",
   "execution_count": null,
   "id": "3d3f429e-d5d7-4e89-a575-a58ee0f79360",
   "metadata": {},
   "outputs": [],
   "source": []
  },
  {
   "cell_type": "markdown",
   "id": "d40d5e2a-7c78-49a2-aaec-7e0d6e7b510d",
   "metadata": {},
   "source": [
    "## 2. Bạn đã học được những gì"
   ]
  },
  {
   "cell_type": "markdown",
   "id": "cfa2218c-765f-4450-9e45-7f5877dd9310",
   "metadata": {},
   "source": [
    "### Hân"
   ]
  },
  {
   "cell_type": "code",
   "execution_count": null,
   "id": "dcf5ec3b-336a-4695-ad57-7fecda9a2fe5",
   "metadata": {},
   "outputs": [],
   "source": []
  },
  {
   "cell_type": "markdown",
   "id": "d802b7bf-e2b0-4a38-8344-0228b5f80fa9",
   "metadata": {},
   "source": [
    "### Khuê"
   ]
  },
  {
   "cell_type": "code",
   "execution_count": null,
   "id": "e5663e37-6c14-43cc-b53c-701794133bf4",
   "metadata": {},
   "outputs": [],
   "source": []
  },
  {
   "cell_type": "markdown",
   "id": "f305f128-ecac-4e63-b846-0dc251cf4b69",
   "metadata": {},
   "source": [
    "### Tuấn"
   ]
  },
  {
   "cell_type": "code",
   "execution_count": null,
   "id": "efecf501-8317-4a24-ad5c-8b41bf311780",
   "metadata": {},
   "outputs": [],
   "source": []
  },
  {
   "cell_type": "markdown",
   "id": "6aff92ff-9214-4f43-b84b-c0f37abbd151",
   "metadata": {},
   "source": [
    "## 3. Nếu có nhiều thời gian hơn bạn sẽ làm gì?"
   ]
  },
  {
   "cell_type": "code",
   "execution_count": null,
   "id": "369735a8-d4e2-4286-b526-60cbe2903790",
   "metadata": {},
   "outputs": [],
   "source": []
  }
 ],
 "metadata": {
  "kernelspec": {
   "display_name": "Python 3 (ipykernel)",
   "language": "python",
   "name": "python3"
  },
  "language_info": {
   "codemirror_mode": {
    "name": "ipython",
    "version": 3
   },
   "file_extension": ".py",
   "mimetype": "text/x-python",
   "name": "python",
   "nbconvert_exporter": "python",
   "pygments_lexer": "ipython3",
   "version": "3.10.8"
  }
 },
 "nbformat": 4,
 "nbformat_minor": 5
}
