{
 "cells": [
  {
   "cell_type": "markdown",
   "id": "5684775c-56cd-4343-a152-2a3ba07820a0",
   "metadata": {},
   "source": [
    "# PHÂN TÍCH DỮ LIỆU, ĐẶT VÀ TRẢ LỜI CÂU HỎI"
   ]
  },
  {
   "cell_type": "markdown",
   "id": "63922685-7ae5-45ab-8419-300a521b57f1",
   "metadata": {},
   "source": [
    "## 1. Import thư viện cần thiết"
   ]
  },
  {
   "cell_type": "code",
   "execution_count": 1,
   "id": "ab8da561-a6f6-4f19-b196-c2f5a5bee7e2",
   "metadata": {},
   "outputs": [],
   "source": [
    "import numpy as np\n",
    "import pandas as pd\n",
    "import matplotlib.pyplot as plt"
   ]
  },
  {
   "cell_type": "markdown",
   "id": "c17f7921-bd07-4e87-a5f7-a47513b4557a",
   "metadata": {},
   "source": [
    "## 2. Đọc dữ liệu từ file csv"
   ]
  },
  {
   "cell_type": "code",
   "execution_count": 2,
   "id": "27d01dd5-383f-4fdb-a439-b834c9efa79e",
   "metadata": {},
   "outputs": [
    {
     "data": {
      "text/html": [
       "<div>\n",
       "<style scoped>\n",
       "    .dataframe tbody tr th:only-of-type {\n",
       "        vertical-align: middle;\n",
       "    }\n",
       "\n",
       "    .dataframe tbody tr th {\n",
       "        vertical-align: top;\n",
       "    }\n",
       "\n",
       "    .dataframe thead th {\n",
       "        text-align: right;\n",
       "    }\n",
       "</style>\n",
       "<table border=\"1\" class=\"dataframe\">\n",
       "  <thead>\n",
       "    <tr style=\"text-align: right;\">\n",
       "      <th></th>\n",
       "      <th>anime_id</th>\n",
       "      <th>Name</th>\n",
       "      <th>Score</th>\n",
       "      <th>Genres</th>\n",
       "      <th>Type</th>\n",
       "      <th>Episodes</th>\n",
       "      <th>Status</th>\n",
       "      <th>Producers</th>\n",
       "      <th>Studios</th>\n",
       "      <th>Source</th>\n",
       "      <th>Rating</th>\n",
       "      <th>Rank</th>\n",
       "      <th>Popularity</th>\n",
       "      <th>Favorites</th>\n",
       "      <th>Scored By</th>\n",
       "      <th>Members</th>\n",
       "    </tr>\n",
       "  </thead>\n",
       "  <tbody>\n",
       "    <tr>\n",
       "      <th>0</th>\n",
       "      <td>1</td>\n",
       "      <td>Cowboy Bebop</td>\n",
       "      <td>8.75</td>\n",
       "      <td>Action, Award Winning, Sci-Fi</td>\n",
       "      <td>TV</td>\n",
       "      <td>26.0</td>\n",
       "      <td>Finished Airing</td>\n",
       "      <td>Bandai Visual</td>\n",
       "      <td>Sunrise</td>\n",
       "      <td>Original</td>\n",
       "      <td>R - 17+ (violence &amp; profanity)</td>\n",
       "      <td>41.0</td>\n",
       "      <td>43</td>\n",
       "      <td>78525</td>\n",
       "      <td>914193.0</td>\n",
       "      <td>1771505</td>\n",
       "    </tr>\n",
       "    <tr>\n",
       "      <th>1</th>\n",
       "      <td>5</td>\n",
       "      <td>Cowboy Bebop: Tengoku no Tobira</td>\n",
       "      <td>8.38</td>\n",
       "      <td>Action, Sci-Fi</td>\n",
       "      <td>Movie</td>\n",
       "      <td>1.0</td>\n",
       "      <td>Finished Airing</td>\n",
       "      <td>Sunrise, Bandai Visual</td>\n",
       "      <td>Bones</td>\n",
       "      <td>Original</td>\n",
       "      <td>R - 17+ (violence &amp; profanity)</td>\n",
       "      <td>189.0</td>\n",
       "      <td>602</td>\n",
       "      <td>1448</td>\n",
       "      <td>206248.0</td>\n",
       "      <td>360978</td>\n",
       "    </tr>\n",
       "    <tr>\n",
       "      <th>2</th>\n",
       "      <td>6</td>\n",
       "      <td>Trigun</td>\n",
       "      <td>8.22</td>\n",
       "      <td>Action, Adventure, Sci-Fi</td>\n",
       "      <td>TV</td>\n",
       "      <td>26.0</td>\n",
       "      <td>Finished Airing</td>\n",
       "      <td>Victor Entertainment</td>\n",
       "      <td>Madhouse</td>\n",
       "      <td>Manga</td>\n",
       "      <td>PG-13 - Teens 13 or older</td>\n",
       "      <td>328.0</td>\n",
       "      <td>246</td>\n",
       "      <td>15035</td>\n",
       "      <td>356739.0</td>\n",
       "      <td>727252</td>\n",
       "    </tr>\n",
       "    <tr>\n",
       "      <th>3</th>\n",
       "      <td>7</td>\n",
       "      <td>Witch Hunter Robin</td>\n",
       "      <td>7.25</td>\n",
       "      <td>Action, Drama, Mystery, Supernatural</td>\n",
       "      <td>TV</td>\n",
       "      <td>26.0</td>\n",
       "      <td>Finished Airing</td>\n",
       "      <td>Bandai Visual, Dentsu, Victor Entertainment, T...</td>\n",
       "      <td>Sunrise</td>\n",
       "      <td>Original</td>\n",
       "      <td>PG-13 - Teens 13 or older</td>\n",
       "      <td>2764.0</td>\n",
       "      <td>1795</td>\n",
       "      <td>613</td>\n",
       "      <td>42829.0</td>\n",
       "      <td>111931</td>\n",
       "    </tr>\n",
       "    <tr>\n",
       "      <th>4</th>\n",
       "      <td>8</td>\n",
       "      <td>Bouken Ou Beet</td>\n",
       "      <td>6.94</td>\n",
       "      <td>Adventure, Fantasy, Supernatural</td>\n",
       "      <td>TV</td>\n",
       "      <td>52.0</td>\n",
       "      <td>Finished Airing</td>\n",
       "      <td>TV Tokyo, Dentsu</td>\n",
       "      <td>Toei Animation</td>\n",
       "      <td>Manga</td>\n",
       "      <td>PG - Children</td>\n",
       "      <td>4240.0</td>\n",
       "      <td>5126</td>\n",
       "      <td>14</td>\n",
       "      <td>6413.0</td>\n",
       "      <td>15001</td>\n",
       "    </tr>\n",
       "  </tbody>\n",
       "</table>\n",
       "</div>"
      ],
      "text/plain": [
       "   anime_id                             Name  Score  \\\n",
       "0         1                     Cowboy Bebop   8.75   \n",
       "1         5  Cowboy Bebop: Tengoku no Tobira   8.38   \n",
       "2         6                           Trigun   8.22   \n",
       "3         7               Witch Hunter Robin   7.25   \n",
       "4         8                   Bouken Ou Beet   6.94   \n",
       "\n",
       "                                 Genres   Type  Episodes           Status  \\\n",
       "0         Action, Award Winning, Sci-Fi     TV      26.0  Finished Airing   \n",
       "1                        Action, Sci-Fi  Movie       1.0  Finished Airing   \n",
       "2             Action, Adventure, Sci-Fi     TV      26.0  Finished Airing   \n",
       "3  Action, Drama, Mystery, Supernatural     TV      26.0  Finished Airing   \n",
       "4      Adventure, Fantasy, Supernatural     TV      52.0  Finished Airing   \n",
       "\n",
       "                                           Producers         Studios  \\\n",
       "0                                      Bandai Visual         Sunrise   \n",
       "1                             Sunrise, Bandai Visual           Bones   \n",
       "2                               Victor Entertainment        Madhouse   \n",
       "3  Bandai Visual, Dentsu, Victor Entertainment, T...         Sunrise   \n",
       "4                                   TV Tokyo, Dentsu  Toei Animation   \n",
       "\n",
       "     Source                          Rating    Rank  Popularity  Favorites  \\\n",
       "0  Original  R - 17+ (violence & profanity)    41.0          43      78525   \n",
       "1  Original  R - 17+ (violence & profanity)   189.0         602       1448   \n",
       "2     Manga       PG-13 - Teens 13 or older   328.0         246      15035   \n",
       "3  Original       PG-13 - Teens 13 or older  2764.0        1795        613   \n",
       "4     Manga                   PG - Children  4240.0        5126         14   \n",
       "\n",
       "   Scored By  Members  \n",
       "0   914193.0  1771505  \n",
       "1   206248.0   360978  \n",
       "2   356739.0   727252  \n",
       "3    42829.0   111931  \n",
       "4     6413.0    15001  "
      ]
     },
     "execution_count": 2,
     "metadata": {},
     "output_type": "execute_result"
    }
   ],
   "source": [
    "anime23_df = pd.read_csv('anime23_preprocessing.csv')\n",
    "anime23_df.head()"
   ]
  },
  {
   "cell_type": "markdown",
   "id": "b69a0172-6444-4366-8b65-6708d6ca873b",
   "metadata": {},
   "source": [
    "## 3. Đặt câu hỏi"
   ]
  },
  {
   "cell_type": "markdown",
   "id": "5a93e1a4-42d1-4730-abbf-1404b2659e53",
   "metadata": {},
   "source": [
    "### Câu 1"
   ]
  },
  {
   "cell_type": "code",
   "execution_count": null,
   "id": "9e300b27-dc78-4031-88dc-a0be02067a0e",
   "metadata": {},
   "outputs": [],
   "source": []
  },
  {
   "cell_type": "markdown",
   "id": "81cf9fdb-b651-49c5-8474-97ca988daf6c",
   "metadata": {},
   "source": [
    "### Câu 2\n"
   ]
  },
  {
   "cell_type": "markdown",
   "id": "47360d95-8d7d-401a-81f3-222e6422528b",
   "metadata": {},
   "source": [
    "### Câu 1"
   ]
  },
  {
   "cell_type": "code",
   "execution_count": null,
   "id": "39d0d405",
   "metadata": {},
   "outputs": [],
   "source": []
  },
  {
   "cell_type": "markdown",
   "id": "d7ec32cc-0042-4fd8-a40e-e5a919123a0a",
   "metadata": {},
   "source": [
    "### Câu 2"
   ]
  },
  {
   "cell_type": "code",
   "execution_count": null,
   "id": "e5f60a4e",
   "metadata": {},
   "outputs": [],
   "source": []
  },
  {
   "cell_type": "markdown",
   "id": "dae4aaf2",
   "metadata": {},
   "source": [
    "### Câu 3"
   ]
  },
  {
   "cell_type": "code",
   "execution_count": null,
   "id": "33f22a47",
   "metadata": {},
   "outputs": [],
   "source": []
  },
  {
   "cell_type": "markdown",
   "id": "7de94fd8-ffc7-41c0-ae57-cc705249c6c8",
   "metadata": {},
   "source": [
    "## 4. Trả lời câu hỏi"
   ]
  },
  {
   "cell_type": "markdown",
   "id": "feb7b978",
   "metadata": {},
   "source": [
    "### Câu 1"
   ]
  },
  {
   "cell_type": "code",
   "execution_count": null,
   "id": "2af5c921",
   "metadata": {},
   "outputs": [],
   "source": []
  },
  {
   "cell_type": "markdown",
   "id": "380fbad6",
   "metadata": {},
   "source": [
    "### Câu 2"
   ]
  },
  {
   "cell_type": "code",
   "execution_count": null,
   "id": "47706948",
   "metadata": {},
   "outputs": [],
   "source": []
  },
  {
   "cell_type": "markdown",
   "id": "a0f517ee",
   "metadata": {},
   "source": [
    "### Câu 3"
   ]
  },
  {
   "cell_type": "code",
   "execution_count": null,
   "id": "ff6b01f4",
   "metadata": {},
   "outputs": [],
   "source": []
  },
  {
   "cell_type": "markdown",
   "id": "e82bef00-d44c-40e5-946d-88d4817241f1",
   "metadata": {},
   "source": [
    "### Câu 3"
   ]
  },
  {
   "cell_type": "code",
   "execution_count": null,
   "id": "fb0dc860-fa4b-4f4d-9fef-bad71d868856",
   "metadata": {},
   "outputs": [],
   "source": []
  },
  {
   "cell_type": "markdown",
   "id": "5ec499d4-b6b5-43b8-b7fb-73142f9741a0",
   "metadata": {},
   "source": [
    "# PHẢN ÁNH"
   ]
  },
  {
   "cell_type": "markdown",
   "id": "af1dd77a-4e13-440f-bacb-5fae688a3b0a",
   "metadata": {},
   "source": [
    "## 1. Bạn đã gặp những khó khăn gì?"
   ]
  },
  {
   "cell_type": "markdown",
   "id": "50f365e2-a012-4bfb-820b-7c5f7d529a04",
   "metadata": {},
   "source": [
    "### Hân"
   ]
  },
  {
   "cell_type": "code",
   "execution_count": null,
   "id": "c5c3f388-10b7-4040-9131-be02b9389616",
   "metadata": {},
   "outputs": [],
   "source": []
  },
  {
   "cell_type": "markdown",
   "id": "d95ce0ac-9835-4124-ad75-217667180294",
   "metadata": {},
   "source": [
    "### Khuê"
   ]
  },
  {

   "cell_type": "code",
   "execution_count": null,
   "id": "fb84a1b6",
   "metadata": {},
   "outputs": [],
   "source": []
  },
  {
   "cell_type": "markdown",
   "id": "63b53ab6-40dd-45e3-8025-e3301ba92cea",
   "metadata": {},
   "source": [
    "### Tuấn"
   ]
  },
  {
   "cell_type": "code",
   "execution_count": null,
   "id": "3d3f429e-d5d7-4e89-a575-a58ee0f79360",
   "metadata": {},
   "outputs": [],
   "source": []
  },
  {
   "cell_type": "markdown",
   "id": "d40d5e2a-7c78-49a2-aaec-7e0d6e7b510d",
   "metadata": {},
   "source": [
    "## 2. Bạn đã học được những gì"
   ]
  },
  {
   "cell_type": "markdown",
   "id": "cfa2218c-765f-4450-9e45-7f5877dd9310",
   "metadata": {},
   "source": [
    "### Hân"
   ]
  },
  {
   "cell_type": "code",
   "execution_count": null,
   "id": "dcf5ec3b-336a-4695-ad57-7fecda9a2fe5",
   "metadata": {},
   "outputs": [],
   "source": []
  },
  {
   "cell_type": "markdown",
   "id": "d802b7bf-e2b0-4a38-8344-0228b5f80fa9",
   "metadata": {},
   "source": [
    "### Khuê"
   ]
  },
  {
   "cell_type": "code",
   "execution_count": null,
   "id": "540e10b5",
   "metadata": {},
   "outputs": [],
   "source": []
  },
  {
   "cell_type": "markdown",
   "id": "f305f128-ecac-4e63-b846-0dc251cf4b69",
   "metadata": {},
   "source": [
    "### Tuấn"
   ]
  },
  {
   "cell_type": "code",
   "execution_count": null,
   "id": "efecf501-8317-4a24-ad5c-8b41bf311780",
   "metadata": {},
   "outputs": [],
   "source": []
  },
  {
   "cell_type": "markdown",
   "id": "6aff92ff-9214-4f43-b84b-c0f37abbd151",
   "metadata": {},
   "source": [
    "## 3. Nếu có nhiều thời gian hơn bạn sẽ làm gì?"
   ]
  },
  {
   "cell_type": "code",
   "execution_count": null,
   "id": "369735a8-d4e2-4286-b526-60cbe2903790",
   "metadata": {},
   "outputs": [],
   "source": []
  }
 ],
 "metadata": {
  "kernelspec": {
   "display_name": "Python 3 (ipykernel)",
   "language": "python",
   "name": "python3"
  },
  "language_info": {
   "codemirror_mode": {
    "name": "ipython",
    "version": 3
   },
   "file_extension": ".py",
   "mimetype": "text/x-python",
   "name": "python",
   "nbconvert_exporter": "python",
   "pygments_lexer": "ipython3",

   "version": "3.11.5"
  }
 },
 "nbformat": 4,
 "nbformat_minor": 5
}
