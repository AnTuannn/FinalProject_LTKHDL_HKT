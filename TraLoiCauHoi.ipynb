{
 "cells": [
  {
   "cell_type": "markdown",
   "id": "5684775c-56cd-4343-a152-2a3ba07820a0",
   "metadata": {},
   "source": [
    "# PHÂN TÍCH DỮ LIỆU, ĐẶT VÀ TRẢ LỜI CÂU HỎI"
   ]
  },
  {
   "cell_type": "markdown",
   "id": "63922685-7ae5-45ab-8419-300a521b57f1",
   "metadata": {},
   "source": [
    "## 1. Import thư viện cần thiết"
   ]
  },
  {
   "cell_type": "code",
   "execution_count": null,
   "id": "ab8da561-a6f6-4f19-b196-c2f5a5bee7e2",
   "metadata": {},
   "outputs": [],
   "source": [
    "import numpy as np\n",
    "import pandas as pd\n",
    "import matplotlib.pyplot as plt"
   ]
  },
  {
   "cell_type": "markdown",
   "id": "c17f7921-bd07-4e87-a5f7-a47513b4557a",
   "metadata": {},
   "source": [
    "## 2. Đọc dữ liệu từ file csv"
   ]
  },
  {
   "cell_type": "code",
   "execution_count": null,
   "id": "27d01dd5-383f-4fdb-a439-b834c9efa79e",
   "metadata": {},
   "outputs": [],
   "source": [
    "anime23_df = pd.read_csv('anime23_preprocessing.csv')\n",
    "anime23_df.head()"
   ]
  },
  {
   "cell_type": "markdown",
   "id": "b69a0172-6444-4366-8b65-6708d6ca873b",
   "metadata": {},
   "source": [
    "## 3. Đặt câu hỏi"
   ]
  },
  {
   "cell_type": "markdown",
   "id": "45ec2722-8e09-42f2-abcc-23249b7dea6a",
   "metadata": {},
   "source": [
    "### Câu 1"
   ]
  },
  {
   "cell_type": "code",
   "execution_count": null,
   "id": "84a593a2",
   "metadata": {},
   "outputs": [],
   "source": []
  },
  {
   "cell_type": "markdown",
   "id": "127fef6f-0314-47d7-b400-fde3d5d4eb6e",
   "metadata": {},
   "source": [
    "### Câu 2"
   ]
  },
  {
   "cell_type": "markdown",
   "id": "47360d95-8d7d-401a-81f3-222e6422528b",
   "metadata": {},
   "source": [
    " Trong năm 2023, nguồn tài liệu (Source) nào được chọn để sản xuất nhiều anime nhất? Animes xuất bản theo nguồn tài liệu nào được nhiều người quan tâm (Members) và yêu thích nhất (Favorites)?\n"
   ]
  },
  {
   "cell_type": "markdown",
   "id": "d7ec32cc-0042-4fd8-a40e-e5a919123a0a",
   "metadata": {},
   "source": [
    "Trả lời câu hỏi này ta biết được xu hướng sản xuất anime của các nhà làm phim trong năm nay thường chọn nguồn tài liệu nào. Và dựa trên các bộ anime đã xuất bản thì trong năm nay xu hướng người xem quan tâm và yêu thích những bộ anime thuộc nguồn gốc nào nhất."
   ]
  },
  {
   "cell_type": "markdown",
   "id": "74d542d2-89b8-4619-962a-a399ba516c03",
   "metadata": {},
   "source": [
    "### Câu 3"
   ]
  },
  {
   "cell_type": "code",
   "execution_count": null,
   "id": "87d20e83-6535-4ed4-bf05-bb6ab889deed",
   "metadata": {},
   "outputs": [],
   "source": []
  },
  {
   "cell_type": "markdown",
   "id": "7de94fd8-ffc7-41c0-ae57-cc705249c6c8",
   "metadata": {},
   "source": [
    "## 4. Trả lời câu hỏi"
   ]
  },
  {
   "cell_type": "markdown",
   "id": "10302c18-abf3-4612-b4ae-19ae3ffbbe77",
   "metadata": {},
   "source": [
    "### Câu 1"
   ]
  },
  {
   "cell_type": "markdown",
   "id": "fd84b5ec",
   "metadata": {},
   "source": []
  },
  {
   "cell_type": "markdown",
   "id": "9efc0c0b",
   "metadata": {},
   "source": []
  },
  {
   "cell_type": "markdown",
   "id": "1bda5b86",
   "metadata": {},
   "source": []
  },
  {
   "cell_type": "markdown",
   "id": "ced868c6",
   "metadata": {},
   "source": []
  },
  {
   "cell_type": "code",
   "execution_count": null,
   "id": "7316dccf",
   "metadata": {},
   "outputs": [],
   "source": []
  },
  {
   "cell_type": "markdown",
   "id": "d7115357",
   "metadata": {},
   "source": []
  },
  {
   "cell_type": "code",
   "execution_count": null,
   "id": "f669dade",
   "metadata": {},
   "outputs": [],
   "source": []
  },
  {
   "cell_type": "markdown",
   "id": "0aa4a1e9",
   "metadata": {},
   "source": []
  },
  {
   "cell_type": "code",
   "execution_count": null,
   "id": "bd0fdb73",
   "metadata": {},
   "outputs": [],
   "source": []
  },
  {
   "cell_type": "markdown",
   "id": "549490da",
   "metadata": {},
   "source": []
  },
  {
   "cell_type": "code",
   "execution_count": null,
   "id": "80c8238a",
   "metadata": {},
   "outputs": [],
   "source": []
  },
  {
   "cell_type": "markdown",
   "id": "bc7fcb93",
   "metadata": {},
   "source": []
  },
  {
   "cell_type": "code",
   "execution_count": null,
   "id": "5ad28d55",
   "metadata": {},
   "outputs": [],
   "source": []
  },
  {
   "cell_type": "markdown",
   "id": "65936cda",
   "metadata": {},
   "source": []
  },
  {
   "cell_type": "code",
   "execution_count": null,
   "id": "19ea4ad5",
   "metadata": {},
   "outputs": [],
   "source": []
  },
  {
   "cell_type": "markdown",
   "id": "dd86835f",
   "metadata": {},
   "source": []
  },
  {
   "cell_type": "markdown",
   "id": "d5276f02",
   "metadata": {},
   "source": []
  },
  {
   "cell_type": "markdown",
   "id": "8b538690",
   "metadata": {},
   "source": []
  },
  {
   "cell_type": "markdown",
   "id": "dc30f8dd",
   "metadata": {},
   "source": []
  },
  {
   "cell_type": "code",
   "execution_count": null,
   "id": "a47347a4",
   "metadata": {},
   "outputs": [],
   "source": []
  },
  {
   "cell_type": "markdown",
   "id": "7692600c",
   "metadata": {},
   "source": []
  },
  {
   "cell_type": "code",
   "execution_count": null,
   "id": "53479853",
   "metadata": {},
   "outputs": [],
   "source": []
  },
  {
   "cell_type": "markdown",
   "id": "43d533bc",
   "metadata": {},
   "source": []
  },
  {
   "cell_type": "markdown",
   "id": "7fc72382",
   "metadata": {},
   "source": []
  },
  {
   "cell_type": "markdown",
   "id": "8b2a08ab",
   "metadata": {},
   "source": []
  },
  {
   "cell_type": "code",
   "execution_count": null,
   "id": "9e9dfd5d",
   "metadata": {},
   "outputs": [],
   "source": []
  },
  {
   "cell_type": "markdown",
   "id": "710297b1",
   "metadata": {},
   "source": []
  },
  {
   "cell_type": "code",
   "execution_count": null,
   "id": "a10c5c13",
   "metadata": {},
   "outputs": [],
   "source": []
  },
  {
   "cell_type": "markdown",
   "id": "87e93c43",
   "metadata": {},
   "source": []
  },
  {
   "cell_type": "markdown",
   "id": "87b82810",
   "metadata": {},
   "source": []
  },
  {
   "cell_type": "markdown",
   "id": "2ea98d45",
   "metadata": {},
   "source": []
  },
  {
   "cell_type": "code",
   "execution_count": null,
   "id": "70ba2962",
   "metadata": {},
   "outputs": [],
   "source": []
  },
  {
   "cell_type": "markdown",
   "id": "1bf48e4d",
   "metadata": {},
   "source": []
  },
  {
   "cell_type": "code",
   "execution_count": null,
   "id": "3f0091a2",
   "metadata": {},
   "outputs": [],
   "source": []
  },
  {
   "cell_type": "markdown",
   "id": "a31e4464",
   "metadata": {},
   "source": []
  },
  {
   "cell_type": "code",
   "execution_count": null,
   "id": "fbf218e3",
   "metadata": {},
   "outputs": [],
   "source": []
  },
  {
   "cell_type": "markdown",
   "id": "fb43de95",
   "metadata": {},
   "source": []
  },
  {
   "cell_type": "markdown",
   "id": "8384e128",
   "metadata": {},
   "source": []
  },
  {
   "cell_type": "code",
   "execution_count": null,
   "id": "7ea11035",
   "metadata": {},
   "outputs": [],
   "source": []
  },
  {
   "cell_type": "markdown",
   "id": "37c958c1",
   "metadata": {},
   "source": []
  },
  {
   "cell_type": "markdown",
   "id": "877bb943-3e7b-49a3-b14d-69f57d0291bb",
   "metadata": {},
   "source": [
    "### Câu 2"
   ]
  },
  {
   "cell_type": "markdown",
   "id": "ffad09ca-3608-43d2-9822-22a1801a58f6",
   "metadata": {},
   "source": [
    "\n",
    "Tiến hành lọc thông tin cột Source để xem có tổng cộng bao nhiêu nguồn gốc được lựa chọn sản xuất anime trong năm 2023"
   ]
  },
  {
   "cell_type": "code",
   "execution_count": null,
   "id": "b6be301a-a321-4708-a30e-621f3fe3d175",
   "metadata": {},
   "outputs": [],
   "source": [
    "source_df=anime23_df['Source'].unique()\n",
    "source_df"
   ]
  },
  {
   "cell_type": "markdown",
   "id": "dda3c699-46be-4d07-a340-066e67ce39be",
   "metadata": {},
   "source": [
    "Chúng ta sẽ làm việc trên 3 cột Source, Favorites và Members để trả lời câu hỏi, nên ta sẽ lấy dữ liệu của 3 cột này"
   ]
  },
  {
   "cell_type": "code",
   "execution_count": null,
   "id": "25523da6-5156-4392-b65a-2b51f31b42b1",
   "metadata": {},
   "outputs": [],
   "source": [
    "filtered_df=anime23_df[['Source','Favorites','Members']]\n",
    "filtered_df"
   ]
  },
  {
   "cell_type": "markdown",
   "id": "9fd10967-b21c-44e9-8fde-e3bedb931caf",
   "metadata": {},
   "source": [
    "Tiến hành thống kê số lượng phim, tổng số và trung bình người quan tâm và yêu thích theo từng loại nguồn phim "
   ]
  },
  {
   "cell_type": "code",
   "execution_count": null,
   "id": "8844d19b-e83c-4340-8567-a9adbc116a6b",
   "metadata": {},
   "outputs": [],
   "source": [
    "new_df=filtered_df.copy()\n",
    "group_df=new_df.groupby('Source').agg({'Favorites': ['count', 'sum', 'mean'], 'Members': ['count', 'sum', 'mean']})\n",
    "group_df.columns = ['Favorites_count', 'Favorites_sum', 'Favorites_mean', 'Members_count', 'Members_sum', 'Members_mean']\n",
    "group_df=group_df.reset_index()\n",
    "group_df"
   ]
  },
  {
   "cell_type": "markdown",
   "id": "2217f12c-32e9-4b7a-9b81-1ef3eb3add6b",
   "metadata": {},
   "source": [
    "Vì cột Favorites_count và Members_count cũng đều là tính số lượng phim nên dễ dàng nhìn thấy hai cột này là một, ta tiến hành giữ lại một cột và đặt lại tên là Count, rồi xóa đi một cột nhé"
   ]
  },
  {
   "cell_type": "code",
   "execution_count": null,
   "id": "a0a6aed8-d3a7-4793-a60a-017c7fab7e07",
   "metadata": {},
   "outputs": [],
   "source": [
    "group_df.rename(columns={'Favorites_count': 'Count'}, inplace=True)\n",
    "group_df.drop('Members_count', axis=1, inplace=True)\n",
    "group_df"
   ]
  },
  {
   "cell_type": "markdown",
   "id": "4978224f-b2dc-4088-899b-74af725c2697",
   "metadata": {},
   "source": [
    "Như vậy là đã hoàn thành việc xử lý dữ liệu "
   ]
  },
  {
   "cell_type": "markdown",
   "id": "fe520fce-3f6f-40a3-aaac-9b5b55b7b3d4",
   "metadata": {},
   "source": [
    "#### Thống kê lượng phim theo từng nguồn phim"
   ]
  },
  {
   "cell_type": "code",
   "execution_count": null,
   "id": "bfe3c9ba-1708-44a0-978a-2db989b17b54",
   "metadata": {},
   "outputs": [],
   "source": [
    "# Lấy dữ liệu từ group_df\n",
    "sources = group_df['Source']\n",
    "count = group_df['Count']\n",
    "\n",
    "# Vẽ biểu đồ cột\n",
    "plt.figure(figsize=(10, 6))\n",
    "bars = plt.bar(sources, count, color='skyblue')\n",
    "plt.xlabel('Sources')\n",
    "plt.ylabel('Count')\n",
    "plt.title('Number of Movies by Source')\n",
    "plt.xticks(rotation=70)\n",
    "plt.tight_layout()\n",
    "\n",
    "# Gắn số liệu ở giữa đỉnh mỗi cột\n",
    "for bar in bars:\n",
    "    yval = bar.get_height()\n",
    "    plt.text(bar.get_x() + bar.get_width() / 2, yval, round(yval, 2), ha='center', va='bottom')\n",
    "\n",
    "plt.show()\n"
   ]
  },
  {
   "cell_type": "code",
   "execution_count": null,
   "id": "81e486ef-4da4-4c31-ae2a-87aa47074245",
   "metadata": {},
   "outputs": [],
   "source": [
    "# Vẽ biểu đồ tròn\n",
    "plt.figure(figsize=(8, 8))\n",
    "wedges, texts, autotexts = plt.pie(count, labels=None, autopct='%1.1f%%', startangle=140, colors=plt.cm.tab20.colors)\n",
    "plt.title('Percentage of Movies by Source')\n",
    "\n",
    "plt.legend(wedges, sources, loc='center left', bbox_to_anchor=(1, 0.5), title='Sources')\n",
    "\n",
    "plt.axis('equal')  \n",
    "plt.tight_layout()\n",
    "plt.show()"
   ]
  },
  {
   "cell_type": "markdown",
   "id": "e9bfe12d-1be3-4612-adc7-c95ea02e2764",
   "metadata": {},
   "source": [
    "#### Nhận xét"
   ]
  },
  {
   "cell_type": "markdown",
   "id": "9b9b035b-1a55-4cdc-bfdb-a124f7ef2ec2",
   "metadata": {},
   "source": [
    "- Trong năm 2023, xu hướng sản xuất phim thường chọn các nguồn từ Original, Manga\n",
    "  + Original nhiều nhất với 9622 bộ chiếm 38,6% \n",
    "  + Manga xếp thứ nhì với 4687 bộ chiếm 18,8%\n",
    "- Như vậy, ta có thể thấy trong năm 2023 các nhà sản xuất anime ưu tiên việc chuyển thể các bộ phim từ nguyên tác và từ Manga. Bởi vì Original và Manga thường có cốt truyện phong phú và sâu sắc, giúp nhà làm phim xây dựng nên nền tảng nội dung vững chắc nên thường được các nhà làm phim ưu ái lựa chọn.\n",
    "- Tuy nhiên, ngoài hai nguồn này chiếm số lượng lớn thì trong năm 2023, vẫn còn có đa dạng nhiều nguồn khác như: Game (4,9%), Visual novel (4,4%), Light novel (3,9%)"
   ]
  },
  {
   "cell_type": "markdown",
   "id": "68c14524-14cc-4906-b1fd-43c03f90fd84",
   "metadata": {},
   "source": [
    "#### Thống kê lượng người quan tâm trung bình theo từng nguồn phim "
   ]
  },
  {
   "cell_type": "code",
   "execution_count": null,
   "id": "2019cdfe-59c9-4e17-94f9-b10a73992650",
   "metadata": {},
   "outputs": [],
   "source": [
    "# Lấy dữ liệu từ group_df\n",
    "sources = group_df['Source']\n",
    "members = group_df['Members_mean']\n",
    "\n",
    "# Vẽ biểu đồ cột\n",
    "plt.figure(figsize=(10, 6))\n",
    "bars = plt.bar(sources, members, color='skyblue')\n",
    "plt.xlabel('Sources')\n",
    "plt.ylabel('Members')\n",
    "plt.title('Average number of members by source')\n",
    "plt.xticks(rotation=70)\n",
    "plt.tight_layout()\n",
    "\n",
    "for bar in bars:\n",
    "    yval = bar.get_height()\n",
    "    plt.text(bar.get_x() + bar.get_width() / 2, yval, round(yval, 2), ha='center', va='bottom', fontsize=8)\n",
    "\n",
    "plt.show()"
   ]
  },
  {
   "cell_type": "code",
   "execution_count": null,
   "id": "4dd32431-7aaf-4a5c-9040-dc38f30bc830",
   "metadata": {},
   "outputs": [],
   "source": [
    "# Vẽ biểu đồ tròn\n",
    "plt.figure(figsize=(8, 8))\n",
    "wedges, texts, autotexts = plt.pie(members, labels=None, autopct='%1.1f%%', startangle=140, colors=plt.cm.tab20.colors)\n",
    "plt.title('Percentage of average of members by Source')\n",
    "\n",
    "plt.legend(wedges, sources, loc='center left', bbox_to_anchor=(1, 0.5), title='Sources')\n",
    "\n",
    "plt.axis('equal')  \n",
    "plt.tight_layout()\n",
    "plt.show()"
   ]
  },
  {
   "cell_type": "markdown",
   "id": "1b8e6fef-6b8f-4b2c-9365-d2f9e14a469d",
   "metadata": {},
   "source": [
    "#### Nhận xét:"
   ]
  },
  {
   "cell_type": "markdown",
   "id": "207abb21-362a-49b1-82ec-105d19073ffe",
   "metadata": {},
   "source": [
    "- Tuy lượng phim sản xuất lấy nguồn từ Light novel chỉ chiếm 3,9% tổng số phim năm nay nhưng lại nhận về độ quan tâm trung bình của khán giả cao nhất 31,3%. Điều này chứng tỏ các anime có nguồn từ Light novel tiếp cận đến khán giả khá tốt và dàn trải.\n",
    "- Tiếp theo là Manga với độ quan tâm trung bình của khán giả là 15%, Web manga với độ quan tâm trung bình là 14,1%\n",
    "- Tuy nguồn từ Original được sản xuất nhiều phim nhất nhưng độ quan tâm trung bình lại khá thấp chỉ 2,3%\n",
    "- Qua các thông số này, các nhà làm phim có thể hiểu rõ hơn về sở thích của khán giả, từ đó điều chỉnh chiến lược sản xuất và đáp ứng nhu cầu thị trường một cách hiệu quả."
   ]
  },
  {
   "cell_type": "markdown",
   "id": "6e03c47d-cd68-483d-8569-18c1b0a74655",
   "metadata": {},
   "source": [
    "#### Thống kê lượng người yêu thích trung bình theo từng nguồn phim "
   ]
  },
  {
   "cell_type": "code",
   "execution_count": null,
   "id": "fdc55a20-1442-4a94-857e-2ec13f6d404d",
   "metadata": {},
   "outputs": [],
   "source": [
    "# Lấy dữ liệu từ group_df\n",
    "sources = group_df['Source']\n",
    "favorites = group_df['Favorites_mean']\n",
    "\n",
    "# Vẽ biểu đồ cột\n",
    "plt.figure(figsize=(10, 6))\n",
    "bars = plt.bar(sources, favorites, color='skyblue')\n",
    "plt.xlabel('Sources')\n",
    "plt.ylabel('Favorites')\n",
    "plt.title('Average number of favorites by source')\n",
    "plt.xticks(rotation=70)\n",
    "plt.tight_layout()\n",
    "\n",
    "for bar in bars:\n",
    "    yval = bar.get_height()\n",
    "    plt.text(bar.get_x() + bar.get_width() / 2, yval, round(yval, 2), ha='center', va='bottom', fontsize=8)\n",
    "\n",
    "plt.show()"
   ]
  },
  {
   "cell_type": "code",
   "execution_count": null,
   "id": "d03ffc25-5245-47a4-9820-5bf1805092b2",
   "metadata": {},
   "outputs": [],
   "source": [
    "# Vẽ biểu đồ tròn\n",
    "plt.figure(figsize=(8, 8))\n",
    "wedges, texts, autotexts = plt.pie(favorites, labels=None, autopct='%1.1f%%', startangle=140, colors=plt.cm.tab20.colors)\n",
    "plt.title('Percentage of average of favorites by Source')\n",
    "\n",
    "plt.legend(wedges, sources, loc='center left', bbox_to_anchor=(1, 0.5), title='Sources')\n",
    "\n",
    "plt.axis('equal')  \n",
    "plt.tight_layout()\n",
    "plt.show()"
   ]
  },
  {
   "cell_type": "markdown",
   "id": "b02b1e3e-48e8-48a3-b2df-f2269e390f6e",
   "metadata": {},
   "source": [
    "#### Nhận xét:"
   ]
  },
  {
   "cell_type": "markdown",
   "id": "f6fc8e4e-e89d-4966-83df-5cafd8dfcdf5",
   "metadata": {},
   "source": [
    "- Light novel chiếm độ yêu thích trung bình lớn nhất đến 29,1% và tiếp theo là Manga là 20,5%\n",
    "- Tương tự như độ quan tâm trung bình thì đa phần khán giả cũng bày tỏ yêu thích cho các bộ anime có nguồn từ Light novel và Manga một cách đồng đều. \n",
    "- Đây cũng là một số liệu giúp các nhà làm phim cân nhắc thử sức sản xuất anime từ nguồn Light novel hay đa dạng các nguồn khác nhiều hơn như: Web Manga (15,1%), 4-koma manga (7,7%), ..."
   ]
  },
  {
   "cell_type": "markdown",
   "id": "bb8cfdee-b663-43ed-9ff6-64274670161c",
   "metadata": {},
   "source": [
    "### Câu 3"
   ]
  },
  {
   "cell_type": "code",
   "execution_count": null,
   "id": "6def4b77-8e8b-4604-bc7f-2685c253f383",
   "metadata": {},
   "outputs": [],
   "source": []
  },
  {
   "cell_type": "markdown",
   "id": "5ec499d4-b6b5-43b8-b7fb-73142f9741a0",
   "metadata": {},
   "source": [
    "# PHẢN ÁNH"
   ]
  },
  {
   "cell_type": "markdown",
   "id": "af1dd77a-4e13-440f-bacb-5fae688a3b0a",
   "metadata": {},
   "source": [
    "## 1. Bạn đã gặp những khó khăn gì?"
   ]
  },
  {
   "cell_type": "markdown",
   "id": "50f365e2-a012-4bfb-820b-7c5f7d529a04",
   "metadata": {},
   "source": [
    "### Hân"
   ]
  },
  {
   "cell_type": "code",
   "execution_count": null,
   "id": "c5c3f388-10b7-4040-9131-be02b9389616",
   "metadata": {},
   "outputs": [],
   "source": []
  },
  {
   "cell_type": "markdown",
   "id": "d95ce0ac-9835-4124-ad75-217667180294",
   "metadata": {},
   "source": [
    "### Khuê"
   ]
  },
  {
   "cell_type": "markdown",
   "id": "7e8619d3-9969-4e96-be73-c7ac930a9a0f",
   "metadata": {},
   "source": [
    "- Chưa biết cách khai thác sâu và nhiều khía cạch của dữ liệu\n",
    "- Việc xử lý dữ liệu còn khá sơ sài\n",
    "- Chưa biết cách mở rộng câu hỏi để phán ảnh nhiều hơn về nguồn dữ liệu"
   ]
  },
  {
   "cell_type": "markdown",
   "id": "63b53ab6-40dd-45e3-8025-e3301ba92cea",
   "metadata": {},
   "source": [
    "### Tuấn"
   ]
  },
  {
   "cell_type": "code",
   "execution_count": null,
   "id": "3d3f429e-d5d7-4e89-a575-a58ee0f79360",
   "metadata": {},
   "outputs": [],
   "source": []
  },
  {
   "cell_type": "markdown",
   "id": "d40d5e2a-7c78-49a2-aaec-7e0d6e7b510d",
   "metadata": {},
   "source": [
    "## 2. Bạn đã học được những gì"
   ]
  },
  {
   "cell_type": "markdown",
   "id": "cfa2218c-765f-4450-9e45-7f5877dd9310",
   "metadata": {},
   "source": [
    "### Hân"
   ]
  },
  {
   "cell_type": "code",
   "execution_count": null,
   "id": "dcf5ec3b-336a-4695-ad57-7fecda9a2fe5",
   "metadata": {},
   "outputs": [],
   "source": []
  },
  {
   "cell_type": "markdown",
   "id": "d802b7bf-e2b0-4a38-8344-0228b5f80fa9",
   "metadata": {},
   "source": [
    "### Khuê"
   ]
  },
  {
   "cell_type": "markdown",
   "id": "95364a64-5655-4403-a2c5-af2e8789b1f3",
   "metadata": {},
   "source": [
    "- Học được cách xử lý và hiểu nhiều hơn về một bộ dữ liệu có nhiều tính chất\n",
    "- Biết được có những dữ liệu sẽ có những cột không cần thiết và không có ích cho quá trình đánh giá dữ liệu\n"
   ]
  },
  {
   "cell_type": "markdown",
   "id": "f305f128-ecac-4e63-b846-0dc251cf4b69",
   "metadata": {},
   "source": [
    "### Tuấn"
   ]
  },
  {
   "cell_type": "code",
   "execution_count": null,
   "id": "efecf501-8317-4a24-ad5c-8b41bf311780",
   "metadata": {},
   "outputs": [],
   "source": []
  },
  {
   "cell_type": "markdown",
   "id": "6aff92ff-9214-4f43-b84b-c0f37abbd151",
   "metadata": {},
   "source": [
    "## 3. Nếu có nhiều thời gian hơn bạn sẽ làm gì?"
   ]
  },
  {
   "cell_type": "code",
   "execution_count": null,
   "id": "369735a8-d4e2-4286-b526-60cbe2903790",
   "metadata": {},
   "outputs": [],
   "source": []
  }
 ],
 "metadata": {
  "kernelspec": {
   "display_name": "Python 3 (ipykernel)",
   "language": "python",
   "name": "python3"
  },
  "language_info": {
   "codemirror_mode": {
    "name": "ipython",
    "version": 3
   },
   "file_extension": ".py",
   "mimetype": "text/x-python",
   "name": "python",
   "nbconvert_exporter": "python",
   "pygments_lexer": "ipython3",
   "version": "3.11.5"
  }
 },
 "nbformat": 4,
 "nbformat_minor": 5
}
