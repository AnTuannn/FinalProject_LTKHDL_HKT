{
 "cells": [
  {
   "cell_type": "markdown",
   "id": "5684775c-56cd-4343-a152-2a3ba07820a0",
   "metadata": {},
   "source": [
    "# PHÂN TÍCH DỮ LIỆU, ĐẶT VÀ TRẢ LỜI CÂU HỎI"
   ]
  },
  {
   "cell_type": "markdown",
   "id": "63922685-7ae5-45ab-8419-300a521b57f1",
   "metadata": {},
   "source": [
    "## 1. Import thư viện cần thiết"
   ]
  },
  {
   "cell_type": "code",
   "execution_count": null,
   "id": "ab8da561-a6f6-4f19-b196-c2f5a5bee7e2",
   "metadata": {},
   "outputs": [],
   "source": [
    "import numpy as np\n",
    "import pandas as pd\n",
    "import matplotlib.pyplot as plt\n",
    "import seaborn as sns"
   ]
  },
  {
   "cell_type": "markdown",
   "id": "c17f7921-bd07-4e87-a5f7-a47513b4557a",
   "metadata": {},
   "source": [
    "## 2. Đọc dữ liệu từ file csv"
   ]
  },
  {
   "cell_type": "code",
   "execution_count": null,
   "id": "27d01dd5-383f-4fdb-a439-b834c9efa79e",
   "metadata": {},
   "outputs": [],
   "source": [
    "anime23_df = pd.read_csv('anime23_preprocessing.csv')\n",
    "anime23_df.head()"
   ]
  },
  {
   "cell_type": "markdown",
   "id": "b69a0172-6444-4366-8b65-6708d6ca873b",
   "metadata": {},
   "source": [
    "## 3. Đặt câu hỏi"
   ]
  },
  {
   "cell_type": "markdown",
   "id": "3d4c1b7f-3657-4c12-9018-0898410e9e06",
   "metadata": {},
   "source": [
    "### Câu 1"
   ]
  },
  {
   "cell_type": "markdown",
   "id": "723bd0aa-8217-49f3-a260-68bb90f05e8b",
   "metadata": {},
   "source": [
    "#### Những studio sản xuất được nhiều phim có đánh giá cao có đặc điểm gì?"
   ]
  },
  {
   "cell_type": "markdown",
   "id": "6174d24e-dc4b-480c-9926-e8b2fc6bf0aa",
   "metadata": {},
   "source": [
    "- Rất nhiều chương trình mà ai đó có xu hướng thích hoặc có điểm số tốt đều đến từ cùng một studio, do đó ta nên xem xét chúng.\n",
    "- Bắt đầu bằng cách lọc để chỉ xem các hãng phim anime hàng đầu (các studio sản xuất được nhiều bộ phim có `Rank` cao).\n",
    "- Trả lời câu hỏi này sẽ giúp những người đang tìm kiếm những bộ phim anime chất lượng để xem có thêm gợi ý để tìm kiếm dựa trên các studio hàng đầu.\n",
    "- Trả lời câu hỏi này sẽ giúp chúng ta biết được đặc điểm của những studio thành công và khác biệt của họ trong ngành."
   ]
  },
  {
   "cell_type": "markdown",
   "id": "71fe6a53-faca-4bf1-95f9-afbb6962a9a2",
   "metadata": {},
   "source": [
    "### Câu 2"
   ]
  },
  {
   "cell_type": "code",
   "execution_count": null,
   "id": "6d6dc32c-2a5a-4a30-82bd-1a0948a2856d",
   "metadata": {},
   "outputs": [],
   "source": []
  },
  {
   "cell_type": "markdown",
   "id": "e7d8ca06-4bb6-4500-b7a6-ce81503a2a5f",
   "metadata": {},
   "source": [
    "### Câu 3"
   ]
  },
  {
   "cell_type": "code",
   "execution_count": null,
   "id": "c8c8e147-3f2e-4da2-badd-75ab5e7b36f5",
   "metadata": {},
   "outputs": [],
   "source": []
  },
  {
   "cell_type": "markdown",
   "id": "7de94fd8-ffc7-41c0-ae57-cc705249c6c8",
   "metadata": {},
   "source": [
    "## 4. Trả lời câu hỏi"
   ]
  },
  {
   "cell_type": "markdown",
   "id": "ac31a389-c4a2-4bd9-af1d-32114a925cde",
   "metadata": {},
   "source": [
    "### Câu 1"
   ]
  },
  {
   "cell_type": "markdown",
   "id": "081eecf8-4adb-4c70-8f61-617246c5b033",
   "metadata": {},
   "source": [
    "#### Những studio sản xuất được nhiều phim có đánh giá cao có đặc điểm gì?"
   ]
  },
  {
   "cell_type": "markdown",
   "id": "f0d9bd7e-ab04-4925-9e61-048bb2e48c28",
   "metadata": {},
   "source": [
    "Trả lời câu hỏi trên sẽ giúp chúng ta tìm ra được những studio thành công và đặc điểm của họ.\n",
    "\n",
    "Trả lời câu hỏi trên cũng giúp những người đang tìm kiếm anime hay để xem sẽ có những gợi ý rõ ràng hơn để tìm kiếm phim xem. Đặc biệt là đối với những người mới bắt đầu xem anime, họ có thể lựa chọn các anime đến từ những studio được đánh giá cao."
   ]
  },
  {
   "cell_type": "markdown",
   "id": "bd087d1b-93c8-4f23-ad29-fc4eeab67f1c",
   "metadata": {},
   "source": [
    "Để trả lời cho câu hỏi trên, chúng ta cần lấy ra bộ dữ liệu gồm các anime top đầu. Nhóm em quyết định lấy 1000 anime xếp theo `Rank` trong bộ dữ liệu (gần bằng 5% tổng số anime)."
   ]
  },
  {
   "cell_type": "markdown",
   "id": "8374181c-8b37-4ab3-94ea-05a081c9e900",
   "metadata": {},
   "source": [
    "Đầu tiên, vì cột Studios là kiểu chuỗi, nên phải split nó ra và explode để mỗi cột chỉ có một giá trị của Studio."
   ]
  },
  {
   "cell_type": "code",
   "execution_count": null,
   "id": "c8070d6e-2e9a-4efb-9b1b-2942b8647c68",
   "metadata": {
    "scrolled": true
   },
   "outputs": [],
   "source": [
    "ques1_df = anime23_df\n",
    "ques1_df['Studios'] = ques1_df['Studios'].str.split(', ')\n",
    "studios_explode = ques1_df.explode('Studios')\n",
    "#Loại bỏ các Studios là Unknown\n",
    "studios_explode = studios_explode[studios_explode['Studios'] != 'UNKNOWN']\n",
    "studios_explode.head()\n",
    "#Xem thử kết quả sau khi explode"
   ]
  },
  {
   "cell_type": "markdown",
   "id": "3fd705f9-1d04-4982-89cb-32774bbfe7ff",
   "metadata": {},
   "source": [
    "Tiếp theo, ta phải lọc các bộ anime thỏa mãn điều kiện."
   ]
  },
  {
   "cell_type": "code",
   "execution_count": null,
   "id": "5f9ea33b-bf35-43ac-833a-494613c6f802",
   "metadata": {},
   "outputs": [],
   "source": [
    "ques1_df = studios_explode[studios_explode['Rank']!=0]\n",
    "ques1_df = ques1_df[ques1_df['Rank']<=1000]"
   ]
  },
  {
   "cell_type": "markdown",
   "id": "a17de2dd-e2d7-4354-957f-10e089799aeb",
   "metadata": {},
   "source": [
    "Tiếp theo, cần tính số bộ phim tốt của mỗi studio."
   ]
  },
  {
   "cell_type": "code",
   "execution_count": null,
   "id": "90107747-86a7-4ce6-8c00-05b56902e816",
   "metadata": {},
   "outputs": [],
   "source": [
    "top_anime_count = ques1_df.groupby('Studios')['Score'].count().sort_values(ascending = False)"
   ]
  },
  {
   "cell_type": "markdown",
   "id": "2b194abe-77f8-4bc1-8e46-8e5b39f2be38",
   "metadata": {},
   "source": [
    "Lọc dữ liệu để chỉ lấy 15 studio có nhiều anime rank cao nhất"
   ]
  },
  {
   "cell_type": "code",
   "execution_count": null,
   "id": "9a4b3bf0-3068-4684-ba60-7916fe4a568a",
   "metadata": {},
   "outputs": [],
   "source": [
    "top_studios = top_anime_count.nlargest(15)"
   ]
  },
  {
   "cell_type": "markdown",
   "id": "8d1d6fa4-1a02-41ba-a67e-53eb17678803",
   "metadata": {},
   "source": [
    "Như vậy ta đã tìm ra được 15 studio sản xuất được nhiều bộ phim có đánh giá tốt cùng với số bộ phim tốt được sản xuất là:"
   ]
  },
  {
   "cell_type": "code",
   "execution_count": null,
   "id": "031619cf-9cad-4ac0-9c74-b8c268dfba11",
   "metadata": {},
   "outputs": [],
   "source": [
    "top_studios"
   ]
  },
  {
   "cell_type": "markdown",
   "id": "61cfd0aa-4810-42ad-b683-84c4e65e2842",
   "metadata": {},
   "source": [
    "#### Vẽ biểu đồ thể hiện tỉ lệ anime top đầu của các studio"
   ]
  },
  {
   "cell_type": "code",
   "execution_count": null,
   "id": "1a964cae-d4a8-4253-b502-33a28254661a",
   "metadata": {},
   "outputs": [],
   "source": [
    "data = top_studios.copy()\n",
    "# Gộp các studio còn lại vào nhóm \"Others\"\n",
    "data['Others'] = ques1_df['Studios'].value_counts().sum() - top_studios.sum()\n",
    "# Vẽ biểu đồ tròn\n",
    "plt.figure(figsize=(10, 10))\n",
    "plt.pie(data, labels=data.index, autopct='%1.1f%%', startangle=90, textprops={'fontsize': 10})\n",
    "plt.title(\"Anime Studio's in Top 1000\", fontsize=14)\n",
    "plt.show()"
   ]
  },
  {
   "cell_type": "markdown",
   "id": "7257e661-44ef-48fa-8e8e-0d97e0371b17",
   "metadata": {},
   "source": [
    "Nhận xét:\n",
    "- Madhouse và Production I.G là hai studio có số lượng anime nhiều nhất trong top 1000 anime được đánh giá cao nhất, đều chiếm tỉ lệ 6.0%.\n",
    "- Hơn một nửa số bộ phim được đánh giá cao nhất thuộc về top 15 studio hàng đầu trên tổng số hơn 1000 studio.\n",
    "- Nhìn chung giữa các studio top đầu không có cách biệt quá lớn về số lượng bộ phim hay được sản xuất.\n",
    "- Tất cả các xưởng phim hàng đầu trong top 15 đều đến từ Nhật Bản."
   ]
  },
  {
   "cell_type": "markdown",
   "id": "291ea9bd-dc24-4a5e-b5f9-03068d18a208",
   "metadata": {},
   "source": [
    "**Tiếp theo ta sẽ khám phá thêm về đặc điểm của các studio thành công. Để có cái nhìn tổng quan về hoạt động của các studio thì ta sẽ phân tích dựa trên bộ dữ liệu ban đầu có đầy đủ các anime là studios_explode.**"
   ]
  },
  {
   "cell_type": "markdown",
   "id": "d571e83c-babf-4846-bd25-ebf876da4c06",
   "metadata": {},
   "source": [
    "#### Dạng phim mà các studio trên sản xuất là phim truyền hình, anime dài tập hay movie,...?"
   ]
  },
  {
   "cell_type": "markdown",
   "id": "f663f67a-3d5a-4f20-9703-b85fc1bbdb3a",
   "metadata": {},
   "source": [
    "Thực hiện thống kê về số lượng anime của mỗi loại (Type) cho từng studio"
   ]
  },
  {
   "cell_type": "code",
   "execution_count": null,
   "id": "09a51dbe-c931-4efa-af51-4dd614c4c86f",
   "metadata": {},
   "outputs": [],
   "source": [
    "studios_list = top_studios.index\n",
    "filtered_data = studios_explode[studios_explode['Studios'].isin(studios_list)]\n",
    "type_counts = filtered_data.groupby(['Studios', 'Type']).size().reset_index(name='Count')\n",
    "type_counts"
   ]
  },
  {
   "cell_type": "markdown",
   "id": "72443b19-6bc0-4ec4-8f3a-db43cb7d2a43",
   "metadata": {},
   "source": [
    "Vẽ biểu đồ phân bố các dạng phim anime theo từng studio"
   ]
  },
  {
   "cell_type": "code",
   "execution_count": null,
   "id": "d9c17acb-b242-4451-9aeb-c6200d090f48",
   "metadata": {},
   "outputs": [],
   "source": [
    "# Vẽ biểu đồ scatterplot\n",
    "fig, ax = plt.subplots(figsize=(10, 5))\n",
    "sns.scatterplot(x='Studios', y='Count', hue='Type', data=type_counts, ax=ax)\n",
    "plt.xticks(rotation=90)\n",
    "plt.title('Distribution of anime types by each studio')\n",
    "plt.legend(bbox_to_anchor=(1, 1))\n",
    "# Hiển thị biểu đồ\n",
    "plt.show()"
   ]
  },
  {
   "cell_type": "markdown",
   "id": "7ea5a364-0d83-429b-9d35-4294d30a5f3b",
   "metadata": {},
   "source": [
    "Nhận xét:\n",
    "- Các studio đều sản xuất phim hoạt hình đa dạng, nhưng phim truyền hình (TV) là dạng phim được hầu hết các studio tập trung sản xuất nhất. Lí do có thể là vì TV là dạng dễ sản xuất và được yêu thích nhất đối với người xem. OVA và Movive cũng là 2 dạng phim phổ biến và được sản xuất nhiều.\n",
    "- Các studio có số lượng anime TV nhiều nhất là Toei Animation, Sunrise và J.C.Staff. Đây là các studio lớn và có lịch sử lâu đời trong ngành anime, với nhiều anime nổi tiếng như Dragon Ball, One Piece, Gundam, Code Gea Revolutionary Girl Utena,... Đặc biệt, Toei Animation là studio lớn, có lượng sản xuất hàng đầu và cũng sản xuất nhiều Movie và OVA anime nhất.\n",
    "- Các studio sản xuất nhiều anime Movie là Madhouse, Production I.G và TMS Entertainment. Đây là các studio có kỹ năng vẽ hoạt họa cao và có nhiều bộ phim hoạt hình đoạt giải thưởng quốc tế, như Paprika, Wolf Children, The Girl Who Leapt Through Time, Redline, Ghost in the Shello,...\n",
    "- Các studio sản xuất nhiều anime OVA là Studio Deen, J.C.Staff và Pierrot. Đây là các studio có nhiều anime dài tập và có nhiều phần ngoại truyện, như Rurouni Kenshin, Higurashi no Naku Koro ni, Umineko no Naku Korlaye,...\n",
    "- Các studio MAPPA, WIT Studio và ufotable sản xuất nhiều anime ONA. Đây là các studio mới và có nhiều anime được phát hành trên các nền tảng trực tuyến, như Netflix, Amazon Prime và Crunchyroll. Một số anime của họ là Yuri!!! on Ice, Inuyashiki, Dororo, Vinland Saga, Attack on Titan, Fate/Zero, Fate/stay night: Unlimited Blade Wo,...\n",
    "- Các studio Kyoto Animation, Shaft và A-1 Pictures sản xuất khá nhiều anime Special. Đây là các studio có nhiều anime hài hước và lãng mạn, và có nhiều tập đặc biệt để tăng thêm sự gắn kết với khán giả, như K-On!, Clannad, The Melancholy of Haruhi Suzumiya, Monogatari Series, Puella Magi Madoka Magica, Sword Art Online, Fairy ,..."
   ]
  },
  {
   "cell_type": "markdown",
   "id": "7a7fe0cc-4c4f-4583-a6d7-93031f97ce6a",
   "metadata": {},
   "source": [
    "#### Các studio có xu hướng chuyển thể như thế nào?"
   ]
  },
  {
   "cell_type": "markdown",
   "id": "ab17126f-5241-44b9-ac5c-d29f5994f580",
   "metadata": {},
   "source": [
    "Thực hiện thống kê về số lượng anime của mỗi Source cho từng studio"
   ]
  },
  {
   "cell_type": "code",
   "execution_count": null,
   "id": "c74e324c-b5d9-4bb3-9fd9-b37db8f4f896",
   "metadata": {},
   "outputs": [],
   "source": [
    "source_counts = filtered_data.groupby(['Studios', 'Source']).size().reset_index(name='Count')\n",
    "source_counts"
   ]
  },
  {
   "cell_type": "markdown",
   "id": "87dd6c37-28e6-4a73-969e-cf49a223fb41",
   "metadata": {},
   "source": [
    "Vẽ biểu đồ phân bố các nguồn chuyển thể theo từng studio"
   ]
  },
  {
   "cell_type": "code",
   "execution_count": null,
   "id": "3698fe7d",
   "metadata": {},
   "outputs": [],
   "source": [
    "# Vẽ biểu đồ scatterplot\n",
    "fig, ax = plt.subplots(figsize=(10, 5))\n",
    "sns.scatterplot(x='Studios', y='Count', hue='Source', data=source_counts, ax=ax)\n",
    "plt.xticks(rotation=90)\n",
    "plt.title('Distribution of anime source by each studio')\n",
    "plt.legend(bbox_to_anchor=(1, 1))\n",
    "# Hiển thị biểu đồ\n",
    "plt.show()"
   ]
  },
  {
   "cell_type": "markdown",
   "id": "414fef1c-d6a5-4353-80fe-5606e680dce2",
   "metadata": {},
   "source": [
    "Nhận xét:\n",
    "- Các studio lớn như Production I.G, J.C.Staff, MADHOUSE và Toei Animation có số lượng anime chuyển thể nhiều nhất, từ các nguồn đa dạng như manga, light novel, game, v.v. Điều này cho thấy họ có khả năng thích ứng với nhiều thể loại và phong cách khác nhau, cũng như có mối quan hệ tốt với các nhà xuất bản và nhà phát triển game.\n",
    "- Các studio nhỏ hơn như Kyoto Animation, Shaft, ufotable và Wit Studio có số lượng anime chuyển thể ít hơn, nhưng chủ yếu là từ các nguồn riêng biệt như light novel, visual novel, web manga, v.v. Điều này cho thấy họ có sự chọn lọc và tập trung cao trong việc chuyển thể các tác phẩm có chất lượng và độc đáo, cũng như có phong cách nghệ thuật đặc trưng và nhận dạng.\n",
    "- Các studio khác như Bones, MAPPA, Pierrot, A-1 Pictures và Sunrise có số lượng anime chuyển thể trung bình, từ các nguồn khác nhau, nhưng có xu hướng nhiều hơn về các thể loại như hành động, phiêu lưu, khoa học viễn tưởng, v.v. Điều này cho thấy họ có kinh nghiệm và năng lực trong việc chuyển thể các tác phẩm có yếu tố kịch tính và hấp dẫn, cũng như có kỹ thuật hoạt họa và hiệu ứng cao."
   ]
  },
  {
   "cell_type": "markdown",
   "id": "0f7dcb11-ae89-4684-a32a-704550c1d7d7",
   "metadata": {},
   "source": [
    "#### Sự tương quan giữa số lượng và chất lượng"
   ]
  },
  {
   "cell_type": "markdown",
   "id": "0744eb98-1738-434c-b60e-566338963866",
   "metadata": {},
   "source": [
    "Đầu tiên cần tính tổng số bộ phim mà mỗi studio đã sản xuất."
   ]
  },
  {
   "cell_type": "code",
   "execution_count": null,
   "id": "484e39f7-0929-40e2-bff7-5f17cd6c12f2",
   "metadata": {},
   "outputs": [],
   "source": [
    "total_anime = filtered_data['Studios'].value_counts()\n",
    "print(total_anime)"
   ]
  },
  {
   "cell_type": "markdown",
   "id": "f29dad7b-352b-4af5-baea-69dfe680559c",
   "metadata": {},
   "source": [
    "Tiếp theo, cần tính điểm trung bình các bộ phim của mỗi studio."
   ]
  },
  {
   "cell_type": "code",
   "execution_count": null,
   "id": "2f092cae-598e-4248-8571-4ae26cb13be4",
   "metadata": {},
   "outputs": [],
   "source": [
    "filtered_data = filtered_data.dropna(subset=['Score'])\n",
    "avg_score_by_studio = filtered_data.groupby(\"Studios\")['Score'].mean()\n",
    "avg_score_by_studio"
   ]
  },
  {
   "cell_type": "markdown",
   "id": "423a1018-7780-4e8d-94f7-75e3caf090e4",
   "metadata": {},
   "source": [
    "Cuối cùng, vẽ biểu đồ."
   ]
  },
  {
   "cell_type": "code",
   "execution_count": null,
   "id": "cbb2932d-acc7-432e-a40c-774f3280d05b",
   "metadata": {},
   "outputs": [],
   "source": [
    "total_anime = total_anime.sort_index()\n",
    "avg_score_by_studio = avg_score_by_studio.sort_index()\n",
    "#Vẽ biểu đồ\n",
    "fig, ax = plt.subplots(figsize = (15,7))\n",
    "\n",
    "ax1 = total_anime.plot(kind='bar', rot = 90, label = 'Số anime')\n",
    "ax2 = avg_score_by_studio.plot(secondary_y=True, rot = 90, color = 'r', label = 'Điểm trung bình')\n",
    "ax2.set_ylim(5, 9)\n",
    "\n",
    "#Vẽ 2 legend trên cùng 1 bảng\n",
    "h1, l1 = ax.get_legend_handles_labels()\n",
    "h2, l2 = ax.right_ax.get_legend_handles_labels()\n",
    "handles = h1+h2\n",
    "labels = l1+l2\n",
    "ax.legend(handles, labels, loc='upper left')\n",
    "\n",
    "#Thêm title và xlabel, ylabel\n",
    "\n",
    "plt.title(\"Biểu đồ thể hiện tổng số anime đã sản xuất và số điểm trung bình của mỗi studio\")\n",
    "ax1.set_ylabel(\"Số anime\")\n",
    "ax2.set_ylabel(\"Điểm trung bình\")\n",
    "\n",
    "plt.show()"
   ]
  },
  {
   "cell_type": "markdown",
   "id": "a00a28f3-4240-49c6-baef-47f93f4a8625",
   "metadata": {},
   "source": [
    "Nhận xét:\n",
    "- Một số studio có số lượng anime sản xuất thấp nhưng điểm trung bình cao như Kyoto Animation, ufotable, Wit Studio, v.v. Điều này có thể do họ chọn lọc và tập trung vào các tác phẩm có chất lượng và độc đáo, hoặc do họ có phong cách nghệ thuật đặc trưng và nhận dạng.\n",
    "- Một số studio có số lượng anime sản xuất cao nhưng điểm trung bình thấp hơn như Toei Animation, Pierrot, J.C.Staff, v.v. Điều này có thể do họ chuyên về các thể loại phổ biến nhưng ít sáng tạo, do họ không đầu tư nhiều vào kỹ thuật hoạt họa và nội dung hoặc do sự chênh lệch giữa chất lượng các sản phẩm. Toei Animation có xếp hạng trung bình thấp nhất với 6.623422 trên 10, mặc dù họ là studio có số lượng sản xuất lớn nhất.\n",
    "- Có một số studio có số lượng anime sản xuất và điểm trung bình ở mức trung bình, ví dụ như Bones, Studio Deen, Production I.G., v.v. Điều này có thể do họ có sự cân bằng giữa số lượng và chất lượng, hoặc do họ có nhiều thể loại và phong cách khác nhau.\n",
    "- Tuy nhiên, có thể thấy rằng số lượng và chất lượng anime của các studio không có mối tương quan cố định, còn mà phụ thuộc vào nhiều yếu tố khác nhau."
   ]
  },
  {
   "cell_type": "markdown",
   "id": "36186417-d066-4258-a9ee-ee7d53c2cbe2",
   "metadata": {},
   "source": [
    "#### Vẽ boxplot thể hiện điểm trung bình các phim của mỗi studio"
   ]
  },
  {
   "cell_type": "code",
   "execution_count": null,
   "id": "90720493-9fc8-4fe9-bad9-717ab280af26",
   "metadata": {},
   "outputs": [],
   "source": [
    "# Create a boxplot using Seaborn\n",
    "plt.figure(figsize=(12, 8))\n",
    "sns.set_theme(style=\"whitegrid\")\n",
    "sns.boxplot(x='Studios', y='Score', data=filtered_data, hue='Studios', palette='viridis', dodge=False, legend=False)\n",
    "plt.title('Boxplot of Top 15 Anime Studios by Average Score')\n",
    "plt.xticks(rotation=90)\n",
    "plt.show()"
   ]
  },
  {
   "cell_type": "markdown",
   "id": "45ca261c-7949-47fb-ae78-4d630e72f0a9",
   "metadata": {},
   "source": [
    "Nhận xét:\n",
    "- Biểu đồ này cho ta cái nhìn sâu sắc hơn về chất lượng các tác phẩm của mỗi studio.\n",
    "- Vì đây là top các studio hàng đầu nên chất lượng sản xuất anime của các studio khá đồng đều, với điểm trung bình nằm trong khoảng từ 6 đến 8. Tuy nhiên, cũng có một số outliers, cho thấy có những phim xuất sắc hoặc kém chất lượng.\n",
    "- Các studio như Studio Deen, Production I.G và Shaft có phạm vi điểm rộng dù số bộ phim họ sản xuất ở mức trung bình và thấp, cho thấy sự chênh lệch lớn trong chất lượng sản phẩm của họ.\n",
    "- Có thể thấy rằng các studio thành công này không sản xuất nhiều tác phẩm nhất hay có mức điểm trung bình cao nhất. Có thể nói rằng chất lượng công việc mà các studio này thực hiện mới khiến họ có được rất nhiều chương trình lọt vào top 1000 với điểm số tốt."
   ]
  },
  {
   "cell_type": "markdown",
   "id": "66bac7a4-ee41-48f6-88bf-2ddabc9e692a",
   "metadata": {},
   "source": [
    "### Câu 2"
   ]
  },
  {
   "cell_type": "code",
   "execution_count": null,
   "id": "22383b83-98b9-446b-92c2-822098328571",
   "metadata": {},
   "outputs": [],
   "source": []
  },
  {
   "cell_type": "markdown",
   "id": "2da25abd-2bc1-419d-8fb1-cccc08b76d4d",
   "metadata": {},
   "source": [
    "### Câu 3"
   ]
  },
  {
   "cell_type": "code",
   "execution_count": null,
   "id": "577ae8ad-35f5-46fd-8d37-19fc12186a5f",
   "metadata": {},
   "outputs": [],
   "source": []
  },
  {
   "cell_type": "markdown",
   "id": "5ec499d4-b6b5-43b8-b7fb-73142f9741a0",
   "metadata": {},
   "source": [
    "# PHẢN ÁNH"
   ]
  },
  {
   "cell_type": "markdown",
   "id": "af1dd77a-4e13-440f-bacb-5fae688a3b0a",
   "metadata": {},
   "source": [
    "## 1. Bạn đã gặp những khó khăn gì?"
   ]
  },
  {
   "cell_type": "markdown",
   "id": "50f365e2-a012-4bfb-820b-7c5f7d529a04",
   "metadata": {},
   "source": [
    "### Hân"
   ]
  },
  {
   "cell_type": "markdown",
   "id": "a091b32c-17a5-498c-a4d1-f2b5c2bbebb8",
   "metadata": {},
   "source": [
    "- Bước đặt câu hỏi là bước khó nhất sao cho câu hỏi hợp lý, có giá trị và không bị mơ hồ.\n",
    "- Bước đầu phải xử lý lại bộ dữ liệu vì cột Studios có nhiều giá trị.\n",
    "- Xác định tiêu chuẩn hợp lý cho các bộ phim tốt để lọc bộ dữ liệu.\n",
    "- Xác định những cột dữ liệu cần thiết để trả lời câu hỏi, khó khăn trong việc khám phá và tìm ra các thống kê nổi bật để trả lời câu hỏi. Khó khăn trong việc chọn những phân tích và thống kê hợp lý nhất để trả lời cho câu hỏi của mình.\n",
    "- Nhận xét khách quan và có giá trị dựa trên dữ liệu và thống kê."
   ]
  },
  {
   "cell_type": "markdown",
   "id": "d95ce0ac-9835-4124-ad75-217667180294",
   "metadata": {},
   "source": [
    "### Khuê"
   ]
  },
  {
   "cell_type": "code",
   "execution_count": null,
   "id": "9bf4ff7b-13ce-4578-8661-46405913afa5",
   "metadata": {},
   "outputs": [],
   "source": []
  },
  {
   "cell_type": "markdown",
   "id": "63b53ab6-40dd-45e3-8025-e3301ba92cea",
   "metadata": {},
   "source": [
    "### Tuấn"
   ]
  },
  {
   "cell_type": "code",
   "execution_count": null,
   "id": "3d3f429e-d5d7-4e89-a575-a58ee0f79360",
   "metadata": {},
   "outputs": [],
   "source": []
  },
  {
   "cell_type": "markdown",
   "id": "d40d5e2a-7c78-49a2-aaec-7e0d6e7b510d",
   "metadata": {},
   "source": [
    "## 2. Bạn đã học được những gì"
   ]
  },
  {
   "cell_type": "markdown",
   "id": "cfa2218c-765f-4450-9e45-7f5877dd9310",
   "metadata": {},
   "source": [
    "### Hân"
   ]
  },
  {
   "cell_type": "markdown",
   "id": "fd91afad-fb37-4d44-be6f-e6156ef2b509",
   "metadata": {},
   "source": [
    "- Đánh giá được ý nghĩa và giá trị của các bộ dữ liệu. Biết một bộ dữ liệu như thế nào là tốt và phù hợp.\n",
    "- Có một số kinh nghiệm về tiền xử lý dữ liệu.\n",
    "- Đặt được các câu hỏi có ý nghĩa về mật dữ liệu.\n",
    "- Trình bày một báo cáo phân tích dữ liệu hoàn chỉnh."
   ]
  },
  {
   "cell_type": "markdown",
   "id": "d802b7bf-e2b0-4a38-8344-0228b5f80fa9",
   "metadata": {},
   "source": [
    "### Khuê"
   ]
  },
  {
   "cell_type": "code",
   "execution_count": null,
   "id": "e5663e37-6c14-43cc-b53c-701794133bf4",
   "metadata": {},
   "outputs": [],
   "source": []
  },
  {
   "cell_type": "markdown",
   "id": "f305f128-ecac-4e63-b846-0dc251cf4b69",
   "metadata": {},
   "source": [
    "### Tuấn"
   ]
  },
  {
   "cell_type": "code",
   "execution_count": null,
   "id": "efecf501-8317-4a24-ad5c-8b41bf311780",
   "metadata": {},
   "outputs": [],
   "source": []
  },
  {
   "cell_type": "markdown",
   "id": "6aff92ff-9214-4f43-b84b-c0f37abbd151",
   "metadata": {},
   "source": [
    "## 3. Nếu có nhiều thời gian hơn bạn sẽ làm gì?"
   ]
  },
  {
   "cell_type": "markdown",
   "id": "d6844ab2-53d7-4e07-8021-28872904aa21",
   "metadata": {},
   "source": [
    "- Thống kê thêm về phân bố Rating, Genres của các top-studio.\n",
    "- Phân tích sự tương quan giữa các yếu tố như số lượng người xem, số lượng người yêu thích và điểm số của các studio. Phân tích mức độ phổ biến và mức độ tương tác của người xem.\n",
    "- Phân tích sự ảnh hưởng của các studio đối với nhau. Tìm ra các studio có cùng nhà sản xuất, các studio đồng sản xuất phim... Điều này sẽ giúp hiểu được sự hợp tác và cạnh tranh giữa các studio.\r\n"
   ]
  }
 ],
 "metadata": {
  "kernelspec": {
   "display_name": "Python 3 (ipykernel)",
   "language": "python",
   "name": "python3"
  },
  "language_info": {
   "codemirror_mode": {
    "name": "ipython",
    "version": 3
   },
   "file_extension": ".py",
   "mimetype": "text/x-python",
   "name": "python",
   "nbconvert_exporter": "python",
   "pygments_lexer": "ipython3",
   "version": "3.10.8"
  }
 },
 "nbformat": 4,
 "nbformat_minor": 5
}
