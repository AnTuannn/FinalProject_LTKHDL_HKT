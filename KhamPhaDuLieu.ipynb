{
 "cells": [
  {
   "cell_type": "markdown",
   "id": "269bc2be-ffef-4206-9892-5cb0b93e14b0",
   "metadata": {},
   "source": [
    "# THU THẬP VÀ KHÁM PHÁ DỮ LIỆU"
   ]
  },
  {
   "cell_type": "markdown",
   "id": "f866b830-555b-4130-9548-a95eb5eec745",
   "metadata": {},
   "source": [
    "## 1. Import thư viện cần thiết"
   ]
  },
  {
   "cell_type": "code",
   "execution_count": 1,
   "id": "2734831a-3208-4628-84e8-8d8de47eda20",
   "metadata": {},
   "outputs": [],
   "source": [
    "import numpy as np\n",
    "import pandas as pd\n",
    "import matplotlib.pyplot as plt"
   ]
  },
  {
   "cell_type": "markdown",
   "id": "8086d023-a6f0-4338-88db-4a914819b305",
   "metadata": {},
   "source": [
    "## 2. Đọc dữ liệu từ file csv"
   ]
  },
  {
   "cell_type": "code",
   "execution_count": 2,
   "id": "0d594911-1c20-44bd-9cee-7e438d85a74a",
   "metadata": {},
   "outputs": [],
   "source": [
    "anime23_df = pd.read_csv('anime-dataset-2023.csv')"
   ]
  },
  {
   "cell_type": "markdown",
   "id": "e4f1f30d-43de-48d8-8ea1-cfad1c3661da",
   "metadata": {},
   "source": [
    "### Hiển thị 5 hàng đầu tiên trong tập dữ liệu"
   ]
  },
  {
   "cell_type": "code",
   "execution_count": 3,
   "id": "50e26673-1787-4c5f-9add-46310f1cf2ef",
   "metadata": {},
   "outputs": [
    {
     "data": {
      "text/html": [
       "<div>\n",
       "<style scoped>\n",
       "    .dataframe tbody tr th:only-of-type {\n",
       "        vertical-align: middle;\n",
       "    }\n",
       "\n",
       "    .dataframe tbody tr th {\n",
       "        vertical-align: top;\n",
       "    }\n",
       "\n",
       "    .dataframe thead th {\n",
       "        text-align: right;\n",
       "    }\n",
       "</style>\n",
       "<table border=\"1\" class=\"dataframe\">\n",
       "  <thead>\n",
       "    <tr style=\"text-align: right;\">\n",
       "      <th></th>\n",
       "      <th>anime_id</th>\n",
       "      <th>Name</th>\n",
       "      <th>English name</th>\n",
       "      <th>Other name</th>\n",
       "      <th>Score</th>\n",
       "      <th>Genres</th>\n",
       "      <th>Synopsis</th>\n",
       "      <th>Type</th>\n",
       "      <th>Episodes</th>\n",
       "      <th>Aired</th>\n",
       "      <th>...</th>\n",
       "      <th>Studios</th>\n",
       "      <th>Source</th>\n",
       "      <th>Duration</th>\n",
       "      <th>Rating</th>\n",
       "      <th>Rank</th>\n",
       "      <th>Popularity</th>\n",
       "      <th>Favorites</th>\n",
       "      <th>Scored By</th>\n",
       "      <th>Members</th>\n",
       "      <th>Image URL</th>\n",
       "    </tr>\n",
       "  </thead>\n",
       "  <tbody>\n",
       "    <tr>\n",
       "      <th>0</th>\n",
       "      <td>1</td>\n",
       "      <td>Cowboy Bebop</td>\n",
       "      <td>Cowboy Bebop</td>\n",
       "      <td>カウボーイビバップ</td>\n",
       "      <td>8.75</td>\n",
       "      <td>Action, Award Winning, Sci-Fi</td>\n",
       "      <td>Crime is timeless. By the year 2071, humanity ...</td>\n",
       "      <td>TV</td>\n",
       "      <td>26.0</td>\n",
       "      <td>Apr 3, 1998 to Apr 24, 1999</td>\n",
       "      <td>...</td>\n",
       "      <td>Sunrise</td>\n",
       "      <td>Original</td>\n",
       "      <td>24 min per ep</td>\n",
       "      <td>R - 17+ (violence &amp; profanity)</td>\n",
       "      <td>41.0</td>\n",
       "      <td>43</td>\n",
       "      <td>78525</td>\n",
       "      <td>914193.0</td>\n",
       "      <td>1771505</td>\n",
       "      <td>https://cdn.myanimelist.net/images/anime/4/196...</td>\n",
       "    </tr>\n",
       "    <tr>\n",
       "      <th>1</th>\n",
       "      <td>5</td>\n",
       "      <td>Cowboy Bebop: Tengoku no Tobira</td>\n",
       "      <td>Cowboy Bebop: The Movie</td>\n",
       "      <td>カウボーイビバップ 天国の扉</td>\n",
       "      <td>8.38</td>\n",
       "      <td>Action, Sci-Fi</td>\n",
       "      <td>Another day, another bounty—such is the life o...</td>\n",
       "      <td>Movie</td>\n",
       "      <td>1.0</td>\n",
       "      <td>Sep 1, 2001</td>\n",
       "      <td>...</td>\n",
       "      <td>Bones</td>\n",
       "      <td>Original</td>\n",
       "      <td>1 hr 55 min</td>\n",
       "      <td>R - 17+ (violence &amp; profanity)</td>\n",
       "      <td>189.0</td>\n",
       "      <td>602</td>\n",
       "      <td>1448</td>\n",
       "      <td>206248.0</td>\n",
       "      <td>360978</td>\n",
       "      <td>https://cdn.myanimelist.net/images/anime/1439/...</td>\n",
       "    </tr>\n",
       "    <tr>\n",
       "      <th>2</th>\n",
       "      <td>6</td>\n",
       "      <td>Trigun</td>\n",
       "      <td>Trigun</td>\n",
       "      <td>トライガン</td>\n",
       "      <td>8.22</td>\n",
       "      <td>Action, Adventure, Sci-Fi</td>\n",
       "      <td>Vash the Stampede is the man with a $$60,000,0...</td>\n",
       "      <td>TV</td>\n",
       "      <td>26.0</td>\n",
       "      <td>Apr 1, 1998 to Sep 30, 1998</td>\n",
       "      <td>...</td>\n",
       "      <td>Madhouse</td>\n",
       "      <td>Manga</td>\n",
       "      <td>24 min per ep</td>\n",
       "      <td>PG-13 - Teens 13 or older</td>\n",
       "      <td>328.0</td>\n",
       "      <td>246</td>\n",
       "      <td>15035</td>\n",
       "      <td>356739.0</td>\n",
       "      <td>727252</td>\n",
       "      <td>https://cdn.myanimelist.net/images/anime/7/203...</td>\n",
       "    </tr>\n",
       "    <tr>\n",
       "      <th>3</th>\n",
       "      <td>7</td>\n",
       "      <td>Witch Hunter Robin</td>\n",
       "      <td>Witch Hunter Robin</td>\n",
       "      <td>Witch Hunter ROBIN (ウイッチハンターロビン)</td>\n",
       "      <td>7.25</td>\n",
       "      <td>Action, Drama, Mystery, Supernatural</td>\n",
       "      <td>Robin Sena is a powerful craft user drafted in...</td>\n",
       "      <td>TV</td>\n",
       "      <td>26.0</td>\n",
       "      <td>Jul 3, 2002 to Dec 25, 2002</td>\n",
       "      <td>...</td>\n",
       "      <td>Sunrise</td>\n",
       "      <td>Original</td>\n",
       "      <td>25 min per ep</td>\n",
       "      <td>PG-13 - Teens 13 or older</td>\n",
       "      <td>2764.0</td>\n",
       "      <td>1795</td>\n",
       "      <td>613</td>\n",
       "      <td>42829.0</td>\n",
       "      <td>111931</td>\n",
       "      <td>https://cdn.myanimelist.net/images/anime/10/19...</td>\n",
       "    </tr>\n",
       "    <tr>\n",
       "      <th>4</th>\n",
       "      <td>8</td>\n",
       "      <td>Bouken Ou Beet</td>\n",
       "      <td>Beet the Vandel Buster</td>\n",
       "      <td>冒険王ビィト</td>\n",
       "      <td>6.94</td>\n",
       "      <td>Adventure, Fantasy, Supernatural</td>\n",
       "      <td>It is the dark century and the people are suff...</td>\n",
       "      <td>TV</td>\n",
       "      <td>52.0</td>\n",
       "      <td>Sep 30, 2004 to Sep 29, 2005</td>\n",
       "      <td>...</td>\n",
       "      <td>Toei Animation</td>\n",
       "      <td>Manga</td>\n",
       "      <td>23 min per ep</td>\n",
       "      <td>PG - Children</td>\n",
       "      <td>4240.0</td>\n",
       "      <td>5126</td>\n",
       "      <td>14</td>\n",
       "      <td>6413.0</td>\n",
       "      <td>15001</td>\n",
       "      <td>https://cdn.myanimelist.net/images/anime/7/215...</td>\n",
       "    </tr>\n",
       "  </tbody>\n",
       "</table>\n",
       "<p>5 rows × 24 columns</p>\n",
       "</div>"
      ],
      "text/plain": [
       "   anime_id                             Name             English name  \\\n",
       "0         1                     Cowboy Bebop             Cowboy Bebop   \n",
       "1         5  Cowboy Bebop: Tengoku no Tobira  Cowboy Bebop: The Movie   \n",
       "2         6                           Trigun                   Trigun   \n",
       "3         7               Witch Hunter Robin       Witch Hunter Robin   \n",
       "4         8                   Bouken Ou Beet   Beet the Vandel Buster   \n",
       "\n",
       "                         Other name Score  \\\n",
       "0                         カウボーイビバップ  8.75   \n",
       "1                    カウボーイビバップ 天国の扉  8.38   \n",
       "2                             トライガン  8.22   \n",
       "3  Witch Hunter ROBIN (ウイッチハンターロビン)  7.25   \n",
       "4                            冒険王ビィト  6.94   \n",
       "\n",
       "                                 Genres  \\\n",
       "0         Action, Award Winning, Sci-Fi   \n",
       "1                        Action, Sci-Fi   \n",
       "2             Action, Adventure, Sci-Fi   \n",
       "3  Action, Drama, Mystery, Supernatural   \n",
       "4      Adventure, Fantasy, Supernatural   \n",
       "\n",
       "                                            Synopsis   Type Episodes  \\\n",
       "0  Crime is timeless. By the year 2071, humanity ...     TV     26.0   \n",
       "1  Another day, another bounty—such is the life o...  Movie      1.0   \n",
       "2  Vash the Stampede is the man with a $$60,000,0...     TV     26.0   \n",
       "3  Robin Sena is a powerful craft user drafted in...     TV     26.0   \n",
       "4  It is the dark century and the people are suff...     TV     52.0   \n",
       "\n",
       "                          Aired  ...         Studios    Source       Duration  \\\n",
       "0   Apr 3, 1998 to Apr 24, 1999  ...         Sunrise  Original  24 min per ep   \n",
       "1                   Sep 1, 2001  ...           Bones  Original    1 hr 55 min   \n",
       "2   Apr 1, 1998 to Sep 30, 1998  ...        Madhouse     Manga  24 min per ep   \n",
       "3   Jul 3, 2002 to Dec 25, 2002  ...         Sunrise  Original  25 min per ep   \n",
       "4  Sep 30, 2004 to Sep 29, 2005  ...  Toei Animation     Manga  23 min per ep   \n",
       "\n",
       "                           Rating    Rank Popularity Favorites Scored By  \\\n",
       "0  R - 17+ (violence & profanity)    41.0         43     78525  914193.0   \n",
       "1  R - 17+ (violence & profanity)   189.0        602      1448  206248.0   \n",
       "2       PG-13 - Teens 13 or older   328.0        246     15035  356739.0   \n",
       "3       PG-13 - Teens 13 or older  2764.0       1795       613   42829.0   \n",
       "4                   PG - Children  4240.0       5126        14    6413.0   \n",
       "\n",
       "   Members                                          Image URL  \n",
       "0  1771505  https://cdn.myanimelist.net/images/anime/4/196...  \n",
       "1   360978  https://cdn.myanimelist.net/images/anime/1439/...  \n",
       "2   727252  https://cdn.myanimelist.net/images/anime/7/203...  \n",
       "3   111931  https://cdn.myanimelist.net/images/anime/10/19...  \n",
       "4    15001  https://cdn.myanimelist.net/images/anime/7/215...  \n",
       "\n",
       "[5 rows x 24 columns]"
      ]
     },
     "execution_count": 3,
     "metadata": {},
     "output_type": "execute_result"
    }
   ],
   "source": [
    "anime23_df.head()"
   ]
  },
  {
   "cell_type": "markdown",
   "id": "831939b7-6f1f-45ef-bb8d-0290f3685cca",
   "metadata": {},
   "source": [
    "## 3. Thu thập dữ liệu"
   ]
  },
  {
   "cell_type": "markdown",
   "id": "2bcdfc1b-19bf-4251-a30f-580e074c6652",
   "metadata": {},
   "source": [
    "### Thông tin chung"
   ]
  },
  {
   "cell_type": "markdown",
   "id": "e0d2a55e-8d1d-4853-914e-1a3883940153",
   "metadata": {},
   "source": [
    "- **Chủ đề dữ liệu**: Thông tin về Anime (Phim hoạt hình Nhật Bản)\n",
    "- **Nguồn dữ liệu**: Bộ dữ liệu được lấy trên Kaggle. Link dataset: https://www.kaggle.com/datasets/dbdmobile/myanimelist-dataset\n",
    "- **Bản quyền**: Đây là một Open Database được cấp phép theo Database Contents License (DbCL) v1.0\n",
    "- **Cách tác giả thu thập dữ liệu**: Bộ dữ liệu được thu thập từ nền tảng MyAnimeList, một cộng đồng và cơ sở dữ liệu trực tuyến phổ biến dành cho những người đam mê anime và manga. Nền tảng này cung cấp thông tin về các anime, hồ sơ người dùng và điểm của người dùng đánh giá cho các anime khác nhau. Tác giả sử dụng ngôn ngữ lập trình Python, cùng API Jikan và thư viện Beautiful Soup để trích xuất dữ liệu từ web. Source code hoàn chỉnh cho quy trình thu thập dữ liệu được lưu trữ trên link GitHub của tác giả: https://github.com/Sajid030/anime_dataset_generator\n",
    "- **Ghi chú**: Bộ dữ liệu chứa nhiều file nhưng chúng em chỉ sử dụng file anime-dataset-2023.csv để sử dụng làm tập dữ liệu phục vụ cho đồ án này."
   ]
  },
  {
   "cell_type": "markdown",
   "id": "c80e84d3-f9b9-4d82-9306-7a8be3320060",
   "metadata": {},
   "source": [
    "### Mô tả cụ thể về tập dữ liệu"
   ]
  },
  {
   "cell_type": "markdown",
   "id": "76e4f0bc-9491-4b4c-973c-0fad387d3b44",
   "metadata": {},
   "source": [
    "Tập dữ liệu chứa thông tin đầy đủ và chi tiết về 24.905 bộ anime. File chứa các cột sau (thông tin được lấy từ kaggle):\\\n",
    "1 - anime_id: Unique ID for each anime.\\\n",
    "2 - Name: The name of the anime in its original language.\\\n",
    "3 - English name: The English name of the anime.\\\n",
    "4 - Other name: Native name or title of the anime(can be in Japanese, Chinese or Korean).\\\n",
    "5 - Score: The score or rating given to the anime.\\\n",
    "6 - Genres: The genres of the anime, separated by commas.\\\n",
    "7 - Synopsis: A brief description or summary of the anime's plot.\\\n",
    "8 - Type: The type of the anime (e.g., TV series, movie, OVA, etc.).\\\n",
    "9 - Episodes: The number of episodes in the anime.\\\n",
    "10 - Aired: The dates when the anime was aired.\\\n",
    "11 - Premiered: The season and year when the anime premiered.\\\n",
    "12 - Status: The status of the anime (e.g., Finished Airing, Currently Airing, etc.).\\\n",
    "13 - Producers: The production companies or producers of the anime.\\\n",
    "14 - Licensors: The licensors of the anime (e.g., streaming platforms).\\\n",
    "15 - Studios: The animation studios that worked on the anime.\\\n",
    "16 - Source: The source material of the anime (e.g., manga, light novel, original).\\\n",
    "17 - Duration: The duration of each episode.\\\n",
    "18 - Rating: The age rating of the anime.\\\n",
    "19 - Rank: The rank of the anime based on popularity or other criteria.\\\n",
    "20 - Popularity: The popularity rank of the anime.\\\n",
    "21 - Favorites: The number of times the anime was marked as a favorite by users.\\\n",
    "22 - Scored By: The number of users who scored the anime.\\\n",
    "23 - Members: The number of members who have added the anime to their list on the platform.\\\n",
    "24 - Image URL: The URL of the anime's image or poster."
   ]
  },
  {
   "cell_type": "markdown",
   "id": "7daabe1d-c747-4756-aaab-805dfdc2fae9",
   "metadata": {},
   "source": [
    "## 3. Khám phá và tiền xử lý dữ liệu"
   ]
  },
  {
   "cell_type": "markdown",
   "id": "fa7116e5-2b6f-4f34-85e4-317d3e8ef29e",
   "metadata": {},
   "source": [
    "### Số dòng và số cột của tập dữ liệu"
   ]
  },
  {
   "cell_type": "code",
   "execution_count": 4,
   "id": "f118d545-e192-48b4-96fd-22cb1193f378",
   "metadata": {},
   "outputs": [
    {
     "name": "stdout",
     "output_type": "stream",
     "text": [
      "Số dòng của dataset: 24905\n",
      "Số cột của dataset: 24\n"
     ]
    }
   ],
   "source": [
    "nrows, ncols = anime23_df.shape\n",
    "print('Số dòng của dataset:', nrows)\n",
    "print('Số cột của dataset:', ncols)"
   ]
  },
  {
   "cell_type": "markdown",
   "id": "5f895523-c844-4881-8813-d418a2ed04be",
   "metadata": {},
   "source": [
    "### Ý nghĩa của mỗi hàng"
   ]
  },
  {
   "cell_type": "markdown",
   "id": "c2677e9b-ff85-4dce-94da-c637e3a1906d",
   "metadata": {},
   "source": [
    "Mỗi hàng chứa thông tin về 1 bộ anime như tên, thể loại, số tập, thời lượng, nhà sản xuất,... và xếp hạng dựa trên một số tiêu chí cũng như là điểm đánh giá trung bình cho anime đó do người dùng đánh giá trên nền tảng MyAnimeList."
   ]
  },
  {
   "cell_type": "markdown",
   "id": "1114f28d-200c-4a04-a48a-dd6804380136",
   "metadata": {},
   "source": [
    "### Kiểm tra xem có hàng nào trùng lập không?"
   ]
  },
  {
   "cell_type": "code",
   "execution_count": 5,
   "id": "07a548b0-750b-4d4b-b79b-c08b2d4bf182",
   "metadata": {},
   "outputs": [
    {
     "name": "stdout",
     "output_type": "stream",
     "text": [
      "Không có hàng trùng lập\n"
     ]
    }
   ],
   "source": [
    "have_duplicate_rows = anime23_df.duplicated().sum() == nrows\n",
    "if have_duplicate_rows:\n",
    "    print(\"Có hàng trùng lập\")\n",
    "else:\n",
    "    print(\"Không có hàng trùng lập\")"
   ]
  },
  {
   "cell_type": "markdown",
   "id": "c87b3236-df2d-4612-8ee9-56f2786aed73",
   "metadata": {},
   "source": [
    "### Ý nghĩa của mỗi cột"
   ]
  },
  {
   "cell_type": "code",
   "execution_count": 6,
   "id": "655e3993-71ca-4748-afc8-06422d40d010",
   "metadata": {},
   "outputs": [
    {
     "data": {
      "text/plain": [
       "Index(['anime_id', 'Name', 'English name', 'Other name', 'Score', 'Genres',\n",
       "       'Synopsis', 'Type', 'Episodes', 'Aired', 'Premiered', 'Status',\n",
       "       'Producers', 'Licensors', 'Studios', 'Source', 'Duration', 'Rating',\n",
       "       'Rank', 'Popularity', 'Favorites', 'Scored By', 'Members', 'Image URL'],\n",
       "      dtype='object')"
      ]
     },
     "execution_count": 6,
     "metadata": {},
     "output_type": "execute_result"
    }
   ],
   "source": [
    "# Xem tên của từng cột\n",
    "anime23_df.columns"
   ]
  },
  {
   "cell_type": "markdown",
   "id": "22438390-b10c-4d71-8271-a4da01aefc6a",
   "metadata": {},
   "source": [
    "#### Ý nghĩa của mỗi cột dựa trên thông tin được cung cấp trên kaggle:\n",
    "- Cột đầu tiên cho biết ID của anime (anime_ID)\n",
    "- Cột thứ hai cho biết tên gốc của anime (Name)\n",
    "- Cột thứ ba cho biết tên tiếng anh của anime (English name)\n",
    "- Cột thứ tư cho biết tên hoặc tiêu đề khác của anime bằng các ngôn ngữ khác nhau (Other name)\n",
    "- Cột thứ năm cho biết điểm số trung bình đánh giá cho anime bởi người dùng (Score)\n",
    "- Cột thứ sáu cho biết thể loại của anime, một anime có thể thuộc nhiều thể loại được phân tách bởi dấu phẩy (Genres)\n",
    "- Cột thứ bảy cho biết mô tả hoặc tóm tắt ngắn gọn về cốt truyện của anime (Synopsis)\n",
    "- Cột thứ tám cho biết anime thuộc dạng phim dài tập hay movie,... (Type)\n",
    "- Cột thứ chín cho biết số tập của anime (Epiosdes)\n",
    "- Cột thứ mười cho biết ngày bắt đầu và kết thúc việc phát sóng anime (Aired)\n",
    "- Cột thứ mười một cho biết mùa và năm mà anime được ra mắt (Premiered)\n",
    "- Cột thứ mười hai cho biết trạng thái hiện tại của anime (Status)\n",
    "- Cột thứ mười ba cho biết công ty hoặc nhà sản xuất của anime (Producers)\n",
    "- Cột thứ mười bốn cho biết những đối tượng có bản quyền của anime (Licensors)\n",
    "- Cột thứ mười lăm cho biết hãng làm phim hoạt hình làm ra anime (Studios)\n",
    "- Cột thứ mười sáu cho biết nguồn tài liệu để làm ra anime (Source)\n",
    "- Cột thứ mười bảy cho biết thời lượng của mỗi tập trong anime (Duration)\n",
    "- Cột thứ mười tám cho biết độ tuổi cho phép để xem anime (Rating)\n",
    "- Cột thứ mười chín cho biết xếp hạng của anime dựa trên mức độ phổ biến hoặc nhiều tiêu chí khác (Rank)\n",
    "- Cột thứ hai mươi cho biết xếp hạng độ phổ biến của anime (Popularity)\n",
    "- Cột thứ hai mươi mốt cho biết số lần mà anime được đánh dấu là yêu thích bởi người dùng (Favorites)\n",
    "- Cột thứ hai mươi hai cho biết số lượng người dùng đã chấm điểm cho anime (Scored By)\n",
    "- Cột thứ hai mươi ba cho biết số lượng người dùng để thêm anime và danh sách của họ trên nền tảng (Members) \n",
    "- Cột thứ hai mươi bốn cho biết đường dẫn của ảnh hoặc poster của anime (Image URL)"
   ]
  },
  {
   "cell_type": "markdown",
   "id": "08271341-eeed-445d-aff3-5230843a06ad",
   "metadata": {},
   "source": [
    "### Loại bỏ một số cột không sử dụng"
   ]
  },
  {
   "cell_type": "markdown",
   "id": "ffe176d9-1fbe-4ce9-9378-d7616234d71e",
   "metadata": {},
   "source": [
    "Do có tận 3 cột tên của anime, các cột đều chung ý nghĩa là nói về tên của anime do đó ta chỉ cần sử dụng 1 cột tên là đủ. Vì các cột tên tiếng Anh và các ngôn ngữ khác có thể không có dữ liệu tên nên ta sẽ chỉ giữ lại cột chứa tên gốc của anime `Name` và loại bỏ 2 cột còn lại `English name` và `Other name`."
   ]
  },
  {
   "cell_type": "code",
   "execution_count": 7,
   "id": "76ffcb47-ef20-4c3d-bc78-83a1fc403d0e",
   "metadata": {},
   "outputs": [
    {
     "data": {
      "text/html": [
       "<div>\n",
       "<style scoped>\n",
       "    .dataframe tbody tr th:only-of-type {\n",
       "        vertical-align: middle;\n",
       "    }\n",
       "\n",
       "    .dataframe tbody tr th {\n",
       "        vertical-align: top;\n",
       "    }\n",
       "\n",
       "    .dataframe thead th {\n",
       "        text-align: right;\n",
       "    }\n",
       "</style>\n",
       "<table border=\"1\" class=\"dataframe\">\n",
       "  <thead>\n",
       "    <tr style=\"text-align: right;\">\n",
       "      <th></th>\n",
       "      <th>anime_id</th>\n",
       "      <th>Name</th>\n",
       "      <th>Score</th>\n",
       "      <th>Genres</th>\n",
       "      <th>Synopsis</th>\n",
       "      <th>Type</th>\n",
       "      <th>Episodes</th>\n",
       "      <th>Aired</th>\n",
       "      <th>Premiered</th>\n",
       "      <th>Status</th>\n",
       "      <th>...</th>\n",
       "      <th>Studios</th>\n",
       "      <th>Source</th>\n",
       "      <th>Duration</th>\n",
       "      <th>Rating</th>\n",
       "      <th>Rank</th>\n",
       "      <th>Popularity</th>\n",
       "      <th>Favorites</th>\n",
       "      <th>Scored By</th>\n",
       "      <th>Members</th>\n",
       "      <th>Image URL</th>\n",
       "    </tr>\n",
       "  </thead>\n",
       "  <tbody>\n",
       "    <tr>\n",
       "      <th>0</th>\n",
       "      <td>1</td>\n",
       "      <td>Cowboy Bebop</td>\n",
       "      <td>8.75</td>\n",
       "      <td>Action, Award Winning, Sci-Fi</td>\n",
       "      <td>Crime is timeless. By the year 2071, humanity ...</td>\n",
       "      <td>TV</td>\n",
       "      <td>26.0</td>\n",
       "      <td>Apr 3, 1998 to Apr 24, 1999</td>\n",
       "      <td>spring 1998</td>\n",
       "      <td>Finished Airing</td>\n",
       "      <td>...</td>\n",
       "      <td>Sunrise</td>\n",
       "      <td>Original</td>\n",
       "      <td>24 min per ep</td>\n",
       "      <td>R - 17+ (violence &amp; profanity)</td>\n",
       "      <td>41.0</td>\n",
       "      <td>43</td>\n",
       "      <td>78525</td>\n",
       "      <td>914193.0</td>\n",
       "      <td>1771505</td>\n",
       "      <td>https://cdn.myanimelist.net/images/anime/4/196...</td>\n",
       "    </tr>\n",
       "    <tr>\n",
       "      <th>1</th>\n",
       "      <td>5</td>\n",
       "      <td>Cowboy Bebop: Tengoku no Tobira</td>\n",
       "      <td>8.38</td>\n",
       "      <td>Action, Sci-Fi</td>\n",
       "      <td>Another day, another bounty—such is the life o...</td>\n",
       "      <td>Movie</td>\n",
       "      <td>1.0</td>\n",
       "      <td>Sep 1, 2001</td>\n",
       "      <td>UNKNOWN</td>\n",
       "      <td>Finished Airing</td>\n",
       "      <td>...</td>\n",
       "      <td>Bones</td>\n",
       "      <td>Original</td>\n",
       "      <td>1 hr 55 min</td>\n",
       "      <td>R - 17+ (violence &amp; profanity)</td>\n",
       "      <td>189.0</td>\n",
       "      <td>602</td>\n",
       "      <td>1448</td>\n",
       "      <td>206248.0</td>\n",
       "      <td>360978</td>\n",
       "      <td>https://cdn.myanimelist.net/images/anime/1439/...</td>\n",
       "    </tr>\n",
       "    <tr>\n",
       "      <th>2</th>\n",
       "      <td>6</td>\n",
       "      <td>Trigun</td>\n",
       "      <td>8.22</td>\n",
       "      <td>Action, Adventure, Sci-Fi</td>\n",
       "      <td>Vash the Stampede is the man with a $$60,000,0...</td>\n",
       "      <td>TV</td>\n",
       "      <td>26.0</td>\n",
       "      <td>Apr 1, 1998 to Sep 30, 1998</td>\n",
       "      <td>spring 1998</td>\n",
       "      <td>Finished Airing</td>\n",
       "      <td>...</td>\n",
       "      <td>Madhouse</td>\n",
       "      <td>Manga</td>\n",
       "      <td>24 min per ep</td>\n",
       "      <td>PG-13 - Teens 13 or older</td>\n",
       "      <td>328.0</td>\n",
       "      <td>246</td>\n",
       "      <td>15035</td>\n",
       "      <td>356739.0</td>\n",
       "      <td>727252</td>\n",
       "      <td>https://cdn.myanimelist.net/images/anime/7/203...</td>\n",
       "    </tr>\n",
       "    <tr>\n",
       "      <th>3</th>\n",
       "      <td>7</td>\n",
       "      <td>Witch Hunter Robin</td>\n",
       "      <td>7.25</td>\n",
       "      <td>Action, Drama, Mystery, Supernatural</td>\n",
       "      <td>Robin Sena is a powerful craft user drafted in...</td>\n",
       "      <td>TV</td>\n",
       "      <td>26.0</td>\n",
       "      <td>Jul 3, 2002 to Dec 25, 2002</td>\n",
       "      <td>summer 2002</td>\n",
       "      <td>Finished Airing</td>\n",
       "      <td>...</td>\n",
       "      <td>Sunrise</td>\n",
       "      <td>Original</td>\n",
       "      <td>25 min per ep</td>\n",
       "      <td>PG-13 - Teens 13 or older</td>\n",
       "      <td>2764.0</td>\n",
       "      <td>1795</td>\n",
       "      <td>613</td>\n",
       "      <td>42829.0</td>\n",
       "      <td>111931</td>\n",
       "      <td>https://cdn.myanimelist.net/images/anime/10/19...</td>\n",
       "    </tr>\n",
       "    <tr>\n",
       "      <th>4</th>\n",
       "      <td>8</td>\n",
       "      <td>Bouken Ou Beet</td>\n",
       "      <td>6.94</td>\n",
       "      <td>Adventure, Fantasy, Supernatural</td>\n",
       "      <td>It is the dark century and the people are suff...</td>\n",
       "      <td>TV</td>\n",
       "      <td>52.0</td>\n",
       "      <td>Sep 30, 2004 to Sep 29, 2005</td>\n",
       "      <td>fall 2004</td>\n",
       "      <td>Finished Airing</td>\n",
       "      <td>...</td>\n",
       "      <td>Toei Animation</td>\n",
       "      <td>Manga</td>\n",
       "      <td>23 min per ep</td>\n",
       "      <td>PG - Children</td>\n",
       "      <td>4240.0</td>\n",
       "      <td>5126</td>\n",
       "      <td>14</td>\n",
       "      <td>6413.0</td>\n",
       "      <td>15001</td>\n",
       "      <td>https://cdn.myanimelist.net/images/anime/7/215...</td>\n",
       "    </tr>\n",
       "  </tbody>\n",
       "</table>\n",
       "<p>5 rows × 22 columns</p>\n",
       "</div>"
      ],
      "text/plain": [
       "   anime_id                             Name Score  \\\n",
       "0         1                     Cowboy Bebop  8.75   \n",
       "1         5  Cowboy Bebop: Tengoku no Tobira  8.38   \n",
       "2         6                           Trigun  8.22   \n",
       "3         7               Witch Hunter Robin  7.25   \n",
       "4         8                   Bouken Ou Beet  6.94   \n",
       "\n",
       "                                 Genres  \\\n",
       "0         Action, Award Winning, Sci-Fi   \n",
       "1                        Action, Sci-Fi   \n",
       "2             Action, Adventure, Sci-Fi   \n",
       "3  Action, Drama, Mystery, Supernatural   \n",
       "4      Adventure, Fantasy, Supernatural   \n",
       "\n",
       "                                            Synopsis   Type Episodes  \\\n",
       "0  Crime is timeless. By the year 2071, humanity ...     TV     26.0   \n",
       "1  Another day, another bounty—such is the life o...  Movie      1.0   \n",
       "2  Vash the Stampede is the man with a $$60,000,0...     TV     26.0   \n",
       "3  Robin Sena is a powerful craft user drafted in...     TV     26.0   \n",
       "4  It is the dark century and the people are suff...     TV     52.0   \n",
       "\n",
       "                          Aired    Premiered           Status  ...  \\\n",
       "0   Apr 3, 1998 to Apr 24, 1999  spring 1998  Finished Airing  ...   \n",
       "1                   Sep 1, 2001      UNKNOWN  Finished Airing  ...   \n",
       "2   Apr 1, 1998 to Sep 30, 1998  spring 1998  Finished Airing  ...   \n",
       "3   Jul 3, 2002 to Dec 25, 2002  summer 2002  Finished Airing  ...   \n",
       "4  Sep 30, 2004 to Sep 29, 2005    fall 2004  Finished Airing  ...   \n",
       "\n",
       "          Studios    Source       Duration                          Rating  \\\n",
       "0         Sunrise  Original  24 min per ep  R - 17+ (violence & profanity)   \n",
       "1           Bones  Original    1 hr 55 min  R - 17+ (violence & profanity)   \n",
       "2        Madhouse     Manga  24 min per ep       PG-13 - Teens 13 or older   \n",
       "3         Sunrise  Original  25 min per ep       PG-13 - Teens 13 or older   \n",
       "4  Toei Animation     Manga  23 min per ep                   PG - Children   \n",
       "\n",
       "     Rank Popularity Favorites  Scored By  Members  \\\n",
       "0    41.0         43     78525   914193.0  1771505   \n",
       "1   189.0        602      1448   206248.0   360978   \n",
       "2   328.0        246     15035   356739.0   727252   \n",
       "3  2764.0       1795       613    42829.0   111931   \n",
       "4  4240.0       5126        14     6413.0    15001   \n",
       "\n",
       "                                           Image URL  \n",
       "0  https://cdn.myanimelist.net/images/anime/4/196...  \n",
       "1  https://cdn.myanimelist.net/images/anime/1439/...  \n",
       "2  https://cdn.myanimelist.net/images/anime/7/203...  \n",
       "3  https://cdn.myanimelist.net/images/anime/10/19...  \n",
       "4  https://cdn.myanimelist.net/images/anime/7/215...  \n",
       "\n",
       "[5 rows x 22 columns]"
      ]
     },
     "execution_count": 7,
     "metadata": {},
     "output_type": "execute_result"
    }
   ],
   "source": [
    "anime23_df.drop(['English name', 'Other name'], axis=1, inplace = True)\n",
    "anime23_df.head()"
   ]
  },
  {
   "cell_type": "markdown",
   "id": "19597ed8-e257-4e5a-95ac-9f3c413154cd",
   "metadata": {},
   "source": [
    "Ngoài ra cột dữ liệu `Image URL` cũng không mang nhiều giá trị nên cũng sẽ được loại bỏ."
   ]
  },
  {
   "cell_type": "code",
   "execution_count": 8,
   "id": "8952c911-8cf6-4ddb-b202-a294b125cfce",
   "metadata": {},
   "outputs": [],
   "source": [
    "anime23_df.drop(['Image URL'], axis=1, inplace = True)"
   ]
  },
  {
   "cell_type": "code",
   "execution_count": 13,
   "id": "8e8a100b-f9de-4ef0-b475-401530cc7168",
   "metadata": {},
   "outputs": [
    {
     "data": {
      "text/plain": [
       "Index(['anime_id', 'Name', 'Score', 'Genres', 'Synopsis', 'Type', 'Episodes',\n",
       "       'Aired', 'Premiered', 'Status', 'Producers', 'Licensors', 'Studios',\n",
       "       'Source', 'Duration', 'Rating', 'Rank', 'Popularity', 'Favorites',\n",
       "       'Scored By', 'Members'],\n",
       "      dtype='object')"
      ]
     },
     "execution_count": 13,
     "metadata": {},
     "output_type": "execute_result"
    }
   ],
   "source": [
    "anime23_df.columns"
   ]
  },
  {
   "cell_type": "markdown",
   "id": "71236fb6-65c8-4651-be28-5409396268db",
   "metadata": {},
   "source": [
    "### Kiểu dữ liệu hiện tại của mỗi cột là gì? Có cột nào có kiểu dữ liệu không phù hợp không? \r\n"
   ]
  },
  {
   "cell_type": "code",
   "execution_count": 9,
   "id": "f652f340-077a-420f-a608-b0ef4f742ac2",
   "metadata": {},
   "outputs": [
    {
     "name": "stdout",
     "output_type": "stream",
     "text": [
      "<class 'pandas.core.frame.DataFrame'>\n",
      "RangeIndex: 24905 entries, 0 to 24904\n",
      "Data columns (total 21 columns):\n",
      " #   Column      Non-Null Count  Dtype \n",
      "---  ------      --------------  ----- \n",
      " 0   anime_id    24905 non-null  int64 \n",
      " 1   Name        24905 non-null  object\n",
      " 2   Score       24905 non-null  object\n",
      " 3   Genres      24905 non-null  object\n",
      " 4   Synopsis    24905 non-null  object\n",
      " 5   Type        24905 non-null  object\n",
      " 6   Episodes    24905 non-null  object\n",
      " 7   Aired       24905 non-null  object\n",
      " 8   Premiered   24905 non-null  object\n",
      " 9   Status      24905 non-null  object\n",
      " 10  Producers   24905 non-null  object\n",
      " 11  Licensors   24905 non-null  object\n",
      " 12  Studios     24905 non-null  object\n",
      " 13  Source      24905 non-null  object\n",
      " 14  Duration    24905 non-null  object\n",
      " 15  Rating      24905 non-null  object\n",
      " 16  Rank        24905 non-null  object\n",
      " 17  Popularity  24905 non-null  int64 \n",
      " 18  Favorites   24905 non-null  int64 \n",
      " 19  Scored By   24905 non-null  object\n",
      " 20  Members     24905 non-null  int64 \n",
      "dtypes: int64(4), object(17)\n",
      "memory usage: 4.0+ MB\n"
     ]
    }
   ],
   "source": [
    "#Xem kiểu dữ liệu của từng cột\n",
    "anime23_df.info()"
   ]
  },
  {
   "cell_type": "code",
   "execution_count": 14,
   "id": "a38ac5b9-0d76-479b-9804-b6756956ddec",
   "metadata": {},
   "outputs": [
    {
     "data": {
      "text/plain": [
       "anime_id          0\n",
       "Name              0\n",
       "Score          9213\n",
       "Genres         4929\n",
       "Synopsis          0\n",
       "Type             74\n",
       "Episodes        611\n",
       "Aired             0\n",
       "Premiered     19399\n",
       "Status            0\n",
       "Producers     13350\n",
       "Licensors     20170\n",
       "Studios       10526\n",
       "Source            0\n",
       "Duration          0\n",
       "Rating          669\n",
       "Rank           4612\n",
       "Popularity        0\n",
       "Favorites         0\n",
       "Scored By      9213\n",
       "Members           0\n",
       "dtype: int64"
      ]
     },
     "execution_count": 14,
     "metadata": {},
     "output_type": "execute_result"
    }
   ],
   "source": [
    "unknown_counts = anime23_df.apply(lambda x: x.value_counts().get('UNKNOWN', 0))\n",
    "unknown_counts"
   ]
  },
  {
   "cell_type": "markdown",
   "id": "b5b793c2-4f9c-4553-b838-1178d1cd2b3f",
   "metadata": {},
   "source": [
    "## 8. Với mỗi cột có kiểu dữ liệu dạng số, các giá trị được phân bố như thế nào?"
   ]
  },
  {
   "cell_type": "code",
   "execution_count": null,
   "id": "6424a6e6-e332-45cd-a9d7-9d0a2f4deba5",
   "metadata": {},
   "outputs": [],
   "source": []
  },
  {
   "cell_type": "markdown",
   "id": "b0a8ca63-11b7-4e61-995e-31697ad1776c",
   "metadata": {},
   "source": [
    "## 9. Với mỗi cột có kiểu dữ liệu dạng phân loại, các giá trị được phân bố như thế nào?"
   ]
  },
  {
   "cell_type": "code",
   "execution_count": null,
   "id": "adf33f10-cb25-4ba7-badc-120fd9d51592",
   "metadata": {},
   "outputs": [],
   "source": []
  }
 ],
 "metadata": {
  "kernelspec": {
   "display_name": "Python 3 (ipykernel)",
   "language": "python",
   "name": "python3"
  },
  "language_info": {
   "codemirror_mode": {
    "name": "ipython",
    "version": 3
   },
   "file_extension": ".py",
   "mimetype": "text/x-python",
   "name": "python",
   "nbconvert_exporter": "python",
   "pygments_lexer": "ipython3",
   "version": "3.10.8"
  }
 },
 "nbformat": 4,
 "nbformat_minor": 5
}
