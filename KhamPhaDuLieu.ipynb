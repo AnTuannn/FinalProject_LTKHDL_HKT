{
 "cells": [
  {
   "cell_type": "markdown",
   "id": "269bc2be-ffef-4206-9892-5cb0b93e14b0",
   "metadata": {},
   "source": [
    "# THU THẬP VÀ KHÁM PHÁ DỮ LIỆU"
   ]
  },
  {
   "cell_type": "markdown",
   "id": "f866b830-555b-4130-9548-a95eb5eec745",
   "metadata": {},
   "source": [
    "## 1. Import thư viện cần thiết"
   ]
  },
  {
   "cell_type": "code",
   "execution_count": 1,
   "id": "2734831a-3208-4628-84e8-8d8de47eda20",
   "metadata": {},
   "outputs": [],
   "source": [
    "import numpy as np\n",
    "import pandas as pd\n",
    "import matplotlib.pyplot as plt"
   ]
  },
  {
   "cell_type": "markdown",
   "id": "8086d023-a6f0-4338-88db-4a914819b305",
   "metadata": {},
   "source": [
    "## 2. Đọc dữ liệu từ file csv"
   ]
  },
  {
   "cell_type": "code",
   "execution_count": 2,
   "id": "0d594911-1c20-44bd-9cee-7e438d85a74a",
   "metadata": {},
   "outputs": [],
   "source": [
    "anime23_df = pd.read_csv('anime-dataset-2023.csv')"
   ]
  },
  {
   "cell_type": "markdown",
   "id": "e4f1f30d-43de-48d8-8ea1-cfad1c3661da",
   "metadata": {},
   "source": [
    "### Hiển thị 5 hàng đầu tiên trong tập dữ liệu"
   ]
  },
  {
   "cell_type": "code",
   "execution_count": 3,
   "id": "50e26673-1787-4c5f-9add-46310f1cf2ef",
   "metadata": {},
   "outputs": [
    {
     "data": {
      "text/html": [
       "<div>\n",
       "<style scoped>\n",
       "    .dataframe tbody tr th:only-of-type {\n",
       "        vertical-align: middle;\n",
       "    }\n",
       "\n",
       "    .dataframe tbody tr th {\n",
       "        vertical-align: top;\n",
       "    }\n",
       "\n",
       "    .dataframe thead th {\n",
       "        text-align: right;\n",
       "    }\n",
       "</style>\n",
       "<table border=\"1\" class=\"dataframe\">\n",
       "  <thead>\n",
       "    <tr style=\"text-align: right;\">\n",
       "      <th></th>\n",
       "      <th>anime_id</th>\n",
       "      <th>Name</th>\n",
       "      <th>English name</th>\n",
       "      <th>Other name</th>\n",
       "      <th>Score</th>\n",
       "      <th>Genres</th>\n",
       "      <th>Synopsis</th>\n",
       "      <th>Type</th>\n",
       "      <th>Episodes</th>\n",
       "      <th>Aired</th>\n",
       "      <th>...</th>\n",
       "      <th>Studios</th>\n",
       "      <th>Source</th>\n",
       "      <th>Duration</th>\n",
       "      <th>Rating</th>\n",
       "      <th>Rank</th>\n",
       "      <th>Popularity</th>\n",
       "      <th>Favorites</th>\n",
       "      <th>Scored By</th>\n",
       "      <th>Members</th>\n",
       "      <th>Image URL</th>\n",
       "    </tr>\n",
       "  </thead>\n",
       "  <tbody>\n",
       "    <tr>\n",
       "      <th>0</th>\n",
       "      <td>1</td>\n",
       "      <td>Cowboy Bebop</td>\n",
       "      <td>Cowboy Bebop</td>\n",
       "      <td>カウボーイビバップ</td>\n",
       "      <td>8.75</td>\n",
       "      <td>Action, Award Winning, Sci-Fi</td>\n",
       "      <td>Crime is timeless. By the year 2071, humanity ...</td>\n",
       "      <td>TV</td>\n",
       "      <td>26.0</td>\n",
       "      <td>Apr 3, 1998 to Apr 24, 1999</td>\n",
       "      <td>...</td>\n",
       "      <td>Sunrise</td>\n",
       "      <td>Original</td>\n",
       "      <td>24 min per ep</td>\n",
       "      <td>R - 17+ (violence &amp; profanity)</td>\n",
       "      <td>41.0</td>\n",
       "      <td>43</td>\n",
       "      <td>78525</td>\n",
       "      <td>914193.0</td>\n",
       "      <td>1771505</td>\n",
       "      <td>https://cdn.myanimelist.net/images/anime/4/196...</td>\n",
       "    </tr>\n",
       "    <tr>\n",
       "      <th>1</th>\n",
       "      <td>5</td>\n",
       "      <td>Cowboy Bebop: Tengoku no Tobira</td>\n",
       "      <td>Cowboy Bebop: The Movie</td>\n",
       "      <td>カウボーイビバップ 天国の扉</td>\n",
       "      <td>8.38</td>\n",
       "      <td>Action, Sci-Fi</td>\n",
       "      <td>Another day, another bounty—such is the life o...</td>\n",
       "      <td>Movie</td>\n",
       "      <td>1.0</td>\n",
       "      <td>Sep 1, 2001</td>\n",
       "      <td>...</td>\n",
       "      <td>Bones</td>\n",
       "      <td>Original</td>\n",
       "      <td>1 hr 55 min</td>\n",
       "      <td>R - 17+ (violence &amp; profanity)</td>\n",
       "      <td>189.0</td>\n",
       "      <td>602</td>\n",
       "      <td>1448</td>\n",
       "      <td>206248.0</td>\n",
       "      <td>360978</td>\n",
       "      <td>https://cdn.myanimelist.net/images/anime/1439/...</td>\n",
       "    </tr>\n",
       "    <tr>\n",
       "      <th>2</th>\n",
       "      <td>6</td>\n",
       "      <td>Trigun</td>\n",
       "      <td>Trigun</td>\n",
       "      <td>トライガン</td>\n",
       "      <td>8.22</td>\n",
       "      <td>Action, Adventure, Sci-Fi</td>\n",
       "      <td>Vash the Stampede is the man with a $$60,000,0...</td>\n",
       "      <td>TV</td>\n",
       "      <td>26.0</td>\n",
       "      <td>Apr 1, 1998 to Sep 30, 1998</td>\n",
       "      <td>...</td>\n",
       "      <td>Madhouse</td>\n",
       "      <td>Manga</td>\n",
       "      <td>24 min per ep</td>\n",
       "      <td>PG-13 - Teens 13 or older</td>\n",
       "      <td>328.0</td>\n",
       "      <td>246</td>\n",
       "      <td>15035</td>\n",
       "      <td>356739.0</td>\n",
       "      <td>727252</td>\n",
       "      <td>https://cdn.myanimelist.net/images/anime/7/203...</td>\n",
       "    </tr>\n",
       "    <tr>\n",
       "      <th>3</th>\n",
       "      <td>7</td>\n",
       "      <td>Witch Hunter Robin</td>\n",
       "      <td>Witch Hunter Robin</td>\n",
       "      <td>Witch Hunter ROBIN (ウイッチハンターロビン)</td>\n",
       "      <td>7.25</td>\n",
       "      <td>Action, Drama, Mystery, Supernatural</td>\n",
       "      <td>Robin Sena is a powerful craft user drafted in...</td>\n",
       "      <td>TV</td>\n",
       "      <td>26.0</td>\n",
       "      <td>Jul 3, 2002 to Dec 25, 2002</td>\n",
       "      <td>...</td>\n",
       "      <td>Sunrise</td>\n",
       "      <td>Original</td>\n",
       "      <td>25 min per ep</td>\n",
       "      <td>PG-13 - Teens 13 or older</td>\n",
       "      <td>2764.0</td>\n",
       "      <td>1795</td>\n",
       "      <td>613</td>\n",
       "      <td>42829.0</td>\n",
       "      <td>111931</td>\n",
       "      <td>https://cdn.myanimelist.net/images/anime/10/19...</td>\n",
       "    </tr>\n",
       "    <tr>\n",
       "      <th>4</th>\n",
       "      <td>8</td>\n",
       "      <td>Bouken Ou Beet</td>\n",
       "      <td>Beet the Vandel Buster</td>\n",
       "      <td>冒険王ビィト</td>\n",
       "      <td>6.94</td>\n",
       "      <td>Adventure, Fantasy, Supernatural</td>\n",
       "      <td>It is the dark century and the people are suff...</td>\n",
       "      <td>TV</td>\n",
       "      <td>52.0</td>\n",
       "      <td>Sep 30, 2004 to Sep 29, 2005</td>\n",
       "      <td>...</td>\n",
       "      <td>Toei Animation</td>\n",
       "      <td>Manga</td>\n",
       "      <td>23 min per ep</td>\n",
       "      <td>PG - Children</td>\n",
       "      <td>4240.0</td>\n",
       "      <td>5126</td>\n",
       "      <td>14</td>\n",
       "      <td>6413.0</td>\n",
       "      <td>15001</td>\n",
       "      <td>https://cdn.myanimelist.net/images/anime/7/215...</td>\n",
       "    </tr>\n",
       "  </tbody>\n",
       "</table>\n",
       "<p>5 rows × 24 columns</p>\n",
       "</div>"
      ],
      "text/plain": [
       "   anime_id                             Name             English name  \\\n",
       "0         1                     Cowboy Bebop             Cowboy Bebop   \n",
       "1         5  Cowboy Bebop: Tengoku no Tobira  Cowboy Bebop: The Movie   \n",
       "2         6                           Trigun                   Trigun   \n",
       "3         7               Witch Hunter Robin       Witch Hunter Robin   \n",
       "4         8                   Bouken Ou Beet   Beet the Vandel Buster   \n",
       "\n",
       "                         Other name Score  \\\n",
       "0                         カウボーイビバップ  8.75   \n",
       "1                    カウボーイビバップ 天国の扉  8.38   \n",
       "2                             トライガン  8.22   \n",
       "3  Witch Hunter ROBIN (ウイッチハンターロビン)  7.25   \n",
       "4                            冒険王ビィト  6.94   \n",
       "\n",
       "                                 Genres  \\\n",
       "0         Action, Award Winning, Sci-Fi   \n",
       "1                        Action, Sci-Fi   \n",
       "2             Action, Adventure, Sci-Fi   \n",
       "3  Action, Drama, Mystery, Supernatural   \n",
       "4      Adventure, Fantasy, Supernatural   \n",
       "\n",
       "                                            Synopsis   Type Episodes  \\\n",
       "0  Crime is timeless. By the year 2071, humanity ...     TV     26.0   \n",
       "1  Another day, another bounty—such is the life o...  Movie      1.0   \n",
       "2  Vash the Stampede is the man with a $$60,000,0...     TV     26.0   \n",
       "3  Robin Sena is a powerful craft user drafted in...     TV     26.0   \n",
       "4  It is the dark century and the people are suff...     TV     52.0   \n",
       "\n",
       "                          Aired  ...         Studios    Source       Duration  \\\n",
       "0   Apr 3, 1998 to Apr 24, 1999  ...         Sunrise  Original  24 min per ep   \n",
       "1                   Sep 1, 2001  ...           Bones  Original    1 hr 55 min   \n",
       "2   Apr 1, 1998 to Sep 30, 1998  ...        Madhouse     Manga  24 min per ep   \n",
       "3   Jul 3, 2002 to Dec 25, 2002  ...         Sunrise  Original  25 min per ep   \n",
       "4  Sep 30, 2004 to Sep 29, 2005  ...  Toei Animation     Manga  23 min per ep   \n",
       "\n",
       "                           Rating    Rank Popularity Favorites Scored By  \\\n",
       "0  R - 17+ (violence & profanity)    41.0         43     78525  914193.0   \n",
       "1  R - 17+ (violence & profanity)   189.0        602      1448  206248.0   \n",
       "2       PG-13 - Teens 13 or older   328.0        246     15035  356739.0   \n",
       "3       PG-13 - Teens 13 or older  2764.0       1795       613   42829.0   \n",
       "4                   PG - Children  4240.0       5126        14    6413.0   \n",
       "\n",
       "   Members                                          Image URL  \n",
       "0  1771505  https://cdn.myanimelist.net/images/anime/4/196...  \n",
       "1   360978  https://cdn.myanimelist.net/images/anime/1439/...  \n",
       "2   727252  https://cdn.myanimelist.net/images/anime/7/203...  \n",
       "3   111931  https://cdn.myanimelist.net/images/anime/10/19...  \n",
       "4    15001  https://cdn.myanimelist.net/images/anime/7/215...  \n",
       "\n",
       "[5 rows x 24 columns]"
      ]
     },
     "execution_count": 3,
     "metadata": {},
     "output_type": "execute_result"
    }
   ],
   "source": [
    "anime23_df.head()"
   ]
  },
  {
   "cell_type": "markdown",
   "id": "831939b7-6f1f-45ef-bb8d-0290f3685cca",
   "metadata": {},
   "source": [
    "## 3. Thu thập dữ liệu"
   ]
  },
  {
   "cell_type": "markdown",
   "id": "2bcdfc1b-19bf-4251-a30f-580e074c6652",
   "metadata": {},
   "source": [
    "### Thông tin chung"
   ]
  },
  {
   "cell_type": "markdown",
   "id": "e0d2a55e-8d1d-4853-914e-1a3883940153",
   "metadata": {},
   "source": [
    "- **Chủ đề dữ liệu**: Thông tin về Anime (Phim hoạt hình Nhật Bản)\n",
    "- **Nguồn dữ liệu**: Bộ dữ liệu được lấy trên Kaggle. Link dataset: https://www.kaggle.com/datasets/dbdmobile/myanimelist-dataset\n",
    "- **Bản quyền**: Đây là một Open Database được cấp phép theo Database Contents License (DbCL) v1.0\n",
    "- **Cách tác giả thu thập dữ liệu**: Bộ dữ liệu được thu thập từ nền tảng MyAnimeList, một cộng đồng và cơ sở dữ liệu trực tuyến phổ biến dành cho những người đam mê anime và manga. Nền tảng này cung cấp thông tin về các anime, hồ sơ người dùng và điểm của người dùng đánh giá cho các anime khác nhau. Tác giả sử dụng ngôn ngữ lập trình Python, cùng API Jikan và thư viện Beautiful Soup để trích xuất dữ liệu từ web. Source code hoàn chỉnh cho quy trình thu thập dữ liệu được lưu trữ trên link GitHub của tác giả: https://github.com/Sajid030/anime_dataset_generator\n",
    "- **Ghi chú**: Bộ dữ liệu chứa nhiều file nhưng chúng em chỉ sử dụng file anime-dataset-2023.csv để sử dụng làm tập dữ liệu phục vụ cho đồ án này."
   ]
  },
  {
   "cell_type": "markdown",
   "id": "c80e84d3-f9b9-4d82-9306-7a8be3320060",
   "metadata": {},
   "source": [
    "### Mô tả cụ thể về tập dữ liệu"
   ]
  },
  {
   "cell_type": "markdown",
   "id": "76e4f0bc-9491-4b4c-973c-0fad387d3b44",
   "metadata": {},
   "source": [
    "Tập dữ liệu chứa thông tin đầy đủ và chi tiết về 24.905 bộ anime. File chứa các cột sau (thông tin được lấy từ kaggle):\\\n",
    "1 - anime_id: Unique ID for each anime.\\\n",
    "2 - Name: The name of the anime in its original language.\\\n",
    "3 - English name: The English name of the anime.\\\n",
    "4 - Other name: Native name or title of the anime(can be in Japanese, Chinese or Korean).\\\n",
    "5 - Score: The score or rating given to the anime.\\\n",
    "6 - Genres: The genres of the anime, separated by commas.\\\n",
    "7 - Synopsis: A brief description or summary of the anime's plot.\\\n",
    "8 - Type: The type of the anime (e.g., TV series, movie, OVA, etc.).\\\n",
    "9 - Episodes: The number of episodes in the anime.\\\n",
    "10 - Aired: The dates when the anime was aired.\\\n",
    "11 - Premiered: The season and year when the anime premiered.\\\n",
    "12 - Status: The status of the anime (e.g., Finished Airing, Currently Airing, etc.).\\\n",
    "13 - Producers: The production companies or producers of the anime.\\\n",
    "14 - Licensors: The licensors of the anime (e.g., streaming platforms).\\\n",
    "15 - Studios: The animation studios that worked on the anime.\\\n",
    "16 - Source: The source material of the anime (e.g., manga, light novel, original).\\\n",
    "17 - Duration: The duration of each episode.\\\n",
    "18 - Rating: The age rating of the anime.\\\n",
    "19 - Rank: The rank of the anime based on popularity or other criteria.\\\n",
    "20 - Popularity: The popularity rank of the anime.\\\n",
    "21 - Favorites: The number of times the anime was marked as a favorite by users.\\\n",
    "22 - Scored By: The number of users who scored the anime.\\\n",
    "23 - Members: The number of members who have added the anime to their list on the platform.\\\n",
    "24 - Image URL: The URL of the anime's image or poster."
   ]
  },
  {
   "cell_type": "markdown",
   "id": "7daabe1d-c747-4756-aaab-805dfdc2fae9",
   "metadata": {},
   "source": [
    "## 3. Khám phá và tiền xử lý dữ liệu"
   ]
  },
  {
   "cell_type": "markdown",
   "id": "fa7116e5-2b6f-4f34-85e4-317d3e8ef29e",
   "metadata": {},
   "source": [
    "### 3.1. Số dòng và số cột của tập dữ liệu"
   ]
  },
  {
   "cell_type": "code",
   "execution_count": 4,
   "id": "f118d545-e192-48b4-96fd-22cb1193f378",
   "metadata": {},
   "outputs": [
    {
     "name": "stdout",
     "output_type": "stream",
     "text": [
      "Số dòng của dataset: 24905\n",
      "Số cột của dataset: 24\n"
     ]
    }
   ],
   "source": [
    "nrows, ncols = anime23_df.shape\n",
    "print('Số dòng của dataset:', nrows)\n",
    "print('Số cột của dataset:', ncols)"
   ]
  },
  {
   "cell_type": "markdown",
   "id": "5f895523-c844-4881-8813-d418a2ed04be",
   "metadata": {},
   "source": [
    "### 3.2. Ý nghĩa của mỗi hàng"
   ]
  },
  {
   "cell_type": "markdown",
   "id": "c2677e9b-ff85-4dce-94da-c637e3a1906d",
   "metadata": {},
   "source": [
    "Mỗi hàng chứa thông tin về 1 bộ anime như tên, thể loại, số tập, thời lượng, nhà sản xuất,... và xếp hạng dựa trên một số tiêu chí cũng như là điểm đánh giá trung bình cho anime đó do người dùng đánh giá trên nền tảng MyAnimeList."
   ]
  },
  {
   "cell_type": "markdown",
   "id": "1114f28d-200c-4a04-a48a-dd6804380136",
   "metadata": {},
   "source": [
    "#### Kiểm tra xem có hàng nào trùng lập không?"
   ]
  },
  {
   "cell_type": "code",
   "execution_count": 5,
   "id": "07a548b0-750b-4d4b-b79b-c08b2d4bf182",
   "metadata": {},
   "outputs": [
    {
     "name": "stdout",
     "output_type": "stream",
     "text": [
      "Không có hàng trùng lập\n"
     ]
    }
   ],
   "source": [
    "have_duplicate_rows = anime23_df.duplicated().sum() == nrows\n",
    "if have_duplicate_rows:\n",
    "    print(\"Có hàng trùng lập\")\n",
    "else:\n",
    "    print(\"Không có hàng trùng lập\")"
   ]
  },
  {
   "cell_type": "markdown",
   "id": "c87b3236-df2d-4612-8ee9-56f2786aed73",
   "metadata": {},
   "source": [
    "### 3.3. Ý nghĩa của mỗi cột"
   ]
  },
  {
   "cell_type": "code",
   "execution_count": 6,
   "id": "655e3993-71ca-4748-afc8-06422d40d010",
   "metadata": {},
   "outputs": [
    {
     "data": {
      "text/plain": [
       "Index(['anime_id', 'Name', 'English name', 'Other name', 'Score', 'Genres',\n",
       "       'Synopsis', 'Type', 'Episodes', 'Aired', 'Premiered', 'Status',\n",
       "       'Producers', 'Licensors', 'Studios', 'Source', 'Duration', 'Rating',\n",
       "       'Rank', 'Popularity', 'Favorites', 'Scored By', 'Members', 'Image URL'],\n",
       "      dtype='object')"
      ]
     },
     "execution_count": 6,
     "metadata": {},
     "output_type": "execute_result"
    }
   ],
   "source": [
    "# Xem tên của từng cột\n",
    "anime23_df.columns"
   ]
  },
  {
   "cell_type": "markdown",
   "id": "22438390-b10c-4d71-8271-a4da01aefc6a",
   "metadata": {},
   "source": [
    "#### Ý nghĩa của mỗi cột dựa trên thông tin được cung cấp trên kaggle:\n",
    "- Cột đầu tiên cho biết ID của anime (anime_ID)\n",
    "- Cột thứ hai cho biết tên gốc của anime (Name)\n",
    "- Cột thứ ba cho biết tên tiếng anh của anime (English name)\n",
    "- Cột thứ tư cho biết tên hoặc tiêu đề khác của anime bằng các ngôn ngữ khác nhau (Other name)\n",
    "- Cột thứ năm cho biết điểm số trung bình đánh giá cho anime bởi người dùng (Score)\n",
    "- Cột thứ sáu cho biết thể loại của anime, một anime có thể thuộc nhiều thể loại được phân tách bởi dấu phẩy (Genres)\n",
    "- Cột thứ bảy cho biết mô tả hoặc tóm tắt ngắn gọn về cốt truyện của anime (Synopsis)\n",
    "- Cột thứ tám cho biết anime thuộc dạng phim dài tập hay movie,... (Type)\n",
    "- Cột thứ chín cho biết số tập của anime (Epiosdes)\n",
    "- Cột thứ mười cho biết ngày bắt đầu và kết thúc việc phát sóng anime (Aired)\n",
    "- Cột thứ mười một cho biết mùa và năm mà anime được ra mắt (Premiered)\n",
    "- Cột thứ mười hai cho biết trạng thái hiện tại của anime (Status)\n",
    "- Cột thứ mười ba cho biết công ty hoặc nhà sản xuất của anime (Producers)\n",
    "- Cột thứ mười bốn cho biết những đối tượng có bản quyền của anime (Licensors)\n",
    "- Cột thứ mười lăm cho biết hãng làm phim hoạt hình làm ra anime (Studios)\n",
    "- Cột thứ mười sáu cho biết nguồn tài liệu để làm ra anime (Source)\n",
    "- Cột thứ mười bảy cho biết thời lượng của mỗi tập trong anime (Duration)\n",
    "- Cột thứ mười tám cho biết độ tuổi cho phép để xem anime (Rating)\n",
    "- Cột thứ mười chín cho biết xếp hạng của anime dựa trên mức độ phổ biến hoặc nhiều tiêu chí khác (Rank)\n",
    "- Cột thứ hai mươi cho biết xếp hạng độ phổ biến của anime (Popularity)\n",
    "- Cột thứ hai mươi mốt cho biết số lần mà anime được đánh dấu là yêu thích bởi người dùng (Favorites)\n",
    "- Cột thứ hai mươi hai cho biết số lượng người dùng đã chấm điểm cho anime (Scored By)\n",
    "- Cột thứ hai mươi ba cho biết số lượng người dùng để thêm anime và danh sách của họ trên nền tảng (Members) \n",
    "- Cột thứ hai mươi bốn cho biết đường dẫn của ảnh hoặc poster của anime (Image URL)"
   ]
  },
  {
   "cell_type": "markdown",
   "id": "08271341-eeed-445d-aff3-5230843a06ad",
   "metadata": {},
   "source": [
    "### 3.4. Loại bỏ một số cột không sử dụng"
   ]
  },
  {
   "cell_type": "markdown",
   "id": "ffe176d9-1fbe-4ce9-9378-d7616234d71e",
   "metadata": {},
   "source": [
    "Do có tận 3 cột tên của anime, các cột đều chung ý nghĩa là nói về tên của anime do đó ta chỉ cần sử dụng 1 cột tên là đủ. Vì các cột tên tiếng Anh và các ngôn ngữ khác có thể không có dữ liệu tên nên ta sẽ chỉ giữ lại cột chứa tên gốc của anime `Name` và loại bỏ 2 cột còn lại `English name` và `Other name`."
   ]
  },
  {
   "cell_type": "code",
   "execution_count": 7,
   "id": "76ffcb47-ef20-4c3d-bc78-83a1fc403d0e",
   "metadata": {},
   "outputs": [],
   "source": [
    "anime23_df.drop(['English name', 'Other name'], axis=1, inplace = True)"
   ]
  },
  {
   "cell_type": "markdown",
   "id": "19597ed8-e257-4e5a-95ac-9f3c413154cd",
   "metadata": {},
   "source": [
    "Ngoài ra, chúng em sẽ chỉ giữ lại các cột có được chúng em sử dụng và có nhiều giá trị, và loại bỏ một số cột như:\n",
    "- Image URL: Cột này chỉ lưu lại hình ảnh hay poster của phim không giúp ích trong quá trình khai thác và xử lý dữ liệu.\n",
    "- Synopsis: Cột này chứa thông tin tóm tắt về phim, do không sử dụng tới nên chúng em cũng sẽ loại bỏ nó."
   ]
  },
  {
   "cell_type": "code",
   "execution_count": 8,
   "id": "8952c911-8cf6-4ddb-b202-a294b125cfce",
   "metadata": {},
   "outputs": [],
   "source": [
    "anime23_df.drop(['Image URL', 'Synopsis'], axis=1, inplace = True)"
   ]
  },
  {
   "cell_type": "markdown",
   "id": "5f2d292f-fb7e-40aa-9654-33456b0b310b",
   "metadata": {},
   "source": [
    "Tiếp theo ta xem thử dữ liệu bị thiếu của từng cột để quyết định giữ lại các cột nào "
   ]
  },
  {
   "cell_type": "markdown",
   "id": "51192537-299c-4bd2-ba2b-694d9299ed0a",
   "metadata": {},
   "source": [
    "Ở đây bộ dữ liệu này các dữ liệu `NULL` sẽ được tác giả đánh dấu bằng một chuỗi string `UNKNOWN`. Do đó ta thấy không cột nào có chứa giá trị `NULL`. Do đó ta phải đếm số lượng `UNKNOWN` của từng cột để biết số lượng giá trị `NULL` của các cột trong dataset này."
   ]
  },
  {
   "cell_type": "code",
   "execution_count": 9,
   "id": "a38ac5b9-0d76-479b-9804-b6756956ddec",
   "metadata": {},
   "outputs": [
    {
     "data": {
      "text/plain": [
       "anime_id          0\n",
       "Name              0\n",
       "Score          9213\n",
       "Genres         4929\n",
       "Type             74\n",
       "Episodes        611\n",
       "Aired             0\n",
       "Premiered     19399\n",
       "Status            0\n",
       "Producers     13350\n",
       "Licensors     20170\n",
       "Studios       10526\n",
       "Source            0\n",
       "Duration          0\n",
       "Rating          669\n",
       "Rank           4612\n",
       "Popularity        0\n",
       "Favorites         0\n",
       "Scored By      9213\n",
       "Members           0\n",
       "dtype: int64"
      ]
     },
     "execution_count": 9,
     "metadata": {},
     "output_type": "execute_result"
    }
   ],
   "source": [
    "unknown_counts = anime23_df.apply(lambda x: x.value_counts().get('UNKNOWN', 0))\n",
    "unknown_counts"
   ]
  },
  {
   "cell_type": "markdown",
   "id": "76f23f68-a094-4ee3-b328-466657bcde6d",
   "metadata": {},
   "source": [
    "Sau khi xem qua ta thấy các cột Premiered, và Licensors là các cột có nhiều giá trị `NULL` nhất. Cả 2 đều có giá trị `NULL` chiếm trên 75% giá trị cột do đó hai cột này cũng sẽ không quá nhiều giá trị trong quá trình tính toán nếu so với các cột khác nên chúng em sẽ chọn loại bỏ nó trong bước tiền xử lý dữ liệu."
   ]
  },
  {
   "cell_type": "code",
   "execution_count": 10,
   "id": "0d1a7938-23b5-480a-878c-072681f8263e",
   "metadata": {},
   "outputs": [],
   "source": [
    "anime23_df.drop(['Licensors', 'Premiered'], axis=1, inplace = True)"
   ]
  },
  {
   "cell_type": "markdown",
   "id": "5fec6052-9637-49b5-be61-01a0cade01fe",
   "metadata": {},
   "source": [
    "Và cuối cùng là loại bỏ các cột không sử dụng trong các câu hỏi, và cuối cùng chúng em sẽ giữ lại các cột sau:\n",
    "- Các cột thông tin về anime như: anime_id, Name, Genres, Type, Epiodes, Status, Producers, Studios, Source, Rating.\n",
    "- Các cột về đánh giá điểm hay xếp hạng anime như: Score, Rank, Popularity, Favorites, Scored By, Members."
   ]
  },
  {
   "cell_type": "code",
   "execution_count": 11,
   "id": "b2479dcd-8158-44c8-a2c1-2ac1f100af23",
   "metadata": {},
   "outputs": [],
   "source": [
    "anime23_df.drop(['Aired', 'Duration'], axis=1, inplace = True)"
   ]
  },
  {
   "cell_type": "code",
   "execution_count": 12,
   "id": "c604d172-8c42-4a8a-854d-99980d149f08",
   "metadata": {},
   "outputs": [
    {
     "data": {
      "text/html": [
       "<div>\n",
       "<style scoped>\n",
       "    .dataframe tbody tr th:only-of-type {\n",
       "        vertical-align: middle;\n",
       "    }\n",
       "\n",
       "    .dataframe tbody tr th {\n",
       "        vertical-align: top;\n",
       "    }\n",
       "\n",
       "    .dataframe thead th {\n",
       "        text-align: right;\n",
       "    }\n",
       "</style>\n",
       "<table border=\"1\" class=\"dataframe\">\n",
       "  <thead>\n",
       "    <tr style=\"text-align: right;\">\n",
       "      <th></th>\n",
       "      <th>anime_id</th>\n",
       "      <th>Name</th>\n",
       "      <th>Score</th>\n",
       "      <th>Genres</th>\n",
       "      <th>Type</th>\n",
       "      <th>Episodes</th>\n",
       "      <th>Status</th>\n",
       "      <th>Producers</th>\n",
       "      <th>Studios</th>\n",
       "      <th>Source</th>\n",
       "      <th>Rating</th>\n",
       "      <th>Rank</th>\n",
       "      <th>Popularity</th>\n",
       "      <th>Favorites</th>\n",
       "      <th>Scored By</th>\n",
       "      <th>Members</th>\n",
       "    </tr>\n",
       "  </thead>\n",
       "  <tbody>\n",
       "    <tr>\n",
       "      <th>0</th>\n",
       "      <td>1</td>\n",
       "      <td>Cowboy Bebop</td>\n",
       "      <td>8.75</td>\n",
       "      <td>Action, Award Winning, Sci-Fi</td>\n",
       "      <td>TV</td>\n",
       "      <td>26.0</td>\n",
       "      <td>Finished Airing</td>\n",
       "      <td>Bandai Visual</td>\n",
       "      <td>Sunrise</td>\n",
       "      <td>Original</td>\n",
       "      <td>R - 17+ (violence &amp; profanity)</td>\n",
       "      <td>41.0</td>\n",
       "      <td>43</td>\n",
       "      <td>78525</td>\n",
       "      <td>914193.0</td>\n",
       "      <td>1771505</td>\n",
       "    </tr>\n",
       "    <tr>\n",
       "      <th>1</th>\n",
       "      <td>5</td>\n",
       "      <td>Cowboy Bebop: Tengoku no Tobira</td>\n",
       "      <td>8.38</td>\n",
       "      <td>Action, Sci-Fi</td>\n",
       "      <td>Movie</td>\n",
       "      <td>1.0</td>\n",
       "      <td>Finished Airing</td>\n",
       "      <td>Sunrise, Bandai Visual</td>\n",
       "      <td>Bones</td>\n",
       "      <td>Original</td>\n",
       "      <td>R - 17+ (violence &amp; profanity)</td>\n",
       "      <td>189.0</td>\n",
       "      <td>602</td>\n",
       "      <td>1448</td>\n",
       "      <td>206248.0</td>\n",
       "      <td>360978</td>\n",
       "    </tr>\n",
       "    <tr>\n",
       "      <th>2</th>\n",
       "      <td>6</td>\n",
       "      <td>Trigun</td>\n",
       "      <td>8.22</td>\n",
       "      <td>Action, Adventure, Sci-Fi</td>\n",
       "      <td>TV</td>\n",
       "      <td>26.0</td>\n",
       "      <td>Finished Airing</td>\n",
       "      <td>Victor Entertainment</td>\n",
       "      <td>Madhouse</td>\n",
       "      <td>Manga</td>\n",
       "      <td>PG-13 - Teens 13 or older</td>\n",
       "      <td>328.0</td>\n",
       "      <td>246</td>\n",
       "      <td>15035</td>\n",
       "      <td>356739.0</td>\n",
       "      <td>727252</td>\n",
       "    </tr>\n",
       "    <tr>\n",
       "      <th>3</th>\n",
       "      <td>7</td>\n",
       "      <td>Witch Hunter Robin</td>\n",
       "      <td>7.25</td>\n",
       "      <td>Action, Drama, Mystery, Supernatural</td>\n",
       "      <td>TV</td>\n",
       "      <td>26.0</td>\n",
       "      <td>Finished Airing</td>\n",
       "      <td>Bandai Visual, Dentsu, Victor Entertainment, T...</td>\n",
       "      <td>Sunrise</td>\n",
       "      <td>Original</td>\n",
       "      <td>PG-13 - Teens 13 or older</td>\n",
       "      <td>2764.0</td>\n",
       "      <td>1795</td>\n",
       "      <td>613</td>\n",
       "      <td>42829.0</td>\n",
       "      <td>111931</td>\n",
       "    </tr>\n",
       "    <tr>\n",
       "      <th>4</th>\n",
       "      <td>8</td>\n",
       "      <td>Bouken Ou Beet</td>\n",
       "      <td>6.94</td>\n",
       "      <td>Adventure, Fantasy, Supernatural</td>\n",
       "      <td>TV</td>\n",
       "      <td>52.0</td>\n",
       "      <td>Finished Airing</td>\n",
       "      <td>TV Tokyo, Dentsu</td>\n",
       "      <td>Toei Animation</td>\n",
       "      <td>Manga</td>\n",
       "      <td>PG - Children</td>\n",
       "      <td>4240.0</td>\n",
       "      <td>5126</td>\n",
       "      <td>14</td>\n",
       "      <td>6413.0</td>\n",
       "      <td>15001</td>\n",
       "    </tr>\n",
       "  </tbody>\n",
       "</table>\n",
       "</div>"
      ],
      "text/plain": [
       "   anime_id                             Name Score  \\\n",
       "0         1                     Cowboy Bebop  8.75   \n",
       "1         5  Cowboy Bebop: Tengoku no Tobira  8.38   \n",
       "2         6                           Trigun  8.22   \n",
       "3         7               Witch Hunter Robin  7.25   \n",
       "4         8                   Bouken Ou Beet  6.94   \n",
       "\n",
       "                                 Genres   Type Episodes           Status  \\\n",
       "0         Action, Award Winning, Sci-Fi     TV     26.0  Finished Airing   \n",
       "1                        Action, Sci-Fi  Movie      1.0  Finished Airing   \n",
       "2             Action, Adventure, Sci-Fi     TV     26.0  Finished Airing   \n",
       "3  Action, Drama, Mystery, Supernatural     TV     26.0  Finished Airing   \n",
       "4      Adventure, Fantasy, Supernatural     TV     52.0  Finished Airing   \n",
       "\n",
       "                                           Producers         Studios  \\\n",
       "0                                      Bandai Visual         Sunrise   \n",
       "1                             Sunrise, Bandai Visual           Bones   \n",
       "2                               Victor Entertainment        Madhouse   \n",
       "3  Bandai Visual, Dentsu, Victor Entertainment, T...         Sunrise   \n",
       "4                                   TV Tokyo, Dentsu  Toei Animation   \n",
       "\n",
       "     Source                          Rating    Rank  Popularity  Favorites  \\\n",
       "0  Original  R - 17+ (violence & profanity)    41.0          43      78525   \n",
       "1  Original  R - 17+ (violence & profanity)   189.0         602       1448   \n",
       "2     Manga       PG-13 - Teens 13 or older   328.0         246      15035   \n",
       "3  Original       PG-13 - Teens 13 or older  2764.0        1795        613   \n",
       "4     Manga                   PG - Children  4240.0        5126         14   \n",
       "\n",
       "  Scored By  Members  \n",
       "0  914193.0  1771505  \n",
       "1  206248.0   360978  \n",
       "2  356739.0   727252  \n",
       "3   42829.0   111931  \n",
       "4    6413.0    15001  "
      ]
     },
     "execution_count": 12,
     "metadata": {},
     "output_type": "execute_result"
    }
   ],
   "source": [
    "anime23_df.head()"
   ]
  },
  {
   "cell_type": "code",
   "execution_count": 13,
   "id": "8e8a100b-f9de-4ef0-b475-401530cc7168",
   "metadata": {},
   "outputs": [
    {
     "data": {
      "text/plain": [
       "Index(['anime_id', 'Name', 'Score', 'Genres', 'Type', 'Episodes', 'Status',\n",
       "       'Producers', 'Studios', 'Source', 'Rating', 'Rank', 'Popularity',\n",
       "       'Favorites', 'Scored By', 'Members'],\n",
       "      dtype='object')"
      ]
     },
     "execution_count": 13,
     "metadata": {},
     "output_type": "execute_result"
    }
   ],
   "source": [
    "anime23_df.columns"
   ]
  },
  {
   "cell_type": "markdown",
   "id": "71236fb6-65c8-4651-be28-5409396268db",
   "metadata": {},
   "source": [
    "### 3.5. Kiểu dữ liệu hiện tại của mỗi cột là gì? Có cột nào có kiểu dữ liệu không phù hợp không? \r\n"
   ]
  },
  {
   "cell_type": "markdown",
   "id": "75f8d473-e035-4c80-8376-f524b39f79e7",
   "metadata": {},
   "source": [
    "Tiếp theo ta sẽ thử xem xét các kiểu dữ liệu của của từng cột đã phù hợp chưa. "
   ]
  },
  {
   "cell_type": "code",
   "execution_count": 14,
   "id": "c1d6bf77-2104-47d1-aba1-49d5aef1b3f2",
   "metadata": {},
   "outputs": [
    {
     "name": "stdout",
     "output_type": "stream",
     "text": [
      "<class 'pandas.core.frame.DataFrame'>\n",
      "RangeIndex: 24905 entries, 0 to 24904\n",
      "Data columns (total 16 columns):\n",
      " #   Column      Non-Null Count  Dtype \n",
      "---  ------      --------------  ----- \n",
      " 0   anime_id    24905 non-null  int64 \n",
      " 1   Name        24905 non-null  object\n",
      " 2   Score       24905 non-null  object\n",
      " 3   Genres      24905 non-null  object\n",
      " 4   Type        24905 non-null  object\n",
      " 5   Episodes    24905 non-null  object\n",
      " 6   Status      24905 non-null  object\n",
      " 7   Producers   24905 non-null  object\n",
      " 8   Studios     24905 non-null  object\n",
      " 9   Source      24905 non-null  object\n",
      " 10  Rating      24905 non-null  object\n",
      " 11  Rank        24905 non-null  object\n",
      " 12  Popularity  24905 non-null  int64 \n",
      " 13  Favorites   24905 non-null  int64 \n",
      " 14  Scored By   24905 non-null  object\n",
      " 15  Members     24905 non-null  int64 \n",
      "dtypes: int64(4), object(12)\n",
      "memory usage: 3.0+ MB\n"
     ]
    }
   ],
   "source": [
    "anime23_df.info()"
   ]
  },
  {
   "cell_type": "markdown",
   "id": "624909ed-ab71-48bf-8495-726d13a1cc74",
   "metadata": {},
   "source": [
    "Sau khi xem qua các cột dữ liệu ta thấy các cột nên có dữ liệu dạng số nhưng lại có dữ liệu object do có giá trị UNKNOWN chen vào là: \n",
    "- Score\n",
    "- Episodes\n",
    "- Rank\n",
    "- Scored By \n",
    "\n",
    "Do đó ta sẽ chuẩn hóa kiểu dữ liệu cho các cột này về dạng số."
   ]
  },
  {
   "cell_type": "code",
   "execution_count": 15,
   "id": "da98a824-79f2-47b7-a385-dedbc182f29f",
   "metadata": {},
   "outputs": [],
   "source": [
    "col_convert = ['Score', 'Episodes', 'Rank', 'Scored By']\n",
    "for col in col_convert:\n",
    "    anime23_df[col] = pd.to_numeric(anime23_df[col], errors='coerce')"
   ]
  },
  {
   "cell_type": "code",
   "execution_count": 16,
   "id": "657e6a32-0957-4d3e-a0e1-d41456e5142f",
   "metadata": {
    "scrolled": true
   },
   "outputs": [
    {
     "name": "stdout",
     "output_type": "stream",
     "text": [
      "<class 'pandas.core.frame.DataFrame'>\n",
      "RangeIndex: 24905 entries, 0 to 24904\n",
      "Data columns (total 16 columns):\n",
      " #   Column      Non-Null Count  Dtype  \n",
      "---  ------      --------------  -----  \n",
      " 0   anime_id    24905 non-null  int64  \n",
      " 1   Name        24905 non-null  object \n",
      " 2   Score       15692 non-null  float64\n",
      " 3   Genres      24905 non-null  object \n",
      " 4   Type        24905 non-null  object \n",
      " 5   Episodes    24294 non-null  float64\n",
      " 6   Status      24905 non-null  object \n",
      " 7   Producers   24905 non-null  object \n",
      " 8   Studios     24905 non-null  object \n",
      " 9   Source      24905 non-null  object \n",
      " 10  Rating      24905 non-null  object \n",
      " 11  Rank        20293 non-null  float64\n",
      " 12  Popularity  24905 non-null  int64  \n",
      " 13  Favorites   24905 non-null  int64  \n",
      " 14  Scored By   15692 non-null  float64\n",
      " 15  Members     24905 non-null  int64  \n",
      "dtypes: float64(4), int64(4), object(8)\n",
      "memory usage: 3.0+ MB\n"
     ]
    }
   ],
   "source": [
    "anime23_df.info()"
   ]
  },
  {
   "cell_type": "markdown",
   "id": "6630aea3-a93b-430b-8ddd-d38e5b784068",
   "metadata": {},
   "source": [
    "Các kểu dữ liệu còn lại đã phù hợp với nội dung nên ta sẽ tiếp tục phần tiếp theo"
   ]
  },
  {
   "cell_type": "markdown",
   "id": "b5b793c2-4f9c-4553-b838-1178d1cd2b3f",
   "metadata": {},
   "source": [
    "## 3.6. Với mỗi cột có kiểu dữ liệu dạng số, các giá trị được phân bố như thế nào?"
   ]
  },
  {
   "cell_type": "markdown",
   "id": "fcc72604-d34e-4ad2-890c-5b5c1ed68834",
   "metadata": {},
   "source": [
    "#### Đầu tiên ta sẽ lấy tên các cột có dữ liệu dạng số và lưu vào `numeric_columns`"
   ]
  },
  {
   "cell_type": "code",
   "execution_count": 17,
   "id": "41e8e6d6-58ed-46ca-9964-380799c29d8b",
   "metadata": {},
   "outputs": [
    {
     "data": {
      "text/plain": [
       "Index(['anime_id', 'Score', 'Episodes', 'Rank', 'Popularity', 'Favorites',\n",
       "       'Scored By', 'Members'],\n",
       "      dtype='object')"
      ]
     },
     "execution_count": 17,
     "metadata": {},
     "output_type": "execute_result"
    }
   ],
   "source": [
    "numeric_columns = anime23_df.select_dtypes(include='number').columns[:] \n",
    "numeric_columns"
   ]
  },
  {
   "cell_type": "markdown",
   "id": "acf2b064-3a90-4419-81c6-c4de814302b8",
   "metadata": {},
   "source": [
    "#### Sau đó, ta sẽ xem tỉ lệ giá trị bị thiếu trong các cột dữ liệu kiểu số là bao nhiêu:"
   ]
  },
  {
   "cell_type": "code",
   "execution_count": 18,
   "id": "f6621435-54df-4de1-ba54-57c31cc0baac",
   "metadata": {},
   "outputs": [
    {
     "name": "stdout",
     "output_type": "stream",
     "text": [
      "Phần trăm giá trị còn thiếu của cột 'anime_id' là 0.00%\n",
      "Phần trăm giá trị còn thiếu của cột 'Score' là 36.99%\n",
      "Phần trăm giá trị còn thiếu của cột 'Episodes' là 2.45%\n",
      "Phần trăm giá trị còn thiếu của cột 'Rank' là 18.52%\n",
      "Phần trăm giá trị còn thiếu của cột 'Popularity' là 0.00%\n",
      "Phần trăm giá trị còn thiếu của cột 'Favorites' là 0.00%\n",
      "Phần trăm giá trị còn thiếu của cột 'Scored By' là 36.99%\n",
      "Phần trăm giá trị còn thiếu của cột 'Members' là 0.00%\n"
     ]
    }
   ],
   "source": [
    "percentage_missing_dic = {}\n",
    "for col in numeric_columns:\n",
    "    percentage_missing = anime23_df[col].isna().mean() * 100\n",
    "    percentage_missing_dic[col] = percentage_missing\n",
    "    print(f'Phần trăm giá trị còn thiếu của cột \\'{col}\\' là {percentage_missing:.2f}%')"
   ]
  },
  {
   "cell_type": "markdown",
   "id": "e7591059-0222-4f4d-ae67-c2ab7f7cd958",
   "metadata": {},
   "source": [
    "#### Tiếp theo ta xem qua mô tả của các cột có dữ liệu dạng số xem có gì bất thường không (tối thiểu, tối đa)"
   ]
  },
  {
   "cell_type": "code",
   "execution_count": 19,
   "id": "6424a6e6-e332-45cd-a9d7-9d0a2f4deba5",
   "metadata": {},
   "outputs": [
    {
     "data": {
      "text/html": [
       "<div>\n",
       "<style scoped>\n",
       "    .dataframe tbody tr th:only-of-type {\n",
       "        vertical-align: middle;\n",
       "    }\n",
       "\n",
       "    .dataframe tbody tr th {\n",
       "        vertical-align: top;\n",
       "    }\n",
       "\n",
       "    .dataframe thead th {\n",
       "        text-align: right;\n",
       "    }\n",
       "</style>\n",
       "<table border=\"1\" class=\"dataframe\">\n",
       "  <thead>\n",
       "    <tr style=\"text-align: right;\">\n",
       "      <th></th>\n",
       "      <th>anime_id</th>\n",
       "      <th>Score</th>\n",
       "      <th>Episodes</th>\n",
       "      <th>Rank</th>\n",
       "      <th>Popularity</th>\n",
       "      <th>Favorites</th>\n",
       "      <th>Scored By</th>\n",
       "      <th>Members</th>\n",
       "    </tr>\n",
       "  </thead>\n",
       "  <tbody>\n",
       "    <tr>\n",
       "      <th>count</th>\n",
       "      <td>24905.000000</td>\n",
       "      <td>15692.000000</td>\n",
       "      <td>24294.000000</td>\n",
       "      <td>20293.000000</td>\n",
       "      <td>24905.000000</td>\n",
       "      <td>24905.000000</td>\n",
       "      <td>1.569200e+04</td>\n",
       "      <td>2.490500e+04</td>\n",
       "    </tr>\n",
       "    <tr>\n",
       "      <th>mean</th>\n",
       "      <td>29776.709014</td>\n",
       "      <td>6.380890</td>\n",
       "      <td>14.913518</td>\n",
       "      <td>9960.770167</td>\n",
       "      <td>12265.388356</td>\n",
       "      <td>432.595222</td>\n",
       "      <td>2.997438e+04</td>\n",
       "      <td>3.710496e+04</td>\n",
       "    </tr>\n",
       "    <tr>\n",
       "      <th>std</th>\n",
       "      <td>17976.076290</td>\n",
       "      <td>0.928696</td>\n",
       "      <td>48.581251</td>\n",
       "      <td>5856.990951</td>\n",
       "      <td>7187.428393</td>\n",
       "      <td>4353.181647</td>\n",
       "      <td>1.169348e+05</td>\n",
       "      <td>1.568252e+05</td>\n",
       "    </tr>\n",
       "    <tr>\n",
       "      <th>min</th>\n",
       "      <td>1.000000</td>\n",
       "      <td>1.850000</td>\n",
       "      <td>1.000000</td>\n",
       "      <td>0.000000</td>\n",
       "      <td>0.000000</td>\n",
       "      <td>0.000000</td>\n",
       "      <td>1.000000e+02</td>\n",
       "      <td>0.000000e+00</td>\n",
       "    </tr>\n",
       "    <tr>\n",
       "      <th>25%</th>\n",
       "      <td>10507.000000</td>\n",
       "      <td>5.730000</td>\n",
       "      <td>1.000000</td>\n",
       "      <td>4885.000000</td>\n",
       "      <td>6040.000000</td>\n",
       "      <td>0.000000</td>\n",
       "      <td>3.840000e+02</td>\n",
       "      <td>2.090000e+02</td>\n",
       "    </tr>\n",
       "    <tr>\n",
       "      <th>50%</th>\n",
       "      <td>34628.000000</td>\n",
       "      <td>6.390000</td>\n",
       "      <td>2.000000</td>\n",
       "      <td>9958.000000</td>\n",
       "      <td>12265.000000</td>\n",
       "      <td>1.000000</td>\n",
       "      <td>1.760000e+03</td>\n",
       "      <td>1.056000e+03</td>\n",
       "    </tr>\n",
       "    <tr>\n",
       "      <th>75%</th>\n",
       "      <td>45240.000000</td>\n",
       "      <td>7.060000</td>\n",
       "      <td>13.000000</td>\n",
       "      <td>15032.000000</td>\n",
       "      <td>18491.000000</td>\n",
       "      <td>18.000000</td>\n",
       "      <td>1.085550e+04</td>\n",
       "      <td>9.326000e+03</td>\n",
       "    </tr>\n",
       "    <tr>\n",
       "      <th>max</th>\n",
       "      <td>55735.000000</td>\n",
       "      <td>9.100000</td>\n",
       "      <td>3057.000000</td>\n",
       "      <td>20104.000000</td>\n",
       "      <td>24723.000000</td>\n",
       "      <td>217606.000000</td>\n",
       "      <td>2.660903e+06</td>\n",
       "      <td>3.744541e+06</td>\n",
       "    </tr>\n",
       "  </tbody>\n",
       "</table>\n",
       "</div>"
      ],
      "text/plain": [
       "           anime_id         Score      Episodes          Rank    Popularity  \\\n",
       "count  24905.000000  15692.000000  24294.000000  20293.000000  24905.000000   \n",
       "mean   29776.709014      6.380890     14.913518   9960.770167  12265.388356   \n",
       "std    17976.076290      0.928696     48.581251   5856.990951   7187.428393   \n",
       "min        1.000000      1.850000      1.000000      0.000000      0.000000   \n",
       "25%    10507.000000      5.730000      1.000000   4885.000000   6040.000000   \n",
       "50%    34628.000000      6.390000      2.000000   9958.000000  12265.000000   \n",
       "75%    45240.000000      7.060000     13.000000  15032.000000  18491.000000   \n",
       "max    55735.000000      9.100000   3057.000000  20104.000000  24723.000000   \n",
       "\n",
       "           Favorites     Scored By       Members  \n",
       "count   24905.000000  1.569200e+04  2.490500e+04  \n",
       "mean      432.595222  2.997438e+04  3.710496e+04  \n",
       "std      4353.181647  1.169348e+05  1.568252e+05  \n",
       "min         0.000000  1.000000e+02  0.000000e+00  \n",
       "25%         0.000000  3.840000e+02  2.090000e+02  \n",
       "50%         1.000000  1.760000e+03  1.056000e+03  \n",
       "75%        18.000000  1.085550e+04  9.326000e+03  \n",
       "max    217606.000000  2.660903e+06  3.744541e+06  "
      ]
     },
     "execution_count": 19,
     "metadata": {},
     "output_type": "execute_result"
    }
   ],
   "source": [
    "anime23_df.describe()"
   ]
  },
  {
   "cell_type": "markdown",
   "id": "0081daf3-8b6c-44fd-910c-48b908894e7f",
   "metadata": {},
   "source": [
    "Các cột dữ liệu số không có gì bất thường."
   ]
  },
  {
   "cell_type": "markdown",
   "id": "b0a8ca63-11b7-4e61-995e-31697ad1776c",
   "metadata": {},
   "source": [
    "## 3.7. Với mỗi cột có kiểu dữ liệu dạng phân loại, các giá trị được phân bố như thế nào?"
   ]
  },
  {
   "cell_type": "markdown",
   "id": "2091a121-f435-4ba4-99cf-6d150f017a7b",
   "metadata": {},
   "source": [
    "Ở phần này sẽ có 2 dạng:\n",
    "- Cột có giá trị đơn: Name, Type, Status, Source, Rating.\n",
    "- Cột có nhiều giá trị: Genres, Producer, Studios"
   ]
  },
  {
   "cell_type": "markdown",
   "id": "fe7608be-dac5-435a-89cf-0ec97a96e90b",
   "metadata": {},
   "source": [
    "#### Do đó đầu tiên ta sẽ xử lý trên các cột đơn trước"
   ]
  },
  {
   "cell_type": "markdown",
   "id": "f3370641-f322-4be2-a912-7a1c2c6c293f",
   "metadata": {},
   "source": [
    "Đầu tiên lưu tên các cột có một giá trị vào `single_columns`"
   ]
  },
  {
   "cell_type": "code",
   "execution_count": 20,
   "id": "9afb425f-e56c-44c2-bc59-bda7fd1750ab",
   "metadata": {},
   "outputs": [],
   "source": [
    "single_columns = ['Name', 'Type', 'Status', 'Source', 'Rating']"
   ]
  },
  {
   "cell_type": "markdown",
   "id": "13a47e96-516f-463b-b058-16a1024c60c2",
   "metadata": {},
   "source": [
    "Sau đó tính phần trăm giá trị còn thiếu của mỗi cột này"
   ]
  },
  {
   "cell_type": "code",
   "execution_count": 21,
   "id": "1c91319c-4dd0-4050-b4e3-6db7a6ee4e89",
   "metadata": {},
   "outputs": [
    {
     "name": "stdout",
     "output_type": "stream",
     "text": [
      "Phần trăm giá trị còn thiếu của cột 'Name' là 0.00%\n",
      "Phần trăm giá trị còn thiếu của cột 'Type' là 0.30%\n",
      "Phần trăm giá trị còn thiếu của cột 'Status' là 0.00%\n",
      "Phần trăm giá trị còn thiếu của cột 'Source' là 0.00%\n",
      "Phần trăm giá trị còn thiếu của cột 'Rating' là 2.69%\n"
     ]
    }
   ],
   "source": [
    "for col in single_columns:\n",
    "    percentage_missing = (anime23_df[col] == 'UNKNOWN').mean() * 100\n",
    "    percentage_missing_dic[col] = percentage_missing\n",
    "    print(f'Phần trăm giá trị còn thiếu của cột \\'{col}\\' là {percentage_missing:.2f}%')"
   ]
  },
  {
   "cell_type": "markdown",
   "id": "dea6b658-5f4c-495d-80ff-9ebd8d4dbd3b",
   "metadata": {},
   "source": [
    "Ta thấy các cột này có giá trị thiếu rất ít có thể do các dữ liệu này là các thông tin cơ bản của một anime nên hầu như tất cả các anime được sản xuất đều phải có các thông tin này"
   ]
  },
  {
   "cell_type": "markdown",
   "id": "21e78ef9-56d0-4862-9754-fb28f92f37b9",
   "metadata": {},
   "source": [
    "Lưu số lượng giá trị khác nhau và đếm số lượng từng loại và lưu vào mảng `single_cate_profile`"
   ]
  },
  {
   "cell_type": "code",
   "execution_count": 22,
   "id": "c6f6d729-178d-44d9-8ac3-ac6d6e50e001",
   "metadata": {},
   "outputs": [
    {
     "data": {
      "text/html": [
       "<div>\n",
       "<style scoped>\n",
       "    .dataframe tbody tr th:only-of-type {\n",
       "        vertical-align: middle;\n",
       "    }\n",
       "\n",
       "    .dataframe tbody tr th {\n",
       "        vertical-align: top;\n",
       "    }\n",
       "\n",
       "    .dataframe thead th {\n",
       "        text-align: right;\n",
       "    }\n",
       "</style>\n",
       "<table border=\"1\" class=\"dataframe\">\n",
       "  <thead>\n",
       "    <tr style=\"text-align: right;\">\n",
       "      <th></th>\n",
       "      <th>Name</th>\n",
       "      <th>Type</th>\n",
       "      <th>Status</th>\n",
       "      <th>Source</th>\n",
       "      <th>Rating</th>\n",
       "    </tr>\n",
       "  </thead>\n",
       "  <tbody>\n",
       "    <tr>\n",
       "      <th>num_diff_vals</th>\n",
       "      <td>24901</td>\n",
       "      <td>7</td>\n",
       "      <td>3</td>\n",
       "      <td>17</td>\n",
       "      <td>7</td>\n",
       "    </tr>\n",
       "    <tr>\n",
       "      <th>distribution</th>\n",
       "      <td>{'Azur Lane': 2, 'Utopia': 2, 'Souseiki': 2, '...</td>\n",
       "      <td>{'TV': 7597, 'Movie': 4381, 'OVA': 4076, 'ONA'...</td>\n",
       "      <td>{'Finished Airing': 24070, 'Not yet aired': 48...</td>\n",
       "      <td>{'Original': 9622, 'Manga': 4687, 'Unknown': 3...</td>\n",
       "      <td>{'PG-13 - Teens 13 or older': 8502, 'G - All A...</td>\n",
       "    </tr>\n",
       "  </tbody>\n",
       "</table>\n",
       "</div>"
      ],
      "text/plain": [
       "                                                            Name  \\\n",
       "num_diff_vals                                              24901   \n",
       "distribution   {'Azur Lane': 2, 'Utopia': 2, 'Souseiki': 2, '...   \n",
       "\n",
       "                                                            Type  \\\n",
       "num_diff_vals                                                  7   \n",
       "distribution   {'TV': 7597, 'Movie': 4381, 'OVA': 4076, 'ONA'...   \n",
       "\n",
       "                                                          Status  \\\n",
       "num_diff_vals                                                  3   \n",
       "distribution   {'Finished Airing': 24070, 'Not yet aired': 48...   \n",
       "\n",
       "                                                          Source  \\\n",
       "num_diff_vals                                                 17   \n",
       "distribution   {'Original': 9622, 'Manga': 4687, 'Unknown': 3...   \n",
       "\n",
       "                                                          Rating  \n",
       "num_diff_vals                                                  7  \n",
       "distribution   {'PG-13 - Teens 13 or older': 8502, 'G - All A...  "
      ]
     },
     "execution_count": 22,
     "metadata": {},
     "output_type": "execute_result"
    }
   ],
   "source": [
    "single_cate_profile = pd.DataFrame(index=[\"num_diff_vals\", \"distribution\"])\n",
    "num_diff_vals = anime23_df[single_columns].nunique()\n",
    "distribution = anime23_df[single_columns].agg(lambda column: pd.Series(column).value_counts().to_dict())\n",
    "single_cate_profile[single_columns] = [num_diff_vals, distribution]\n",
    "\n",
    "single_cate_profile"
   ]
  },
  {
   "cell_type": "markdown",
   "id": "be02dfe1-58f0-4f76-a5aa-3347d92a7684",
   "metadata": {},
   "source": [
    "Các cột giá tị không có gì bất thường: Cột name có số giá trị bằng với số cột đảm bảo rằng không có 2 bộ phim trùng tên trong bộ dữ liệu, các giá trị khác đều không có vấn đề gì."
   ]
  },
  {
   "cell_type": "markdown",
   "id": "4f56e893-6740-4583-a73d-c99ccf746642",
   "metadata": {},
   "source": [
    "#### Tiếp theo ta tính toán số lượng các cột có nhiều giá trị"
   ]
  },
  {
   "cell_type": "markdown",
   "id": "be1c48a9-dd42-4132-a898-85defb9add25",
   "metadata": {},
   "source": [
    "Tương tự với cột đơn ta ta tiếp tục lưu tên các cột có nhiều giá trị vào `multi_columns`"
   ]
  },
  {
   "cell_type": "code",
   "execution_count": 36,
   "id": "b2443fa5-1d13-4788-af0d-d7461f29ec6a",
   "metadata": {},
   "outputs": [],
   "source": [
    "multi_columns = ['Genres', 'Producers', 'Studios']"
   ]
  },
  {
   "cell_type": "markdown",
   "id": "06d138ca-30b6-4f34-be7f-8683ad4ef0aa",
   "metadata": {},
   "source": [
    "Sau đó tính giá trị thiếu của các cột này"
   ]
  },
  {
   "cell_type": "code",
   "execution_count": 37,
   "id": "6fdfa81d-7cc2-47e0-a67c-13e675870f11",
   "metadata": {},
   "outputs": [
    {
     "name": "stdout",
     "output_type": "stream",
     "text": [
      "Phần trăm giá trị còn thiếu của cột 'Genres' là 19.79%\n",
      "Phần trăm giá trị còn thiếu của cột 'Producers' là 53.60%\n",
      "Phần trăm giá trị còn thiếu của cột 'Studios' là 42.26%\n"
     ]
    }
   ],
   "source": [
    "for col in multi_columns:\n",
    "    percentage_missing = (anime23_df[col] == 'UNKNOWN').mean() * 100\n",
    "    percentage_missing_dic[col] = percentage_missing\n",
    "    print(f'Phần trăm giá trị còn thiếu của cột \\'{col}\\' là {percentage_missing:.2f}%')"
   ]
  },
  {
   "cell_type": "markdown",
   "id": "a7f70199-998a-45d2-8036-a7f4d164d5df",
   "metadata": {},
   "source": [
    "Rõ ràng, ta nhận thấy rằng các giá trị của cột Producers và Studios có khá nhiều giá trị `UNKNOWN` có thể là do việc tìm kiếm thông tin của Producers hay Studios có thể bị bảo mật hoặc các anime không do các Producers và Studios chuyên nghiệp tổ chức."
   ]
  },
  {
   "cell_type": "markdown",
   "id": "54323753-7c55-40f6-b1a3-beae6c06f2c1",
   "metadata": {},
   "source": [
    "Lưu số lượng giá trị khác nhau và đếm số lượng từng loại và lưu vào mảng `multiple_cate_profile`"
   ]
  },
  {
   "cell_type": "code",
   "execution_count": 49,
   "id": "bd87eac5-fd1a-456f-aada-3cee47858ce1",
   "metadata": {},
   "outputs": [],
   "source": [
    "# Tạo dataframe kết quả\n",
    "def split_and_melt(column):\n",
    "    df_split = column.str.split(', ', expand=True).melt().drop('variable', axis=1)\n",
    "    return df_split['value']\n",
    "long_df = anime23_df[multi_columns].agg(split_and_melt)\n",
    "distribution = long_df.agg(lambda column: pd.Series(column).value_counts().to_dict())\n",
    "num_diff_vals = long_df.nunique()"
   ]
  },
  {
   "cell_type": "code",
   "execution_count": 50,
   "id": "beb31362-4e61-4ed7-b047-c978997eaab6",
   "metadata": {},
   "outputs": [
    {
     "data": {
      "text/html": [
       "<div>\n",
       "<style scoped>\n",
       "    .dataframe tbody tr th:only-of-type {\n",
       "        vertical-align: middle;\n",
       "    }\n",
       "\n",
       "    .dataframe tbody tr th {\n",
       "        vertical-align: top;\n",
       "    }\n",
       "\n",
       "    .dataframe thead th {\n",
       "        text-align: right;\n",
       "    }\n",
       "</style>\n",
       "<table border=\"1\" class=\"dataframe\">\n",
       "  <thead>\n",
       "    <tr style=\"text-align: right;\">\n",
       "      <th></th>\n",
       "      <th>Genres</th>\n",
       "      <th>Producers</th>\n",
       "      <th>Studios</th>\n",
       "    </tr>\n",
       "  </thead>\n",
       "  <tbody>\n",
       "    <tr>\n",
       "      <th>num_diff_vals</th>\n",
       "      <td>22</td>\n",
       "      <td>1549</td>\n",
       "      <td>1044</td>\n",
       "    </tr>\n",
       "    <tr>\n",
       "      <th>distribution</th>\n",
       "      <td>{'Comedy': 7142, 'Fantasy': 5306, 'UNKNOWN': 4...</td>\n",
       "      <td>{'UNKNOWN': 13350, 'NHK': 827, 'Aniplex': 580,...</td>\n",
       "      <td>{'UNKNOWN': 10526, 'Toei Animation': 864, 'Sun...</td>\n",
       "    </tr>\n",
       "  </tbody>\n",
       "</table>\n",
       "</div>"
      ],
      "text/plain": [
       "                                                          Genres  \\\n",
       "num_diff_vals                                                 22   \n",
       "distribution   {'Comedy': 7142, 'Fantasy': 5306, 'UNKNOWN': 4...   \n",
       "\n",
       "                                                       Producers  \\\n",
       "num_diff_vals                                               1549   \n",
       "distribution   {'UNKNOWN': 13350, 'NHK': 827, 'Aniplex': 580,...   \n",
       "\n",
       "                                                         Studios  \n",
       "num_diff_vals                                               1044  \n",
       "distribution   {'UNKNOWN': 10526, 'Toei Animation': 864, 'Sun...  "
      ]
     },
     "execution_count": 50,
     "metadata": {},
     "output_type": "execute_result"
    }
   ],
   "source": [
    "multiple_cate_profile = pd.DataFrame(index=[\"num_diff_vals\", \"distribution\"])\n",
    "multiple_cate_profile[multi_columns] = [num_diff_vals, distribution]\n",
    "\n",
    "multiple_cate_profile"
   ]
  },
  {
   "cell_type": "markdown",
   "id": "2957ff35-7e7e-43f5-bcb9-d08c9f7fe575",
   "metadata": {},
   "source": [
    "Có tổng cộng 21 thể loại, 1548 producer, và 1043 Studios khác nhau còn các giá trị còn lại `UNKNOWN`"
   ]
  },
  {
   "cell_type": "markdown",
   "id": "0490086b-1558-4cd0-adbd-e97be8b610ea",
   "metadata": {},
   "source": [
    "Cuối cùng ta in "
   ]
  }
 ],
 "metadata": {
  "kernelspec": {
   "display_name": "Python 3 (ipykernel)",
   "language": "python",
   "name": "python3"
  },
  "language_info": {
   "codemirror_mode": {
    "name": "ipython",
    "version": 3
   },
   "file_extension": ".py",
   "mimetype": "text/x-python",
   "name": "python",
   "nbconvert_exporter": "python",
   "pygments_lexer": "ipython3",
   "version": "3.10.8"
  }
 },
 "nbformat": 4,
 "nbformat_minor": 5
}
